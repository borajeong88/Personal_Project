{
 "cells": [
  {
   "cell_type": "markdown",
   "id": "826928d3-a357-4219-a66d-465701d98055",
   "metadata": {},
   "source": [
    "## Dataset"
   ]
  },
  {
   "cell_type": "markdown",
   "id": "45d18ba3-f089-490b-8078-5179bdabd1b2",
   "metadata": {},
   "source": [
    "https://www.kaggle.com/datasets/shariful07/student-mental-health"
   ]
  },
  {
   "cell_type": "code",
   "execution_count": 72,
   "id": "8e872601-7495-431b-bfa5-d86242a8bf28",
   "metadata": {},
   "outputs": [],
   "source": [
    "import pandas as pd\n",
    "import numpy as np\n",
    "import seaborn as sns\n",
    "import matplotlib.pyplot as plt"
   ]
  },
  {
   "cell_type": "code",
   "execution_count": 41,
   "id": "38dcd7cd-a7b8-49b3-9762-6fd06efcb773",
   "metadata": {
    "scrolled": true,
    "tags": []
   },
   "outputs": [
    {
     "data": {
      "text/html": [
       "<div>\n",
       "<style scoped>\n",
       "    .dataframe tbody tr th:only-of-type {\n",
       "        vertical-align: middle;\n",
       "    }\n",
       "\n",
       "    .dataframe tbody tr th {\n",
       "        vertical-align: top;\n",
       "    }\n",
       "\n",
       "    .dataframe thead th {\n",
       "        text-align: right;\n",
       "    }\n",
       "</style>\n",
       "<table border=\"1\" class=\"dataframe\">\n",
       "  <thead>\n",
       "    <tr style=\"text-align: right;\">\n",
       "      <th></th>\n",
       "      <th>Timestamp</th>\n",
       "      <th>Choose your gender</th>\n",
       "      <th>Age</th>\n",
       "      <th>What is your course?</th>\n",
       "      <th>Your current year of Study</th>\n",
       "      <th>What is your CGPA?</th>\n",
       "      <th>Marital status</th>\n",
       "      <th>Do you have Depression?</th>\n",
       "      <th>Do you have Anxiety?</th>\n",
       "      <th>Do you have Panic attack?</th>\n",
       "      <th>Did you seek any specialist for a treatment?</th>\n",
       "    </tr>\n",
       "  </thead>\n",
       "  <tbody>\n",
       "    <tr>\n",
       "      <th>0</th>\n",
       "      <td>8/7/2020 12:02</td>\n",
       "      <td>Female</td>\n",
       "      <td>18.0</td>\n",
       "      <td>Engineering</td>\n",
       "      <td>year 1</td>\n",
       "      <td>3.00 - 3.49</td>\n",
       "      <td>No</td>\n",
       "      <td>Yes</td>\n",
       "      <td>No</td>\n",
       "      <td>Yes</td>\n",
       "      <td>No</td>\n",
       "    </tr>\n",
       "    <tr>\n",
       "      <th>1</th>\n",
       "      <td>8/7/2020 12:04</td>\n",
       "      <td>Male</td>\n",
       "      <td>21.0</td>\n",
       "      <td>Islamic education</td>\n",
       "      <td>year 2</td>\n",
       "      <td>3.00 - 3.49</td>\n",
       "      <td>No</td>\n",
       "      <td>No</td>\n",
       "      <td>Yes</td>\n",
       "      <td>No</td>\n",
       "      <td>No</td>\n",
       "    </tr>\n",
       "    <tr>\n",
       "      <th>2</th>\n",
       "      <td>8/7/2020 12:05</td>\n",
       "      <td>Male</td>\n",
       "      <td>19.0</td>\n",
       "      <td>BIT</td>\n",
       "      <td>Year 1</td>\n",
       "      <td>3.00 - 3.49</td>\n",
       "      <td>No</td>\n",
       "      <td>Yes</td>\n",
       "      <td>Yes</td>\n",
       "      <td>Yes</td>\n",
       "      <td>No</td>\n",
       "    </tr>\n",
       "    <tr>\n",
       "      <th>3</th>\n",
       "      <td>8/7/2020 12:06</td>\n",
       "      <td>Female</td>\n",
       "      <td>22.0</td>\n",
       "      <td>Laws</td>\n",
       "      <td>year 3</td>\n",
       "      <td>3.00 - 3.49</td>\n",
       "      <td>Yes</td>\n",
       "      <td>Yes</td>\n",
       "      <td>No</td>\n",
       "      <td>No</td>\n",
       "      <td>No</td>\n",
       "    </tr>\n",
       "    <tr>\n",
       "      <th>4</th>\n",
       "      <td>8/7/2020 12:13</td>\n",
       "      <td>Male</td>\n",
       "      <td>23.0</td>\n",
       "      <td>Mathemathics</td>\n",
       "      <td>year 4</td>\n",
       "      <td>3.00 - 3.49</td>\n",
       "      <td>No</td>\n",
       "      <td>No</td>\n",
       "      <td>No</td>\n",
       "      <td>No</td>\n",
       "      <td>No</td>\n",
       "    </tr>\n",
       "    <tr>\n",
       "      <th>...</th>\n",
       "      <td>...</td>\n",
       "      <td>...</td>\n",
       "      <td>...</td>\n",
       "      <td>...</td>\n",
       "      <td>...</td>\n",
       "      <td>...</td>\n",
       "      <td>...</td>\n",
       "      <td>...</td>\n",
       "      <td>...</td>\n",
       "      <td>...</td>\n",
       "      <td>...</td>\n",
       "    </tr>\n",
       "    <tr>\n",
       "      <th>96</th>\n",
       "      <td>13/07/2020 19:56:49</td>\n",
       "      <td>Female</td>\n",
       "      <td>21.0</td>\n",
       "      <td>BCS</td>\n",
       "      <td>year 1</td>\n",
       "      <td>3.50 - 4.00</td>\n",
       "      <td>No</td>\n",
       "      <td>No</td>\n",
       "      <td>Yes</td>\n",
       "      <td>No</td>\n",
       "      <td>No</td>\n",
       "    </tr>\n",
       "    <tr>\n",
       "      <th>97</th>\n",
       "      <td>13/07/2020 21:21:42</td>\n",
       "      <td>Male</td>\n",
       "      <td>18.0</td>\n",
       "      <td>Engineering</td>\n",
       "      <td>Year 2</td>\n",
       "      <td>3.00 - 3.49</td>\n",
       "      <td>No</td>\n",
       "      <td>Yes</td>\n",
       "      <td>Yes</td>\n",
       "      <td>No</td>\n",
       "      <td>No</td>\n",
       "    </tr>\n",
       "    <tr>\n",
       "      <th>98</th>\n",
       "      <td>13/07/2020 21:22:56</td>\n",
       "      <td>Female</td>\n",
       "      <td>19.0</td>\n",
       "      <td>Nursing</td>\n",
       "      <td>Year 3</td>\n",
       "      <td>3.50 - 4.00</td>\n",
       "      <td>Yes</td>\n",
       "      <td>Yes</td>\n",
       "      <td>No</td>\n",
       "      <td>Yes</td>\n",
       "      <td>No</td>\n",
       "    </tr>\n",
       "    <tr>\n",
       "      <th>99</th>\n",
       "      <td>13/07/2020 21:23:57</td>\n",
       "      <td>Female</td>\n",
       "      <td>23.0</td>\n",
       "      <td>Pendidikan Islam</td>\n",
       "      <td>year 4</td>\n",
       "      <td>3.50 - 4.00</td>\n",
       "      <td>No</td>\n",
       "      <td>No</td>\n",
       "      <td>No</td>\n",
       "      <td>No</td>\n",
       "      <td>No</td>\n",
       "    </tr>\n",
       "    <tr>\n",
       "      <th>100</th>\n",
       "      <td>18/07/2020 20:16:21</td>\n",
       "      <td>Male</td>\n",
       "      <td>20.0</td>\n",
       "      <td>Biomedical science</td>\n",
       "      <td>Year 2</td>\n",
       "      <td>3.00 - 3.49</td>\n",
       "      <td>No</td>\n",
       "      <td>No</td>\n",
       "      <td>No</td>\n",
       "      <td>No</td>\n",
       "      <td>No</td>\n",
       "    </tr>\n",
       "  </tbody>\n",
       "</table>\n",
       "<p>101 rows × 11 columns</p>\n",
       "</div>"
      ],
      "text/plain": [
       "               Timestamp Choose your gender   Age What is your course?  \\\n",
       "0         8/7/2020 12:02             Female  18.0          Engineering   \n",
       "1         8/7/2020 12:04               Male  21.0    Islamic education   \n",
       "2         8/7/2020 12:05               Male  19.0                  BIT   \n",
       "3         8/7/2020 12:06             Female  22.0                 Laws   \n",
       "4         8/7/2020 12:13               Male  23.0         Mathemathics   \n",
       "..                   ...                ...   ...                  ...   \n",
       "96   13/07/2020 19:56:49             Female  21.0                  BCS   \n",
       "97   13/07/2020 21:21:42               Male  18.0          Engineering   \n",
       "98   13/07/2020 21:22:56             Female  19.0             Nursing    \n",
       "99   13/07/2020 21:23:57             Female  23.0     Pendidikan Islam   \n",
       "100  18/07/2020 20:16:21               Male  20.0   Biomedical science   \n",
       "\n",
       "    Your current year of Study What is your CGPA? Marital status  \\\n",
       "0                       year 1        3.00 - 3.49             No   \n",
       "1                       year 2        3.00 - 3.49             No   \n",
       "2                       Year 1        3.00 - 3.49             No   \n",
       "3                       year 3        3.00 - 3.49            Yes   \n",
       "4                       year 4        3.00 - 3.49             No   \n",
       "..                         ...                ...            ...   \n",
       "96                      year 1        3.50 - 4.00             No   \n",
       "97                      Year 2        3.00 - 3.49             No   \n",
       "98                      Year 3        3.50 - 4.00            Yes   \n",
       "99                      year 4        3.50 - 4.00             No   \n",
       "100                     Year 2        3.00 - 3.49             No   \n",
       "\n",
       "    Do you have Depression? Do you have Anxiety? Do you have Panic attack?  \\\n",
       "0                       Yes                   No                       Yes   \n",
       "1                        No                  Yes                        No   \n",
       "2                       Yes                  Yes                       Yes   \n",
       "3                       Yes                   No                        No   \n",
       "4                        No                   No                        No   \n",
       "..                      ...                  ...                       ...   \n",
       "96                       No                  Yes                        No   \n",
       "97                      Yes                  Yes                        No   \n",
       "98                      Yes                   No                       Yes   \n",
       "99                       No                   No                        No   \n",
       "100                      No                   No                        No   \n",
       "\n",
       "    Did you seek any specialist for a treatment?  \n",
       "0                                             No  \n",
       "1                                             No  \n",
       "2                                             No  \n",
       "3                                             No  \n",
       "4                                             No  \n",
       "..                                           ...  \n",
       "96                                            No  \n",
       "97                                            No  \n",
       "98                                            No  \n",
       "99                                            No  \n",
       "100                                           No  \n",
       "\n",
       "[101 rows x 11 columns]"
      ]
     },
     "execution_count": 41,
     "metadata": {},
     "output_type": "execute_result"
    }
   ],
   "source": [
    "df = pd.read_csv('C:/Users/pureg/Desktop/Python공부/Project/3. Keggle_mental health/Student Mental health.csv')\n",
    "df"
   ]
  },
  {
   "cell_type": "markdown",
   "id": "7c5496e6-3f43-445c-b291-db601afd31a9",
   "metadata": {
    "tags": []
   },
   "source": [
    "## Analysis \n",
    "**1. Depression 과 GPA 는 관계가 있는가?** \\\n",
    "**2. Gender 와 GPA 는 관계가 있는가?** \\\n",
    "**3. Course 와 GPA 는 관계가 있는가?** \\\n",
    "**4. 결혼 유무와 우울증이 관계가 있는가**\\\n",
    "**5. Study year 에 따라 우을증 또는 anxiety, panic_attack 이 다른가?**"
   ]
  },
  {
   "cell_type": "code",
   "execution_count": 42,
   "id": "07ac941a-6676-4e3b-bfeb-7ba047634d1f",
   "metadata": {},
   "outputs": [
    {
     "data": {
      "text/plain": [
       "(101, 11)"
      ]
     },
     "execution_count": 42,
     "metadata": {},
     "output_type": "execute_result"
    }
   ],
   "source": [
    "df.shape"
   ]
  },
  {
   "cell_type": "code",
   "execution_count": 43,
   "id": "7de9e1b0-ac47-4a29-84d0-b5ae407b5cc1",
   "metadata": {
    "scrolled": true,
    "tags": []
   },
   "outputs": [
    {
     "name": "stdout",
     "output_type": "stream",
     "text": [
      "<class 'pandas.core.frame.DataFrame'>\n",
      "RangeIndex: 101 entries, 0 to 100\n",
      "Data columns (total 11 columns):\n",
      " #   Column                                        Non-Null Count  Dtype  \n",
      "---  ------                                        --------------  -----  \n",
      " 0   Timestamp                                     101 non-null    object \n",
      " 1   Choose your gender                            101 non-null    object \n",
      " 2   Age                                           100 non-null    float64\n",
      " 3   What is your course?                          101 non-null    object \n",
      " 4   Your current year of Study                    101 non-null    object \n",
      " 5   What is your CGPA?                            101 non-null    object \n",
      " 6   Marital status                                101 non-null    object \n",
      " 7   Do you have Depression?                       101 non-null    object \n",
      " 8   Do you have Anxiety?                          101 non-null    object \n",
      " 9   Do you have Panic attack?                     101 non-null    object \n",
      " 10  Did you seek any specialist for a treatment?  101 non-null    object \n",
      "dtypes: float64(1), object(10)\n",
      "memory usage: 8.8+ KB\n"
     ]
    }
   ],
   "source": [
    "df.info()"
   ]
  },
  {
   "cell_type": "markdown",
   "id": "fbfcd5f5-7e6d-4098-ac07-b870b3e56de9",
   "metadata": {},
   "source": [
    "## Data Wrangling\n",
    "\n",
    "1) Column name 변환\n",
    "2) Timestamp 데이터타입 변환\n",
    "2) Your current year of Study -> value_counts 일관성 있게\n",
    "3) CGPA 전환 -> 가운데 값으로\n",
    "4) Yes 1, No 0 으로 전환 -> Marital Status, Do you have depression?, do you have anxiety?, do you have panic attack?, Did you seek any specialist for a treatment?\n"
   ]
  },
  {
   "cell_type": "markdown",
   "id": "9f7cedbe-4e2f-4ed4-80c8-7bd4267e7f51",
   "metadata": {
    "jp-MarkdownHeadingCollapsed": true,
    "tags": []
   },
   "source": [
    "#### 1) New column name"
   ]
  },
  {
   "cell_type": "code",
   "execution_count": 44,
   "id": "9cce2a36-ead5-407c-bee0-1516eba2d587",
   "metadata": {},
   "outputs": [],
   "source": [
    "new_name = ['Time', 'Gender', 'Age', 'Major', 'Current_year', 'CGPA', 'Marital_status', 'Depression', 'Anxiety', 'Panic_attack', 'Treatment']\n",
    "\n",
    "df.columns = new_name"
   ]
  },
  {
   "cell_type": "markdown",
   "id": "98b7cc30-f9b2-4895-9a65-a41f2dd8a013",
   "metadata": {
    "tags": []
   },
   "source": [
    "#### 2) Timestamp datatype change"
   ]
  },
  {
   "cell_type": "code",
   "execution_count": 45,
   "id": "cbe2828a-2fb4-46bd-a20c-8ca9efb82a06",
   "metadata": {
    "scrolled": true,
    "tags": []
   },
   "outputs": [
    {
     "name": "stdout",
     "output_type": "stream",
     "text": [
      "<class 'pandas.core.frame.DataFrame'>\n",
      "RangeIndex: 101 entries, 0 to 100\n",
      "Data columns (total 11 columns):\n",
      " #   Column          Non-Null Count  Dtype         \n",
      "---  ------          --------------  -----         \n",
      " 0   Time            101 non-null    datetime64[ns]\n",
      " 1   Gender          101 non-null    object        \n",
      " 2   Age             100 non-null    float64       \n",
      " 3   Major           101 non-null    object        \n",
      " 4   Current_year    101 non-null    object        \n",
      " 5   CGPA            101 non-null    object        \n",
      " 6   Marital_status  101 non-null    object        \n",
      " 7   Depression      101 non-null    object        \n",
      " 8   Anxiety         101 non-null    object        \n",
      " 9   Panic_attack    101 non-null    object        \n",
      " 10  Treatment       101 non-null    object        \n",
      "dtypes: datetime64[ns](1), float64(1), object(9)\n",
      "memory usage: 8.8+ KB\n"
     ]
    }
   ],
   "source": [
    "df['Time'] = pd.to_datetime(df['Time'])\n",
    "df.info()"
   ]
  },
  {
   "cell_type": "markdown",
   "id": "e372d1af-9def-4d59-af6a-0865f22cd753",
   "metadata": {
    "tags": []
   },
   "source": [
    "#### 3) Current_year column value revision"
   ]
  },
  {
   "cell_type": "code",
   "execution_count": 46,
   "id": "63c56814-26b5-482c-aa0e-757a5fc3b058",
   "metadata": {},
   "outputs": [
    {
     "data": {
      "text/plain": [
       "year 1    41\n",
       "Year 3    19\n",
       "Year 2    16\n",
       "year 2    10\n",
       "year 4     8\n",
       "year 3     5\n",
       "Year 1     2\n",
       "Name: Current_year, dtype: int64"
      ]
     },
     "execution_count": 46,
     "metadata": {},
     "output_type": "execute_result"
    }
   ],
   "source": [
    "df['Current_year'].value_counts()"
   ]
  },
  {
   "cell_type": "code",
   "execution_count": 47,
   "id": "dc3ff756-9cc2-4ad1-881d-8cf5ac8caa28",
   "metadata": {},
   "outputs": [],
   "source": [
    "# 현재 대, 소문자 혼용 -> Dictionary 를 만들어서 items 를 만들어서 전환한다\n",
    "\n",
    "to_replace = {'Year 3':'year 3', 'Year 2':'year 2','Year 1':'year 1', 'Year 4':'year 4'}\n",
    "\n",
    "for k, v in to_replace.items():\n",
    "    df['Current_year'] = df['Current_year'].str.replace(k, v)\n",
    "    "
   ]
  },
  {
   "cell_type": "code",
   "execution_count": 48,
   "id": "2b8b0e25-8c98-4db3-8301-cbb843e44588",
   "metadata": {},
   "outputs": [
    {
     "data": {
      "text/plain": [
       "year 1    43\n",
       "year 2    26\n",
       "year 3    24\n",
       "year 4     8\n",
       "Name: Current_year, dtype: int64"
      ]
     },
     "execution_count": 48,
     "metadata": {},
     "output_type": "execute_result"
    }
   ],
   "source": [
    "df['Current_year'].value_counts()"
   ]
  },
  {
   "cell_type": "markdown",
   "id": "816ee43f-b60e-412e-84d7-330754bebf00",
   "metadata": {},
   "source": [
    "#### 4) CGPA column value revision"
   ]
  },
  {
   "cell_type": "code",
   "execution_count": 51,
   "id": "408891f5-cab9-4fd3-8e85-6f1522e6e085",
   "metadata": {},
   "outputs": [],
   "source": [
    "# 3.50 - 4.00 가 2개가 있어서 공백 제거\n",
    "\n",
    "df['CGPA'] = df['CGPA'].str.strip()"
   ]
  },
  {
   "cell_type": "code",
   "execution_count": 52,
   "id": "a0bf5911-4106-43cd-b14b-165567ad4279",
   "metadata": {},
   "outputs": [
    {
     "data": {
      "text/plain": [
       "3.50 - 4.00    48\n",
       "3.00 - 3.49    43\n",
       "2.50 - 2.99     4\n",
       "0 - 1.99        4\n",
       "2.00 - 2.49     2\n",
       "Name: CGPA, dtype: int64"
      ]
     },
     "execution_count": 52,
     "metadata": {},
     "output_type": "execute_result"
    }
   ],
   "source": [
    "df['CGPA'].value_counts()"
   ]
  },
  {
   "cell_type": "code",
   "execution_count": 53,
   "id": "814a6c2d-a94f-4274-841e-91974bdffa61",
   "metadata": {},
   "outputs": [
    {
     "name": "stderr",
     "output_type": "stream",
     "text": [
      "C:\\Users\\pureg\\AppData\\Local\\Temp/ipykernel_9676/1816436490.py:11: FutureWarning: The default value of regex will change from True to False in a future version.\n",
      "  df['CGPA'] = df['CGPA'].str.replace(k, v)\n"
     ]
    }
   ],
   "source": [
    "# 중간값으로 전환, 예를 들어 3.50 - 4.00 은 3.75로 전환\n",
    "\n",
    "to_replace2 = {'3.50 - 4.00' : '3.75', \n",
    "               '3.00 - 3.49' : '3.25',\n",
    "               '2.50 - 2.99' : '2.75',\n",
    "               '0 - 1.99' : '1',\n",
    "               '2.00 - 2.49' : '2.25'}\n",
    "\n",
    "\n",
    "for k, v in to_replace2.items():\n",
    "    df['CGPA'] = df['CGPA'].str.replace(k, v)\n",
    "               "
   ]
  },
  {
   "cell_type": "code",
   "execution_count": 54,
   "id": "951fe696-a8bc-4f19-a762-349c3465699e",
   "metadata": {},
   "outputs": [
    {
     "data": {
      "text/plain": [
       "3.75    48\n",
       "3.25    43\n",
       "2.75     4\n",
       "1        4\n",
       "2.25     2\n",
       "Name: CGPA, dtype: int64"
      ]
     },
     "execution_count": 54,
     "metadata": {},
     "output_type": "execute_result"
    }
   ],
   "source": [
    "df['CGPA'].value_counts()"
   ]
  },
  {
   "cell_type": "code",
   "execution_count": 61,
   "id": "5226b23e-ad08-4fb1-b724-bf3fbf5cce3b",
   "metadata": {
    "scrolled": true,
    "tags": []
   },
   "outputs": [
    {
     "name": "stdout",
     "output_type": "stream",
     "text": [
      "<class 'pandas.core.frame.DataFrame'>\n",
      "RangeIndex: 101 entries, 0 to 100\n",
      "Data columns (total 11 columns):\n",
      " #   Column          Non-Null Count  Dtype         \n",
      "---  ------          --------------  -----         \n",
      " 0   Time            101 non-null    datetime64[ns]\n",
      " 1   Gender          101 non-null    object        \n",
      " 2   Age             100 non-null    float64       \n",
      " 3   Major           101 non-null    object        \n",
      " 4   Current_year    101 non-null    object        \n",
      " 5   CGPA            101 non-null    float64       \n",
      " 6   Marital_status  101 non-null    object        \n",
      " 7   Depression      101 non-null    object        \n",
      " 8   Anxiety         101 non-null    object        \n",
      " 9   Panic_attack    101 non-null    object        \n",
      " 10  Treatment       101 non-null    object        \n",
      "dtypes: datetime64[ns](1), float64(2), object(8)\n",
      "memory usage: 8.8+ KB\n"
     ]
    }
   ],
   "source": [
    "# CGPA 데이터 타입 숫자로 변경\n",
    "\n",
    "df['CGPA'] = df['CGPA'].astype('float64')\n",
    "df.info()"
   ]
  },
  {
   "cell_type": "markdown",
   "id": "88731217-0b0a-4b2e-8c14-14e3811de572",
   "metadata": {},
   "source": [
    "#### 5) Value revision (Yes -> 1, No -> 0) on Marital_status, Depression, Anxiety, Panic_attack, Treatment"
   ]
  },
  {
   "cell_type": "code",
   "execution_count": 63,
   "id": "dba0fec1-265c-4d65-ae96-57d01e2c3e2f",
   "metadata": {},
   "outputs": [],
   "source": [
    "# yes 를 1 로 no 를 0 으로 전환\n",
    "\n",
    "to_replace3 = {'Yes' : '1', 'No' : '0'}\n",
    "\n",
    "for k, v in to_replace3.items():\n",
    "    df['Marital_status'] = df['Marital_status'].str.replace(k, v)\n",
    "    df['Depression'] = df['Depression'].str.replace(k, v)\n",
    "    df['Anxiety'] = df['Anxiety'].str.replace(k, v)\n",
    "    df['Panic_attack'] = df['Panic_attack'].str.replace(k, v)\n",
    "    df['Treatment'] = df['Treatment'].str.replace(k, v)\n",
    "    "
   ]
  },
  {
   "cell_type": "code",
   "execution_count": 66,
   "id": "ce981cd4-b748-4f2e-b183-a267c2f7b339",
   "metadata": {},
   "outputs": [
    {
     "name": "stdout",
     "output_type": "stream",
     "text": [
      "<class 'pandas.core.frame.DataFrame'>\n",
      "RangeIndex: 101 entries, 0 to 100\n",
      "Data columns (total 11 columns):\n",
      " #   Column          Non-Null Count  Dtype         \n",
      "---  ------          --------------  -----         \n",
      " 0   Time            101 non-null    datetime64[ns]\n",
      " 1   Gender          101 non-null    object        \n",
      " 2   Age             100 non-null    float64       \n",
      " 3   Major           101 non-null    object        \n",
      " 4   Current_year    101 non-null    object        \n",
      " 5   CGPA            101 non-null    float64       \n",
      " 6   Marital_status  101 non-null    int32         \n",
      " 7   Depression      101 non-null    int32         \n",
      " 8   Anxiety         101 non-null    int32         \n",
      " 9   Panic_attack    101 non-null    int32         \n",
      " 10  Treatment       101 non-null    int32         \n",
      "dtypes: datetime64[ns](1), float64(2), int32(5), object(3)\n",
      "memory usage: 6.8+ KB\n"
     ]
    }
   ],
   "source": [
    "# 데이터 타입 변환\n",
    "\n",
    "df['Marital_status'] = df['Marital_status'].astype('int')\n",
    "df['Depression'] = df['Depression'].astype('int')\n",
    "df['Anxiety'] = df['Anxiety'].astype('int')\n",
    "df['Panic_attack'] = df['Panic_attack'].astype('int')\n",
    "df['Treatment'] = df['Treatment'].astype('int')\n",
    "\n",
    "df.info()"
   ]
  },
  {
   "cell_type": "code",
   "execution_count": 67,
   "id": "b64af822-5c27-4d5b-b5e9-bc9364f15ea6",
   "metadata": {},
   "outputs": [
    {
     "data": {
      "text/html": [
       "<div>\n",
       "<style scoped>\n",
       "    .dataframe tbody tr th:only-of-type {\n",
       "        vertical-align: middle;\n",
       "    }\n",
       "\n",
       "    .dataframe tbody tr th {\n",
       "        vertical-align: top;\n",
       "    }\n",
       "\n",
       "    .dataframe thead th {\n",
       "        text-align: right;\n",
       "    }\n",
       "</style>\n",
       "<table border=\"1\" class=\"dataframe\">\n",
       "  <thead>\n",
       "    <tr style=\"text-align: right;\">\n",
       "      <th></th>\n",
       "      <th>Age</th>\n",
       "      <th>CGPA</th>\n",
       "      <th>Marital_status</th>\n",
       "      <th>Depression</th>\n",
       "      <th>Anxiety</th>\n",
       "      <th>Panic_attack</th>\n",
       "      <th>Treatment</th>\n",
       "    </tr>\n",
       "  </thead>\n",
       "  <tbody>\n",
       "    <tr>\n",
       "      <th>count</th>\n",
       "      <td>100.00000</td>\n",
       "      <td>101.000000</td>\n",
       "      <td>101.000000</td>\n",
       "      <td>101.000000</td>\n",
       "      <td>101.000000</td>\n",
       "      <td>101.000000</td>\n",
       "      <td>101.000000</td>\n",
       "    </tr>\n",
       "    <tr>\n",
       "      <th>mean</th>\n",
       "      <td>20.53000</td>\n",
       "      <td>3.358911</td>\n",
       "      <td>0.158416</td>\n",
       "      <td>0.346535</td>\n",
       "      <td>0.336634</td>\n",
       "      <td>0.326733</td>\n",
       "      <td>0.059406</td>\n",
       "    </tr>\n",
       "    <tr>\n",
       "      <th>std</th>\n",
       "      <td>2.49628</td>\n",
       "      <td>0.583541</td>\n",
       "      <td>0.366952</td>\n",
       "      <td>0.478239</td>\n",
       "      <td>0.474915</td>\n",
       "      <td>0.471358</td>\n",
       "      <td>0.237562</td>\n",
       "    </tr>\n",
       "    <tr>\n",
       "      <th>min</th>\n",
       "      <td>18.00000</td>\n",
       "      <td>1.000000</td>\n",
       "      <td>0.000000</td>\n",
       "      <td>0.000000</td>\n",
       "      <td>0.000000</td>\n",
       "      <td>0.000000</td>\n",
       "      <td>0.000000</td>\n",
       "    </tr>\n",
       "    <tr>\n",
       "      <th>25%</th>\n",
       "      <td>18.00000</td>\n",
       "      <td>3.250000</td>\n",
       "      <td>0.000000</td>\n",
       "      <td>0.000000</td>\n",
       "      <td>0.000000</td>\n",
       "      <td>0.000000</td>\n",
       "      <td>0.000000</td>\n",
       "    </tr>\n",
       "    <tr>\n",
       "      <th>50%</th>\n",
       "      <td>19.00000</td>\n",
       "      <td>3.250000</td>\n",
       "      <td>0.000000</td>\n",
       "      <td>0.000000</td>\n",
       "      <td>0.000000</td>\n",
       "      <td>0.000000</td>\n",
       "      <td>0.000000</td>\n",
       "    </tr>\n",
       "    <tr>\n",
       "      <th>75%</th>\n",
       "      <td>23.00000</td>\n",
       "      <td>3.750000</td>\n",
       "      <td>0.000000</td>\n",
       "      <td>1.000000</td>\n",
       "      <td>1.000000</td>\n",
       "      <td>1.000000</td>\n",
       "      <td>0.000000</td>\n",
       "    </tr>\n",
       "    <tr>\n",
       "      <th>max</th>\n",
       "      <td>24.00000</td>\n",
       "      <td>3.750000</td>\n",
       "      <td>1.000000</td>\n",
       "      <td>1.000000</td>\n",
       "      <td>1.000000</td>\n",
       "      <td>1.000000</td>\n",
       "      <td>1.000000</td>\n",
       "    </tr>\n",
       "  </tbody>\n",
       "</table>\n",
       "</div>"
      ],
      "text/plain": [
       "             Age        CGPA  Marital_status  Depression     Anxiety  \\\n",
       "count  100.00000  101.000000      101.000000  101.000000  101.000000   \n",
       "mean    20.53000    3.358911        0.158416    0.346535    0.336634   \n",
       "std      2.49628    0.583541        0.366952    0.478239    0.474915   \n",
       "min     18.00000    1.000000        0.000000    0.000000    0.000000   \n",
       "25%     18.00000    3.250000        0.000000    0.000000    0.000000   \n",
       "50%     19.00000    3.250000        0.000000    0.000000    0.000000   \n",
       "75%     23.00000    3.750000        0.000000    1.000000    1.000000   \n",
       "max     24.00000    3.750000        1.000000    1.000000    1.000000   \n",
       "\n",
       "       Panic_attack   Treatment  \n",
       "count    101.000000  101.000000  \n",
       "mean       0.326733    0.059406  \n",
       "std        0.471358    0.237562  \n",
       "min        0.000000    0.000000  \n",
       "25%        0.000000    0.000000  \n",
       "50%        0.000000    0.000000  \n",
       "75%        1.000000    0.000000  \n",
       "max        1.000000    1.000000  "
      ]
     },
     "execution_count": 67,
     "metadata": {},
     "output_type": "execute_result"
    }
   ],
   "source": [
    "df.describe()"
   ]
  },
  {
   "cell_type": "code",
   "execution_count": 69,
   "id": "547ce9a6-b316-4e86-8c94-5c898b4f7b96",
   "metadata": {},
   "outputs": [
    {
     "data": {
      "text/plain": [
       "0    95\n",
       "1     6\n",
       "Name: Treatment, dtype: int64"
      ]
     },
     "execution_count": 69,
     "metadata": {},
     "output_type": "execute_result"
    }
   ],
   "source": [
    "df['Treatment'].value_counts()"
   ]
  },
  {
   "cell_type": "code",
   "execution_count": 73,
   "id": "9b95b467-ff82-4a88-9b00-151abdc92345",
   "metadata": {},
   "outputs": [
    {
     "data": {
      "text/html": [
       "<div>\n",
       "<style scoped>\n",
       "    .dataframe tbody tr th:only-of-type {\n",
       "        vertical-align: middle;\n",
       "    }\n",
       "\n",
       "    .dataframe tbody tr th {\n",
       "        vertical-align: top;\n",
       "    }\n",
       "\n",
       "    .dataframe thead th {\n",
       "        text-align: right;\n",
       "    }\n",
       "</style>\n",
       "<table border=\"1\" class=\"dataframe\">\n",
       "  <thead>\n",
       "    <tr style=\"text-align: right;\">\n",
       "      <th></th>\n",
       "      <th>Time</th>\n",
       "      <th>Gender</th>\n",
       "      <th>Age</th>\n",
       "      <th>Major</th>\n",
       "      <th>Current_year</th>\n",
       "      <th>CGPA</th>\n",
       "      <th>Marital_status</th>\n",
       "      <th>Depression</th>\n",
       "      <th>Anxiety</th>\n",
       "      <th>Panic_attack</th>\n",
       "      <th>Treatment</th>\n",
       "    </tr>\n",
       "  </thead>\n",
       "  <tbody>\n",
       "    <tr>\n",
       "      <th>0</th>\n",
       "      <td>2020-08-07 12:02:00</td>\n",
       "      <td>Female</td>\n",
       "      <td>18.0</td>\n",
       "      <td>Engineering</td>\n",
       "      <td>year 1</td>\n",
       "      <td>3.25</td>\n",
       "      <td>0</td>\n",
       "      <td>1</td>\n",
       "      <td>0</td>\n",
       "      <td>1</td>\n",
       "      <td>0</td>\n",
       "    </tr>\n",
       "    <tr>\n",
       "      <th>1</th>\n",
       "      <td>2020-08-07 12:04:00</td>\n",
       "      <td>Male</td>\n",
       "      <td>21.0</td>\n",
       "      <td>Islamic education</td>\n",
       "      <td>year 2</td>\n",
       "      <td>3.25</td>\n",
       "      <td>0</td>\n",
       "      <td>0</td>\n",
       "      <td>1</td>\n",
       "      <td>0</td>\n",
       "      <td>0</td>\n",
       "    </tr>\n",
       "    <tr>\n",
       "      <th>2</th>\n",
       "      <td>2020-08-07 12:05:00</td>\n",
       "      <td>Male</td>\n",
       "      <td>19.0</td>\n",
       "      <td>BIT</td>\n",
       "      <td>year 1</td>\n",
       "      <td>3.25</td>\n",
       "      <td>0</td>\n",
       "      <td>1</td>\n",
       "      <td>1</td>\n",
       "      <td>1</td>\n",
       "      <td>0</td>\n",
       "    </tr>\n",
       "    <tr>\n",
       "      <th>3</th>\n",
       "      <td>2020-08-07 12:06:00</td>\n",
       "      <td>Female</td>\n",
       "      <td>22.0</td>\n",
       "      <td>Laws</td>\n",
       "      <td>year 3</td>\n",
       "      <td>3.25</td>\n",
       "      <td>1</td>\n",
       "      <td>1</td>\n",
       "      <td>0</td>\n",
       "      <td>0</td>\n",
       "      <td>0</td>\n",
       "    </tr>\n",
       "    <tr>\n",
       "      <th>4</th>\n",
       "      <td>2020-08-07 12:13:00</td>\n",
       "      <td>Male</td>\n",
       "      <td>23.0</td>\n",
       "      <td>Mathemathics</td>\n",
       "      <td>year 4</td>\n",
       "      <td>3.25</td>\n",
       "      <td>0</td>\n",
       "      <td>0</td>\n",
       "      <td>0</td>\n",
       "      <td>0</td>\n",
       "      <td>0</td>\n",
       "    </tr>\n",
       "  </tbody>\n",
       "</table>\n",
       "</div>"
      ],
      "text/plain": [
       "                 Time  Gender   Age              Major Current_year  CGPA  \\\n",
       "0 2020-08-07 12:02:00  Female  18.0        Engineering       year 1  3.25   \n",
       "1 2020-08-07 12:04:00    Male  21.0  Islamic education       year 2  3.25   \n",
       "2 2020-08-07 12:05:00    Male  19.0                BIT       year 1  3.25   \n",
       "3 2020-08-07 12:06:00  Female  22.0               Laws       year 3  3.25   \n",
       "4 2020-08-07 12:13:00    Male  23.0       Mathemathics       year 4  3.25   \n",
       "\n",
       "   Marital_status  Depression  Anxiety  Panic_attack  Treatment  \n",
       "0               0           1        0             1          0  \n",
       "1               0           0        1             0          0  \n",
       "2               0           1        1             1          0  \n",
       "3               1           1        0             0          0  \n",
       "4               0           0        0             0          0  "
      ]
     },
     "execution_count": 73,
     "metadata": {},
     "output_type": "execute_result"
    }
   ],
   "source": [
    "df.head(5)"
   ]
  },
  {
   "cell_type": "markdown",
   "id": "5f88981c-ad67-4b6d-b099-efe54ebf0c66",
   "metadata": {},
   "source": [
    "## Exploratory Data Analysis (EDA)"
   ]
  },
  {
   "cell_type": "markdown",
   "id": "3d53c01c-1045-459e-9286-8e35ca5db568",
   "metadata": {
    "tags": []
   },
   "source": [
    "#### 1. Depression 과 GPA 는 관계가 있는가?\n",
    "\n",
    "*약간의 연관성이 있는 것도 같지만 크게 있지는 않고, 남, 녀 따로 봤을 때는 남성은 거의 없다*"
   ]
  },
  {
   "cell_type": "code",
   "execution_count": 75,
   "id": "4bb3e162-7e27-44ad-b048-6146c74dacee",
   "metadata": {},
   "outputs": [
    {
     "data": {
      "text/plain": [
       "Depression\n",
       "0    3.75\n",
       "1    3.25\n",
       "Name: CGPA, dtype: float64"
      ]
     },
     "execution_count": 75,
     "metadata": {},
     "output_type": "execute_result"
    }
   ],
   "source": [
    "# Median 값 비교\n",
    "\n",
    "df.groupby('Depression')['CGPA'].median()"
   ]
  },
  {
   "cell_type": "code",
   "execution_count": 76,
   "id": "d3d1ed5f-b4bf-4bee-b73d-64b80b6d1fd2",
   "metadata": {},
   "outputs": [
    {
     "data": {
      "text/plain": [
       "Depression\n",
       "0    3.340909\n",
       "1    3.392857\n",
       "Name: CGPA, dtype: float64"
      ]
     },
     "execution_count": 76,
     "metadata": {},
     "output_type": "execute_result"
    }
   ],
   "source": [
    "# Mean 값 비교\n",
    "\n",
    "df.groupby('Depression')['CGPA'].mean()"
   ]
  },
  {
   "cell_type": "code",
   "execution_count": 97,
   "id": "0dd2cae5-536c-4372-890c-ee12b5d50836",
   "metadata": {},
   "outputs": [
    {
     "name": "stdout",
     "output_type": "stream",
     "text": [
      "                mean           median      \n",
      "Gender        Female      Male Female  Male\n",
      "Depression                                 \n",
      "0           3.413043  3.175000   3.75  3.25\n",
      "1           3.405172  3.333333   3.25  3.25\n"
     ]
    }
   ],
   "source": [
    "pdf = pd.pivot_table(df,\n",
    "                     index='Depression',\n",
    "                     columns='Gender',\n",
    "                     values='CGPA',\n",
    "                     aggfunc=['mean','median'])\n",
    "\n",
    "print(pdf)"
   ]
  },
  {
   "cell_type": "code",
   "execution_count": 105,
   "id": "ae1981ad-b27c-4009-aa1d-97bc83ca62bd",
   "metadata": {},
   "outputs": [
    {
     "name": "stdout",
     "output_type": "stream",
     "text": [
      "Gender  Depression\n",
      "Female  0             3.413043\n",
      "        1             3.405172\n",
      "Male    0             3.175000\n",
      "        1             3.333333\n",
      "Name: CGPA, dtype: float64\n"
     ]
    },
    {
     "data": {
      "image/png": "[encoded data removed]",
      "text/plain": [
       "<Figure size 432x288 with 1 Axes>"
      ]
     },
     "metadata": {
      "needs_background": "light"
     },
     "output_type": "display_data"
    }
   ],
   "source": [
    "df_bar = df.groupby(['Gender', 'Depression'])['CGPA'].mean()\n",
    "\n",
    "print(df_bar)\n",
    "\n",
    "df_bar.plot(kind='bar')\n",
    "\n",
    "plt.show()"
   ]
  },
  {
   "cell_type": "code",
   "execution_count": 99,
   "id": "41d4c6e9-5bde-4721-b7ec-80386383c9cb",
   "metadata": {},
   "outputs": [
    {
     "data": {
      "image/png": "[encoded data removed]",
      "text/plain": [
       "<Figure size 720x720 with 2 Axes>"
      ]
     },
     "metadata": {
      "needs_background": "light"
     },
     "output_type": "display_data"
    }
   ],
   "source": [
    "# boxplot, violinplot 그리기\n",
    "\n",
    "fig = plt.figure(figsize=(10, 10))\n",
    "\n",
    "ax1 = fig.add_subplot(2, 1, 1)\n",
    "ax2 = fig.add_subplot(2, 1, 2)\n",
    "\n",
    "\n",
    "sns.boxplot(x='Depression', y='CGPA', data=df, ax=ax1)\n",
    "sns.violinplot(x='Depression', y='CGPA', data=df, ax=ax2)\n",
    "\n",
    "plt.show()"
   ]
  },
  {
   "cell_type": "markdown",
   "id": "2028edfc-e1e9-4450-b3c6-bb1343a81a5d",
   "metadata": {
    "tags": []
   },
   "source": [
    "#### 2. Gender 와 GPA 는 관계가 있는가?\n",
    "\n",
    "*여성이 남성보다 GPA 가 약간 높다*"
   ]
  },
  {
   "cell_type": "code",
   "execution_count": 118,
   "id": "bd38d2ef-c432-4c60-ba91-d51ee1801f12",
   "metadata": {},
   "outputs": [
    {
     "data": {
      "text/html": [
       "<div>\n",
       "<style scoped>\n",
       "    .dataframe tbody tr th:only-of-type {\n",
       "        vertical-align: middle;\n",
       "    }\n",
       "\n",
       "    .dataframe tbody tr th {\n",
       "        vertical-align: top;\n",
       "    }\n",
       "\n",
       "    .dataframe thead tr th {\n",
       "        text-align: left;\n",
       "    }\n",
       "</style>\n",
       "<table border=\"1\" class=\"dataframe\">\n",
       "  <thead>\n",
       "    <tr>\n",
       "      <th></th>\n",
       "      <th>Gender</th>\n",
       "      <th>mean</th>\n",
       "      <th>median</th>\n",
       "    </tr>\n",
       "    <tr>\n",
       "      <th></th>\n",
       "      <th></th>\n",
       "      <th>CGPA</th>\n",
       "      <th>CGPA</th>\n",
       "    </tr>\n",
       "  </thead>\n",
       "  <tbody>\n",
       "    <tr>\n",
       "      <th>0</th>\n",
       "      <td>Female</td>\n",
       "      <td>3.410000</td>\n",
       "      <td>3.75</td>\n",
       "    </tr>\n",
       "    <tr>\n",
       "      <th>1</th>\n",
       "      <td>Male</td>\n",
       "      <td>3.211538</td>\n",
       "      <td>3.25</td>\n",
       "    </tr>\n",
       "    <tr>\n",
       "      <th>2</th>\n",
       "      <td>All</td>\n",
       "      <td>3.358911</td>\n",
       "      <td>3.25</td>\n",
       "    </tr>\n",
       "  </tbody>\n",
       "</table>\n",
       "</div>"
      ],
      "text/plain": [
       "   Gender      mean median\n",
       "               CGPA   CGPA\n",
       "0  Female  3.410000   3.75\n",
       "1    Male  3.211538   3.25\n",
       "2     All  3.358911   3.25"
      ]
     },
     "execution_count": 118,
     "metadata": {},
     "output_type": "execute_result"
    }
   ],
   "source": [
    "# pivot table 이용하여 gender 별로 mean, median 구하기\n",
    "\n",
    "pdf2 = pd.pivot_table(df,\n",
    "                     index='Gender',\n",
    "                     values='CGPA',\n",
    "                     aggfunc=['mean','median'],\n",
    "                     margins=True).reset_index()\n",
    "\n",
    "pdf2"
   ]
  },
  {
   "cell_type": "code",
   "execution_count": 119,
   "id": "12ba01e0-0b5d-4b13-be8a-5f37340d445b",
   "metadata": {},
   "outputs": [
    {
     "data": {
      "image/png": "[encoded data removed]",
      "text/plain": [
       "<Figure size 432x288 with 1 Axes>"
      ]
     },
     "metadata": {
      "needs_background": "light"
     },
     "output_type": "display_data"
    },
    {
     "data": {
      "text/plain": [
       "<Figure size 720x720 with 0 Axes>"
      ]
     },
     "metadata": {},
     "output_type": "display_data"
    }
   ],
   "source": [
    "# bar chart\n",
    "\n",
    "df_bar2 = df.groupby('Gender')['CGPA'].mean()\n",
    "\n",
    "df_bar2.plot(kind='bar')\n",
    "\n",
    "plt.figure(figsize=(10, 10))\n",
    "plt.show()"
   ]
  },
  {
   "cell_type": "markdown",
   "id": "835efc1e-63ad-43f4-8e95-1482f509a449",
   "metadata": {
    "tags": []
   },
   "source": [
    "### 3. 결혼 유무와 우울증이 관계가 있나\n",
    "\n",
    "*응답자의 다수가 미혼이여서 절대적 비교는 불가하지만, 응답자 데이터만 놓고 보면 기혼자들의 경우 Depression 과 Panic_attack 비율이 높다..*"
   ]
  },
  {
   "cell_type": "code",
   "execution_count": 137,
   "id": "bce7bbba-74df-410d-b537-2561e610fa8d",
   "metadata": {},
   "outputs": [
    {
     "data": {
      "text/plain": [
       "0    85\n",
       "1    16\n",
       "Name: Marital_status, dtype: int64"
      ]
     },
     "execution_count": 137,
     "metadata": {},
     "output_type": "execute_result"
    }
   ],
   "source": [
    "df['Marital_status'].value_counts()"
   ]
  },
  {
   "cell_type": "code",
   "execution_count": 136,
   "id": "c24e2eab-feef-40b5-84f3-d933203d2689",
   "metadata": {},
   "outputs": [
    {
     "data": {
      "text/html": [
       "<div>\n",
       "<style scoped>\n",
       "    .dataframe tbody tr th:only-of-type {\n",
       "        vertical-align: middle;\n",
       "    }\n",
       "\n",
       "    .dataframe tbody tr th {\n",
       "        vertical-align: top;\n",
       "    }\n",
       "\n",
       "    .dataframe thead th {\n",
       "        text-align: right;\n",
       "    }\n",
       "</style>\n",
       "<table border=\"1\" class=\"dataframe\">\n",
       "  <thead>\n",
       "    <tr style=\"text-align: right;\">\n",
       "      <th></th>\n",
       "      <th>Anxiety</th>\n",
       "      <th>Depression</th>\n",
       "      <th>Panic_attack</th>\n",
       "    </tr>\n",
       "    <tr>\n",
       "      <th>Marital_status</th>\n",
       "      <th></th>\n",
       "      <th></th>\n",
       "      <th></th>\n",
       "    </tr>\n",
       "  </thead>\n",
       "  <tbody>\n",
       "    <tr>\n",
       "      <th>0</th>\n",
       "      <td>0.317647</td>\n",
       "      <td>0.223529</td>\n",
       "      <td>0.270588</td>\n",
       "    </tr>\n",
       "    <tr>\n",
       "      <th>1</th>\n",
       "      <td>0.437500</td>\n",
       "      <td>1.000000</td>\n",
       "      <td>0.625000</td>\n",
       "    </tr>\n",
       "  </tbody>\n",
       "</table>\n",
       "</div>"
      ],
      "text/plain": [
       "                 Anxiety  Depression  Panic_attack\n",
       "Marital_status                                    \n",
       "0               0.317647    0.223529      0.270588\n",
       "1               0.437500    1.000000      0.625000"
      ]
     },
     "execution_count": 136,
     "metadata": {},
     "output_type": "execute_result"
    }
   ],
   "source": [
    "# pivot table 로 결혼 유무에 따라 Depression, Anxiety, Panic attack 정도 살피기\n",
    "\n",
    "pdf3 = pd.pivot_table(df,\n",
    "                     index='Marital_status',\n",
    "                     values=['Depression', 'Anxiety', 'Panic_attack'],\n",
    "                     aggfunc='mean')\n",
    "\n",
    "pdf3"
   ]
  },
  {
   "cell_type": "markdown",
   "id": "30d2e94c-f993-49e5-b06b-9eec933bdafa",
   "metadata": {},
   "source": [
    "### 4. Study year 에 따라 Depression 또는 anxiety, panic_attack 이 다른가\n",
    "\n",
    "*나의 가설은 '취업을 앞둔 4학년이 우울증이나 불안이 높을 것이다' 였는데, 생각보다 2, 3학년이 높다, 1학년과는 크게 차이가 없다*"
   ]
  },
  {
   "cell_type": "code",
   "execution_count": 139,
   "id": "d5f7b192-4a18-48b7-9b15-bc9122f32d14",
   "metadata": {},
   "outputs": [
    {
     "data": {
      "text/plain": [
       "year 1    43\n",
       "year 2    26\n",
       "year 3    24\n",
       "year 4     8\n",
       "Name: Current_year, dtype: int64"
      ]
     },
     "execution_count": 139,
     "metadata": {},
     "output_type": "execute_result"
    }
   ],
   "source": [
    "df['Current_year'].value_counts()"
   ]
  },
  {
   "cell_type": "code",
   "execution_count": 140,
   "id": "09e128e0-07e2-4aa8-9cdc-e974890f113a",
   "metadata": {},
   "outputs": [
    {
     "data": {
      "text/html": [
       "<div>\n",
       "<style scoped>\n",
       "    .dataframe tbody tr th:only-of-type {\n",
       "        vertical-align: middle;\n",
       "    }\n",
       "\n",
       "    .dataframe tbody tr th {\n",
       "        vertical-align: top;\n",
       "    }\n",
       "\n",
       "    .dataframe thead th {\n",
       "        text-align: right;\n",
       "    }\n",
       "</style>\n",
       "<table border=\"1\" class=\"dataframe\">\n",
       "  <thead>\n",
       "    <tr style=\"text-align: right;\">\n",
       "      <th></th>\n",
       "      <th>Anxiety</th>\n",
       "      <th>Depression</th>\n",
       "      <th>Panic_attack</th>\n",
       "    </tr>\n",
       "    <tr>\n",
       "      <th>Current_year</th>\n",
       "      <th></th>\n",
       "      <th></th>\n",
       "      <th></th>\n",
       "    </tr>\n",
       "  </thead>\n",
       "  <tbody>\n",
       "    <tr>\n",
       "      <th>year 1</th>\n",
       "      <td>0.325581</td>\n",
       "      <td>0.325581</td>\n",
       "      <td>0.325581</td>\n",
       "    </tr>\n",
       "    <tr>\n",
       "      <th>year 2</th>\n",
       "      <td>0.384615</td>\n",
       "      <td>0.384615</td>\n",
       "      <td>0.307692</td>\n",
       "    </tr>\n",
       "    <tr>\n",
       "      <th>year 3</th>\n",
       "      <td>0.333333</td>\n",
       "      <td>0.416667</td>\n",
       "      <td>0.416667</td>\n",
       "    </tr>\n",
       "    <tr>\n",
       "      <th>year 4</th>\n",
       "      <td>0.250000</td>\n",
       "      <td>0.125000</td>\n",
       "      <td>0.125000</td>\n",
       "    </tr>\n",
       "  </tbody>\n",
       "</table>\n",
       "</div>"
      ],
      "text/plain": [
       "               Anxiety  Depression  Panic_attack\n",
       "Current_year                                    \n",
       "year 1        0.325581    0.325581      0.325581\n",
       "year 2        0.384615    0.384615      0.307692\n",
       "year 3        0.333333    0.416667      0.416667\n",
       "year 4        0.250000    0.125000      0.125000"
      ]
     },
     "execution_count": 140,
     "metadata": {},
     "output_type": "execute_result"
    }
   ],
   "source": [
    "# 학년별 Depression, Anxiety, Panic_attack\n",
    "\n",
    "pdf4 = pd.pivot_table(df,\n",
    "                      index='Current_year',\n",
    "                      values=['Depression', 'Anxiety', 'Panic_attack'],\n",
    "                      aggfunc='mean')\n",
    "\n",
    "pdf4"
   ]
  },
  {
   "cell_type": "code",
   "execution_count": 154,
   "id": "ab86b4c4-7f3e-4200-865d-4796c5b248a4",
   "metadata": {},
   "outputs": [
    {
     "data": {
      "text/html": [
       "<div>\n",
       "<style scoped>\n",
       "    .dataframe tbody tr th:only-of-type {\n",
       "        vertical-align: middle;\n",
       "    }\n",
       "\n",
       "    .dataframe tbody tr th {\n",
       "        vertical-align: top;\n",
       "    }\n",
       "\n",
       "    .dataframe thead tr th {\n",
       "        text-align: left;\n",
       "    }\n",
       "\n",
       "    .dataframe thead tr:last-of-type th {\n",
       "        text-align: right;\n",
       "    }\n",
       "</style>\n",
       "<table border=\"1\" class=\"dataframe\">\n",
       "  <thead>\n",
       "    <tr>\n",
       "      <th></th>\n",
       "      <th colspan=\"2\" halign=\"left\">Anxiety</th>\n",
       "      <th colspan=\"2\" halign=\"left\">Depression</th>\n",
       "      <th colspan=\"2\" halign=\"left\">Panic_attack</th>\n",
       "    </tr>\n",
       "    <tr>\n",
       "      <th>Gender</th>\n",
       "      <th>Female</th>\n",
       "      <th>Male</th>\n",
       "      <th>Female</th>\n",
       "      <th>Male</th>\n",
       "      <th>Female</th>\n",
       "      <th>Male</th>\n",
       "    </tr>\n",
       "    <tr>\n",
       "      <th>Current_year</th>\n",
       "      <th></th>\n",
       "      <th></th>\n",
       "      <th></th>\n",
       "      <th></th>\n",
       "      <th></th>\n",
       "      <th></th>\n",
       "    </tr>\n",
       "  </thead>\n",
       "  <tbody>\n",
       "    <tr>\n",
       "      <th>year 1</th>\n",
       "      <td>0.303030</td>\n",
       "      <td>0.400000</td>\n",
       "      <td>0.393939</td>\n",
       "      <td>0.100000</td>\n",
       "      <td>0.303030</td>\n",
       "      <td>0.400000</td>\n",
       "    </tr>\n",
       "    <tr>\n",
       "      <th>year 2</th>\n",
       "      <td>0.333333</td>\n",
       "      <td>0.454545</td>\n",
       "      <td>0.400000</td>\n",
       "      <td>0.363636</td>\n",
       "      <td>0.333333</td>\n",
       "      <td>0.272727</td>\n",
       "    </tr>\n",
       "    <tr>\n",
       "      <th>year 3</th>\n",
       "      <td>0.350000</td>\n",
       "      <td>0.250000</td>\n",
       "      <td>0.450000</td>\n",
       "      <td>0.250000</td>\n",
       "      <td>0.450000</td>\n",
       "      <td>0.250000</td>\n",
       "    </tr>\n",
       "    <tr>\n",
       "      <th>year 4</th>\n",
       "      <td>0.285714</td>\n",
       "      <td>0.000000</td>\n",
       "      <td>0.142857</td>\n",
       "      <td>0.000000</td>\n",
       "      <td>0.142857</td>\n",
       "      <td>0.000000</td>\n",
       "    </tr>\n",
       "  </tbody>\n",
       "</table>\n",
       "</div>"
      ],
      "text/plain": [
       "               Anxiety           Depression           Panic_attack          \n",
       "Gender          Female      Male     Female      Male       Female      Male\n",
       "Current_year                                                                \n",
       "year 1        0.303030  0.400000   0.393939  0.100000     0.303030  0.400000\n",
       "year 2        0.333333  0.454545   0.400000  0.363636     0.333333  0.272727\n",
       "year 3        0.350000  0.250000   0.450000  0.250000     0.450000  0.250000\n",
       "year 4        0.285714  0.000000   0.142857  0.000000     0.142857  0.000000"
      ]
     },
     "execution_count": 154,
     "metadata": {},
     "output_type": "execute_result"
    }
   ],
   "source": [
    "# 학년별 성별 Depression, Anxiety, Panic_attack\n",
    "\n",
    "pdf5 = pd.pivot_table(df,\n",
    "                      index='Current_year',\n",
    "                      columns='Gender',\n",
    "                      values=['Depression', 'Anxiety', 'Panic_attack'],\n",
    "                      aggfunc='mean')\n",
    "\n",
    "pdf5"
   ]
  },
  {
   "cell_type": "code",
   "execution_count": 162,
   "id": "08bb2049-f42e-451f-9461-3eb2e460f913",
   "metadata": {},
   "outputs": [
    {
     "data": {
      "image/png": "[encoded data removed]",
      "text/plain": [
       "<Figure size 432x288 with 2 Axes>"
      ]
     },
     "metadata": {
      "needs_background": "light"
     },
     "output_type": "display_data"
    },
    {
     "data": {
      "text/plain": [
       "<Figure size 1080x720 with 0 Axes>"
      ]
     },
     "metadata": {},
     "output_type": "display_data"
    }
   ],
   "source": [
    "# 학년별 Depression, Anxiety, Panic_attack -> heatmap\n",
    "\n",
    "\n",
    "cmap = sns.cm.rocket_r\n",
    "\n",
    "sns.heatmap(pdf4, annot=True, linewidth=0.5, cmap=cmap)\n",
    "\n",
    "\n",
    "plt.figure(figsize=(15, 10))\n",
    "\n",
    "plt.show()"
   ]
  },
  {
   "cell_type": "markdown",
   "id": "ecf46ee8-540d-4966-92ee-4cb8add135d9",
   "metadata": {},
   "source": [
    "## Summary"
   ]
  },
  {
   "cell_type": "code",
   "execution_count": null,
   "id": "a483c7ca-c77d-43cd-b145-3ecc6e2c3476",
   "metadata": {},
   "outputs": [],
   "source": []
  }
 ],
 "metadata": {
  "kernelspec": {
   "display_name": "Python 3 (ipykernel)",
   "language": "python",
   "name": "python3"
  },
  "language_info": {
   "codemirror_mode": {
    "name": "ipython",
    "version": 3
   },
   "file_extension": ".py",
   "mimetype": "text/x-python",
   "name": "python",
   "nbconvert_exporter": "python",
   "pygments_lexer": "ipython3",
   "version": "3.9.7"
  }
 },
 "nbformat": 4,
 "nbformat_minor": 5
}
