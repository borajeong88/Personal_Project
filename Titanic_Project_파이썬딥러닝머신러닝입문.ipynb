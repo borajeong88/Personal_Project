{
  "nbformat": 4,
  "nbformat_minor": 0,
  "metadata": {
    "colab": {
      "provenance": [],
      "collapsed_sections": [
        "iT2SWxv07JFl",
        "owSPdq4iC8gL",
        "lvtMs9cJDITR",
        "Bf30YvQqC1CW",
        "YefdeDTcEFOd",
        "2csUoP3m3NM2",
        "_Wi7GYo2Vdmz",
        "VVEj_6LxoMXs"
      ],
      "authorship_tag": "ABX9TyO9uRglcSNPTb1Fj4N/41t1",
      "include_colab_link": true
    },
    "kernelspec": {
      "name": "python3",
      "display_name": "Python 3"
    },
    "language_info": {
      "name": "python"
    }
  },
  "cells": [
    {
      "cell_type": "markdown",
      "metadata": {
        "id": "view-in-github",
        "colab_type": "text"
      },
      "source": [
        "<a href=\"https://colab.research.google.com/github/borajeong88/Personal_Project/blob/main/Titanic_Project_%ED%8C%8C%EC%9D%B4%EC%8D%AC%EB%94%A5%EB%9F%AC%EB%8B%9D%EB%A8%B8%EC%8B%A0%EB%9F%AC%EB%8B%9D%EC%9E%85%EB%AC%B8.ipynb\" target=\"_parent\"><img src=\"https://colab.research.google.com/assets/colab-badge.svg\" alt=\"Open In Colab\"/></a>"
      ]
    },
    {
      "cell_type": "markdown",
      "source": [
        "# 배운 것\n",
        "\n",
        "1) Train 데이터와 Test 데이터를 concat 으로 합칠 때, 구분을 위해 별도의 열을 추가  \n",
        "2) 집계나 데이터 분포를 위해 힘들게 데이터 가공할 필요 없이** sns.countplot** 이나 **sns.barplot** 바로 사용 가능 **(그냥 데이터프레임 그대로 사용 가능)**  \n",
        " 3) 레이블 인코딩 시, 나는 replace 를 많이 이용했는데 그렇게 안하고, .loc 으로 데이터 추출 후 그 추출된 구간을 새로운 값으로 변경 (단, 고유값이 제한되어 있는 경우)  \n",
        "4)**다양한 피처 사용**(나는 주로 숫자형 데이터에만 치중, 그러나 저자는 내가 버린 많은 피처 들 (**Cabin 이나 Name, Embarked, 심지어 Ticket 까지**) **Survived 와의 관련성을 탐색함...**\n",
        "5) 모델을 학습 시킨 후 x_test 만 넣고 y_test, y_hat 만 비교하는 것이 아닌, x_train 까지 넣고, y_train 및 y_train_pred 까지 비교 -> 그래서 모델이 과적합 되었는지 여부까지 판단 (Train 데이터만 예측이 높다면 과적합화)\n"
      ],
      "metadata": {
        "id": "iT2SWxv07JFl"
      }
    },
    {
      "cell_type": "markdown",
      "source": [
        "### 구글 드라이브 파일 시스템에 마운트"
      ],
      "metadata": {
        "id": "owSPdq4iC8gL"
      }
    },
    {
      "cell_type": "code",
      "execution_count": null,
      "metadata": {
        "id": "Q3C1rCy0-nx5",
        "colab": {
          "base_uri": "https://localhost:8080/"
        },
        "outputId": "c0d057ca-f1b4-428c-e0f7-34cd2913a0b9"
      },
      "outputs": [
        {
          "output_type": "stream",
          "name": "stdout",
          "text": [
            "Drive already mounted at /gdrive/; to attempt to forcibly remount, call drive.mount(\"/gdrive/\", force_remount=True).\n"
          ]
        }
      ],
      "source": [
        " # 구글 드라이브 파일 시스템에 마운트\n",
        "\n",
        " from google.colab import drive\n",
        " drive.mount('/gdrive/')"
      ]
    },
    {
      "cell_type": "markdown",
      "source": [
        "### 데이터 로딩"
      ],
      "metadata": {
        "id": "lvtMs9cJDITR"
      }
    },
    {
      "cell_type": "code",
      "source": [
        "import pandas as pd\n",
        "import numpy as np\n",
        "import matplotlib.pyplot as plt\n",
        "import seaborn as sns\n",
        "\n",
        "drive_path = '/gdrive/My Drive/'\n",
        "\n",
        "train = pd.read_csv(drive_path + '데이터분석프로젝트/Titanic/train.csv')\n",
        "test = pd.read_csv(drive_path + '데이터분석프로젝트/Titanic/test.csv')\n",
        "submission = pd.read_csv(drive_path + '데이터분석프로젝트/Titanic/submission.csv')\n",
        "\n",
        "print(train.shape, test.shape, submission.shape)"
      ],
      "metadata": {
        "id": "gPjRiDIY_-1I",
        "colab": {
          "base_uri": "https://localhost:8080/"
        },
        "outputId": "522ae551-ee0b-46c0-bae2-0ea359b55c96"
      },
      "execution_count": null,
      "outputs": [
        {
          "output_type": "stream",
          "name": "stdout",
          "text": [
            "(891, 12) (418, 11) (418, 2)\n"
          ]
        }
      ]
    },
    {
      "cell_type": "code",
      "source": [
        "train.head()"
      ],
      "metadata": {
        "id": "rt_SvG7mBJJx",
        "colab": {
          "base_uri": "https://localhost:8080/"
        },
        "outputId": "e7a3890f-1c7e-4b0b-dfaa-cd996230e4b7"
      },
      "execution_count": null,
      "outputs": [
        {
          "output_type": "execute_result",
          "data": {
            "text/plain": [
              "   PassengerId  Survived  Pclass  \\\n",
              "0            1         0       3   \n",
              "1            2         1       1   \n",
              "2            3         1       3   \n",
              "3            4         1       1   \n",
              "4            5         0       3   \n",
              "\n",
              "                                                Name     Sex   Age  SibSp  \\\n",
              "0                            Braund, Mr. Owen Harris    male  22.0      1   \n",
              "1  Cumings, Mrs. John Bradley (Florence Briggs Th...  female  38.0      1   \n",
              "2                             Heikkinen, Miss. Laina  female  26.0      0   \n",
              "3       Futrelle, Mrs. Jacques Heath (Lily May Peel)  female  35.0      1   \n",
              "4                           Allen, Mr. William Henry    male  35.0      0   \n",
              "\n",
              "   Parch            Ticket     Fare Cabin Embarked  \n",
              "0      0         A/5 21171   7.2500   NaN        S  \n",
              "1      0          PC 17599  71.2833   C85        C  \n",
              "2      0  STON/O2. 3101282   7.9250   NaN        S  \n",
              "3      0            113803  53.1000  C123        S  \n",
              "4      0            373450   8.0500   NaN        S  "
            ],
            "text/html": [
              "\n",
              "  <div id=\"df-b42cecfa-6c57-487c-a4b8-5162c7ca5b3c\" class=\"colab-df-container\">\n",
              "    <div>\n",
              "<style scoped>\n",
              "    .dataframe tbody tr th:only-of-type {\n",
              "        vertical-align: middle;\n",
              "    }\n",
              "\n",
              "    .dataframe tbody tr th {\n",
              "        vertical-align: top;\n",
              "    }\n",
              "\n",
              "    .dataframe thead th {\n",
              "        text-align: right;\n",
              "    }\n",
              "</style>\n",
              "<table border=\"1\" class=\"dataframe\">\n",
              "  <thead>\n",
              "    <tr style=\"text-align: right;\">\n",
              "      <th></th>\n",
              "      <th>PassengerId</th>\n",
              "      <th>Survived</th>\n",
              "      <th>Pclass</th>\n",
              "      <th>Name</th>\n",
              "      <th>Sex</th>\n",
              "      <th>Age</th>\n",
              "      <th>SibSp</th>\n",
              "      <th>Parch</th>\n",
              "      <th>Ticket</th>\n",
              "      <th>Fare</th>\n",
              "      <th>Cabin</th>\n",
              "      <th>Embarked</th>\n",
              "    </tr>\n",
              "  </thead>\n",
              "  <tbody>\n",
              "    <tr>\n",
              "      <th>0</th>\n",
              "      <td>1</td>\n",
              "      <td>0</td>\n",
              "      <td>3</td>\n",
              "      <td>Braund, Mr. Owen Harris</td>\n",
              "      <td>male</td>\n",
              "      <td>22.0</td>\n",
              "      <td>1</td>\n",
              "      <td>0</td>\n",
              "      <td>A/5 21171</td>\n",
              "      <td>7.2500</td>\n",
              "      <td>NaN</td>\n",
              "      <td>S</td>\n",
              "    </tr>\n",
              "    <tr>\n",
              "      <th>1</th>\n",
              "      <td>2</td>\n",
              "      <td>1</td>\n",
              "      <td>1</td>\n",
              "      <td>Cumings, Mrs. John Bradley (Florence Briggs Th...</td>\n",
              "      <td>female</td>\n",
              "      <td>38.0</td>\n",
              "      <td>1</td>\n",
              "      <td>0</td>\n",
              "      <td>PC 17599</td>\n",
              "      <td>71.2833</td>\n",
              "      <td>C85</td>\n",
              "      <td>C</td>\n",
              "    </tr>\n",
              "    <tr>\n",
              "      <th>2</th>\n",
              "      <td>3</td>\n",
              "      <td>1</td>\n",
              "      <td>3</td>\n",
              "      <td>Heikkinen, Miss. Laina</td>\n",
              "      <td>female</td>\n",
              "      <td>26.0</td>\n",
              "      <td>0</td>\n",
              "      <td>0</td>\n",
              "      <td>STON/O2. 3101282</td>\n",
              "      <td>7.9250</td>\n",
              "      <td>NaN</td>\n",
              "      <td>S</td>\n",
              "    </tr>\n",
              "    <tr>\n",
              "      <th>3</th>\n",
              "      <td>4</td>\n",
              "      <td>1</td>\n",
              "      <td>1</td>\n",
              "      <td>Futrelle, Mrs. Jacques Heath (Lily May Peel)</td>\n",
              "      <td>female</td>\n",
              "      <td>35.0</td>\n",
              "      <td>1</td>\n",
              "      <td>0</td>\n",
              "      <td>113803</td>\n",
              "      <td>53.1000</td>\n",
              "      <td>C123</td>\n",
              "      <td>S</td>\n",
              "    </tr>\n",
              "    <tr>\n",
              "      <th>4</th>\n",
              "      <td>5</td>\n",
              "      <td>0</td>\n",
              "      <td>3</td>\n",
              "      <td>Allen, Mr. William Henry</td>\n",
              "      <td>male</td>\n",
              "      <td>35.0</td>\n",
              "      <td>0</td>\n",
              "      <td>0</td>\n",
              "      <td>373450</td>\n",
              "      <td>8.0500</td>\n",
              "      <td>NaN</td>\n",
              "      <td>S</td>\n",
              "    </tr>\n",
              "  </tbody>\n",
              "</table>\n",
              "</div>\n",
              "    <div class=\"colab-df-buttons\">\n",
              "\n",
              "  <div class=\"colab-df-container\">\n",
              "    <button class=\"colab-df-convert\" onclick=\"convertToInteractive('df-b42cecfa-6c57-487c-a4b8-5162c7ca5b3c')\"\n",
              "            title=\"Convert this dataframe to an interactive table.\"\n",
              "            style=\"display:none;\">\n",
              "\n",
              "  <svg xmlns=\"http://www.w3.org/2000/svg\" height=\"24px\" viewBox=\"0 -960 960 960\">\n",
              "    <path d=\"M120-120v-720h720v720H120Zm60-500h600v-160H180v160Zm220 220h160v-160H400v160Zm0 220h160v-160H400v160ZM180-400h160v-160H180v160Zm440 0h160v-160H620v160ZM180-180h160v-160H180v160Zm440 0h160v-160H620v160Z\"/>\n",
              "  </svg>\n",
              "    </button>\n",
              "\n",
              "  <style>\n",
              "    .colab-df-container {\n",
              "      display:flex;\n",
              "      gap: 12px;\n",
              "    }\n",
              "\n",
              "    .colab-df-convert {\n",
              "      background-color: #E8F0FE;\n",
              "      border: none;\n",
              "      border-radius: 50%;\n",
              "      cursor: pointer;\n",
              "      display: none;\n",
              "      fill: #1967D2;\n",
              "      height: 32px;\n",
              "      padding: 0 0 0 0;\n",
              "      width: 32px;\n",
              "    }\n",
              "\n",
              "    .colab-df-convert:hover {\n",
              "      background-color: #E2EBFA;\n",
              "      box-shadow: 0px 1px 2px rgba(60, 64, 67, 0.3), 0px 1px 3px 1px rgba(60, 64, 67, 0.15);\n",
              "      fill: #174EA6;\n",
              "    }\n",
              "\n",
              "    .colab-df-buttons div {\n",
              "      margin-bottom: 4px;\n",
              "    }\n",
              "\n",
              "    [theme=dark] .colab-df-convert {\n",
              "      background-color: #3B4455;\n",
              "      fill: #D2E3FC;\n",
              "    }\n",
              "\n",
              "    [theme=dark] .colab-df-convert:hover {\n",
              "      background-color: #434B5C;\n",
              "      box-shadow: 0px 1px 3px 1px rgba(0, 0, 0, 0.15);\n",
              "      filter: drop-shadow(0px 1px 2px rgba(0, 0, 0, 0.3));\n",
              "      fill: #FFFFFF;\n",
              "    }\n",
              "  </style>\n",
              "\n",
              "    <script>\n",
              "      const buttonEl =\n",
              "        document.querySelector('#df-b42cecfa-6c57-487c-a4b8-5162c7ca5b3c button.colab-df-convert');\n",
              "      buttonEl.style.display =\n",
              "        google.colab.kernel.accessAllowed ? 'block' : 'none';\n",
              "\n",
              "      async function convertToInteractive(key) {\n",
              "        const element = document.querySelector('#df-b42cecfa-6c57-487c-a4b8-5162c7ca5b3c');\n",
              "        const dataTable =\n",
              "          await google.colab.kernel.invokeFunction('convertToInteractive',\n",
              "                                                    [key], {});\n",
              "        if (!dataTable) return;\n",
              "\n",
              "        const docLinkHtml = 'Like what you see? Visit the ' +\n",
              "          '<a target=\"_blank\" href=https://colab.research.google.com/notebooks/data_table.ipynb>data table notebook</a>'\n",
              "          + ' to learn more about interactive tables.';\n",
              "        element.innerHTML = '';\n",
              "        dataTable['output_type'] = 'display_data';\n",
              "        await google.colab.output.renderOutput(dataTable, element);\n",
              "        const docLink = document.createElement('div');\n",
              "        docLink.innerHTML = docLinkHtml;\n",
              "        element.appendChild(docLink);\n",
              "      }\n",
              "    </script>\n",
              "  </div>\n",
              "\n",
              "\n",
              "<div id=\"df-6391b488-a23b-48a8-988d-56ae42c93b88\">\n",
              "  <button class=\"colab-df-quickchart\" onclick=\"quickchart('df-6391b488-a23b-48a8-988d-56ae42c93b88')\"\n",
              "            title=\"Suggest charts.\"\n",
              "            style=\"display:none;\">\n",
              "\n",
              "<svg xmlns=\"http://www.w3.org/2000/svg\" height=\"24px\"viewBox=\"0 0 24 24\"\n",
              "     width=\"24px\">\n",
              "    <g>\n",
              "        <path d=\"M19 3H5c-1.1 0-2 .9-2 2v14c0 1.1.9 2 2 2h14c1.1 0 2-.9 2-2V5c0-1.1-.9-2-2-2zM9 17H7v-7h2v7zm4 0h-2V7h2v10zm4 0h-2v-4h2v4z\"/>\n",
              "    </g>\n",
              "</svg>\n",
              "  </button>\n",
              "\n",
              "<style>\n",
              "  .colab-df-quickchart {\n",
              "    background-color: #E8F0FE;\n",
              "    border: none;\n",
              "    border-radius: 50%;\n",
              "    cursor: pointer;\n",
              "    display: none;\n",
              "    fill: #1967D2;\n",
              "    height: 32px;\n",
              "    padding: 0 0 0 0;\n",
              "    width: 32px;\n",
              "  }\n",
              "\n",
              "  .colab-df-quickchart:hover {\n",
              "    background-color: #E2EBFA;\n",
              "    box-shadow: 0px 1px 2px rgba(60, 64, 67, 0.3), 0px 1px 3px 1px rgba(60, 64, 67, 0.15);\n",
              "    fill: #174EA6;\n",
              "  }\n",
              "\n",
              "  [theme=dark] .colab-df-quickchart {\n",
              "    background-color: #3B4455;\n",
              "    fill: #D2E3FC;\n",
              "  }\n",
              "\n",
              "  [theme=dark] .colab-df-quickchart:hover {\n",
              "    background-color: #434B5C;\n",
              "    box-shadow: 0px 1px 3px 1px rgba(0, 0, 0, 0.15);\n",
              "    filter: drop-shadow(0px 1px 2px rgba(0, 0, 0, 0.3));\n",
              "    fill: #FFFFFF;\n",
              "  }\n",
              "</style>\n",
              "\n",
              "  <script>\n",
              "    async function quickchart(key) {\n",
              "      const charts = await google.colab.kernel.invokeFunction(\n",
              "          'suggestCharts', [key], {});\n",
              "    }\n",
              "    (() => {\n",
              "      let quickchartButtonEl =\n",
              "        document.querySelector('#df-6391b488-a23b-48a8-988d-56ae42c93b88 button');\n",
              "      quickchartButtonEl.style.display =\n",
              "        google.colab.kernel.accessAllowed ? 'block' : 'none';\n",
              "    })();\n",
              "  </script>\n",
              "</div>\n",
              "    </div>\n",
              "  </div>\n"
            ]
          },
          "metadata": {},
          "execution_count": 80
        }
      ]
    },
    {
      "cell_type": "code",
      "source": [
        "test.head()"
      ],
      "metadata": {
        "id": "xhISRd7zCQju",
        "colab": {
          "base_uri": "https://localhost:8080/"
        },
        "outputId": "fee96a2d-312f-4305-b9aa-fe23c4d01cee"
      },
      "execution_count": null,
      "outputs": [
        {
          "output_type": "execute_result",
          "data": {
            "text/plain": [
              "   PassengerId  Pclass                                          Name     Sex  \\\n",
              "0          892       3                              Kelly, Mr. James    male   \n",
              "1          893       3              Wilkes, Mrs. James (Ellen Needs)  female   \n",
              "2          894       2                     Myles, Mr. Thomas Francis    male   \n",
              "3          895       3                              Wirz, Mr. Albert    male   \n",
              "4          896       3  Hirvonen, Mrs. Alexander (Helga E Lindqvist)  female   \n",
              "\n",
              "    Age  SibSp  Parch   Ticket     Fare Cabin Embarked  \n",
              "0  34.5      0      0   330911   7.8292   NaN        Q  \n",
              "1  47.0      1      0   363272   7.0000   NaN        S  \n",
              "2  62.0      0      0   240276   9.6875   NaN        Q  \n",
              "3  27.0      0      0   315154   8.6625   NaN        S  \n",
              "4  22.0      1      1  3101298  12.2875   NaN        S  "
            ],
            "text/html": [
              "\n",
              "  <div id=\"df-d374d9e0-a1f2-4b01-a898-1178a3c35034\" class=\"colab-df-container\">\n",
              "    <div>\n",
              "<style scoped>\n",
              "    .dataframe tbody tr th:only-of-type {\n",
              "        vertical-align: middle;\n",
              "    }\n",
              "\n",
              "    .dataframe tbody tr th {\n",
              "        vertical-align: top;\n",
              "    }\n",
              "\n",
              "    .dataframe thead th {\n",
              "        text-align: right;\n",
              "    }\n",
              "</style>\n",
              "<table border=\"1\" class=\"dataframe\">\n",
              "  <thead>\n",
              "    <tr style=\"text-align: right;\">\n",
              "      <th></th>\n",
              "      <th>PassengerId</th>\n",
              "      <th>Pclass</th>\n",
              "      <th>Name</th>\n",
              "      <th>Sex</th>\n",
              "      <th>Age</th>\n",
              "      <th>SibSp</th>\n",
              "      <th>Parch</th>\n",
              "      <th>Ticket</th>\n",
              "      <th>Fare</th>\n",
              "      <th>Cabin</th>\n",
              "      <th>Embarked</th>\n",
              "    </tr>\n",
              "  </thead>\n",
              "  <tbody>\n",
              "    <tr>\n",
              "      <th>0</th>\n",
              "      <td>892</td>\n",
              "      <td>3</td>\n",
              "      <td>Kelly, Mr. James</td>\n",
              "      <td>male</td>\n",
              "      <td>34.5</td>\n",
              "      <td>0</td>\n",
              "      <td>0</td>\n",
              "      <td>330911</td>\n",
              "      <td>7.8292</td>\n",
              "      <td>NaN</td>\n",
              "      <td>Q</td>\n",
              "    </tr>\n",
              "    <tr>\n",
              "      <th>1</th>\n",
              "      <td>893</td>\n",
              "      <td>3</td>\n",
              "      <td>Wilkes, Mrs. James (Ellen Needs)</td>\n",
              "      <td>female</td>\n",
              "      <td>47.0</td>\n",
              "      <td>1</td>\n",
              "      <td>0</td>\n",
              "      <td>363272</td>\n",
              "      <td>7.0000</td>\n",
              "      <td>NaN</td>\n",
              "      <td>S</td>\n",
              "    </tr>\n",
              "    <tr>\n",
              "      <th>2</th>\n",
              "      <td>894</td>\n",
              "      <td>2</td>\n",
              "      <td>Myles, Mr. Thomas Francis</td>\n",
              "      <td>male</td>\n",
              "      <td>62.0</td>\n",
              "      <td>0</td>\n",
              "      <td>0</td>\n",
              "      <td>240276</td>\n",
              "      <td>9.6875</td>\n",
              "      <td>NaN</td>\n",
              "      <td>Q</td>\n",
              "    </tr>\n",
              "    <tr>\n",
              "      <th>3</th>\n",
              "      <td>895</td>\n",
              "      <td>3</td>\n",
              "      <td>Wirz, Mr. Albert</td>\n",
              "      <td>male</td>\n",
              "      <td>27.0</td>\n",
              "      <td>0</td>\n",
              "      <td>0</td>\n",
              "      <td>315154</td>\n",
              "      <td>8.6625</td>\n",
              "      <td>NaN</td>\n",
              "      <td>S</td>\n",
              "    </tr>\n",
              "    <tr>\n",
              "      <th>4</th>\n",
              "      <td>896</td>\n",
              "      <td>3</td>\n",
              "      <td>Hirvonen, Mrs. Alexander (Helga E Lindqvist)</td>\n",
              "      <td>female</td>\n",
              "      <td>22.0</td>\n",
              "      <td>1</td>\n",
              "      <td>1</td>\n",
              "      <td>3101298</td>\n",
              "      <td>12.2875</td>\n",
              "      <td>NaN</td>\n",
              "      <td>S</td>\n",
              "    </tr>\n",
              "  </tbody>\n",
              "</table>\n",
              "</div>\n",
              "    <div class=\"colab-df-buttons\">\n",
              "\n",
              "  <div class=\"colab-df-container\">\n",
              "    <button class=\"colab-df-convert\" onclick=\"convertToInteractive('df-d374d9e0-a1f2-4b01-a898-1178a3c35034')\"\n",
              "            title=\"Convert this dataframe to an interactive table.\"\n",
              "            style=\"display:none;\">\n",
              "\n",
              "  <svg xmlns=\"http://www.w3.org/2000/svg\" height=\"24px\" viewBox=\"0 -960 960 960\">\n",
              "    <path d=\"M120-120v-720h720v720H120Zm60-500h600v-160H180v160Zm220 220h160v-160H400v160Zm0 220h160v-160H400v160ZM180-400h160v-160H180v160Zm440 0h160v-160H620v160ZM180-180h160v-160H180v160Zm440 0h160v-160H620v160Z\"/>\n",
              "  </svg>\n",
              "    </button>\n",
              "\n",
              "  <style>\n",
              "    .colab-df-container {\n",
              "      display:flex;\n",
              "      gap: 12px;\n",
              "    }\n",
              "\n",
              "    .colab-df-convert {\n",
              "      background-color: #E8F0FE;\n",
              "      border: none;\n",
              "      border-radius: 50%;\n",
              "      cursor: pointer;\n",
              "      display: none;\n",
              "      fill: #1967D2;\n",
              "      height: 32px;\n",
              "      padding: 0 0 0 0;\n",
              "      width: 32px;\n",
              "    }\n",
              "\n",
              "    .colab-df-convert:hover {\n",
              "      background-color: #E2EBFA;\n",
              "      box-shadow: 0px 1px 2px rgba(60, 64, 67, 0.3), 0px 1px 3px 1px rgba(60, 64, 67, 0.15);\n",
              "      fill: #174EA6;\n",
              "    }\n",
              "\n",
              "    .colab-df-buttons div {\n",
              "      margin-bottom: 4px;\n",
              "    }\n",
              "\n",
              "    [theme=dark] .colab-df-convert {\n",
              "      background-color: #3B4455;\n",
              "      fill: #D2E3FC;\n",
              "    }\n",
              "\n",
              "    [theme=dark] .colab-df-convert:hover {\n",
              "      background-color: #434B5C;\n",
              "      box-shadow: 0px 1px 3px 1px rgba(0, 0, 0, 0.15);\n",
              "      filter: drop-shadow(0px 1px 2px rgba(0, 0, 0, 0.3));\n",
              "      fill: #FFFFFF;\n",
              "    }\n",
              "  </style>\n",
              "\n",
              "    <script>\n",
              "      const buttonEl =\n",
              "        document.querySelector('#df-d374d9e0-a1f2-4b01-a898-1178a3c35034 button.colab-df-convert');\n",
              "      buttonEl.style.display =\n",
              "        google.colab.kernel.accessAllowed ? 'block' : 'none';\n",
              "\n",
              "      async function convertToInteractive(key) {\n",
              "        const element = document.querySelector('#df-d374d9e0-a1f2-4b01-a898-1178a3c35034');\n",
              "        const dataTable =\n",
              "          await google.colab.kernel.invokeFunction('convertToInteractive',\n",
              "                                                    [key], {});\n",
              "        if (!dataTable) return;\n",
              "\n",
              "        const docLinkHtml = 'Like what you see? Visit the ' +\n",
              "          '<a target=\"_blank\" href=https://colab.research.google.com/notebooks/data_table.ipynb>data table notebook</a>'\n",
              "          + ' to learn more about interactive tables.';\n",
              "        element.innerHTML = '';\n",
              "        dataTable['output_type'] = 'display_data';\n",
              "        await google.colab.output.renderOutput(dataTable, element);\n",
              "        const docLink = document.createElement('div');\n",
              "        docLink.innerHTML = docLinkHtml;\n",
              "        element.appendChild(docLink);\n",
              "      }\n",
              "    </script>\n",
              "  </div>\n",
              "\n",
              "\n",
              "<div id=\"df-b9a0caca-a9be-4739-9f82-95c2e09a80b0\">\n",
              "  <button class=\"colab-df-quickchart\" onclick=\"quickchart('df-b9a0caca-a9be-4739-9f82-95c2e09a80b0')\"\n",
              "            title=\"Suggest charts.\"\n",
              "            style=\"display:none;\">\n",
              "\n",
              "<svg xmlns=\"http://www.w3.org/2000/svg\" height=\"24px\"viewBox=\"0 0 24 24\"\n",
              "     width=\"24px\">\n",
              "    <g>\n",
              "        <path d=\"M19 3H5c-1.1 0-2 .9-2 2v14c0 1.1.9 2 2 2h14c1.1 0 2-.9 2-2V5c0-1.1-.9-2-2-2zM9 17H7v-7h2v7zm4 0h-2V7h2v10zm4 0h-2v-4h2v4z\"/>\n",
              "    </g>\n",
              "</svg>\n",
              "  </button>\n",
              "\n",
              "<style>\n",
              "  .colab-df-quickchart {\n",
              "    background-color: #E8F0FE;\n",
              "    border: none;\n",
              "    border-radius: 50%;\n",
              "    cursor: pointer;\n",
              "    display: none;\n",
              "    fill: #1967D2;\n",
              "    height: 32px;\n",
              "    padding: 0 0 0 0;\n",
              "    width: 32px;\n",
              "  }\n",
              "\n",
              "  .colab-df-quickchart:hover {\n",
              "    background-color: #E2EBFA;\n",
              "    box-shadow: 0px 1px 2px rgba(60, 64, 67, 0.3), 0px 1px 3px 1px rgba(60, 64, 67, 0.15);\n",
              "    fill: #174EA6;\n",
              "  }\n",
              "\n",
              "  [theme=dark] .colab-df-quickchart {\n",
              "    background-color: #3B4455;\n",
              "    fill: #D2E3FC;\n",
              "  }\n",
              "\n",
              "  [theme=dark] .colab-df-quickchart:hover {\n",
              "    background-color: #434B5C;\n",
              "    box-shadow: 0px 1px 3px 1px rgba(0, 0, 0, 0.15);\n",
              "    filter: drop-shadow(0px 1px 2px rgba(0, 0, 0, 0.3));\n",
              "    fill: #FFFFFF;\n",
              "  }\n",
              "</style>\n",
              "\n",
              "  <script>\n",
              "    async function quickchart(key) {\n",
              "      const charts = await google.colab.kernel.invokeFunction(\n",
              "          'suggestCharts', [key], {});\n",
              "    }\n",
              "    (() => {\n",
              "      let quickchartButtonEl =\n",
              "        document.querySelector('#df-b9a0caca-a9be-4739-9f82-95c2e09a80b0 button');\n",
              "      quickchartButtonEl.style.display =\n",
              "        google.colab.kernel.accessAllowed ? 'block' : 'none';\n",
              "    })();\n",
              "  </script>\n",
              "</div>\n",
              "    </div>\n",
              "  </div>\n"
            ]
          },
          "metadata": {},
          "execution_count": 81
        }
      ]
    },
    {
      "cell_type": "code",
      "source": [
        "submission.head()"
      ],
      "metadata": {
        "id": "hj6V16C6CGEA",
        "colab": {
          "base_uri": "https://localhost:8080/"
        },
        "outputId": "c494a067-401b-4780-ac9f-fae87aefdede"
      },
      "execution_count": null,
      "outputs": [
        {
          "output_type": "execute_result",
          "data": {
            "text/plain": [
              "   PassengerId  Survived\n",
              "0          892         0\n",
              "1          893         1\n",
              "2          894         0\n",
              "3          895         0\n",
              "4          896         1"
            ],
            "text/html": [
              "\n",
              "  <div id=\"df-2905553e-2271-486a-86d5-c9b4f80c9c10\" class=\"colab-df-container\">\n",
              "    <div>\n",
              "<style scoped>\n",
              "    .dataframe tbody tr th:only-of-type {\n",
              "        vertical-align: middle;\n",
              "    }\n",
              "\n",
              "    .dataframe tbody tr th {\n",
              "        vertical-align: top;\n",
              "    }\n",
              "\n",
              "    .dataframe thead th {\n",
              "        text-align: right;\n",
              "    }\n",
              "</style>\n",
              "<table border=\"1\" class=\"dataframe\">\n",
              "  <thead>\n",
              "    <tr style=\"text-align: right;\">\n",
              "      <th></th>\n",
              "      <th>PassengerId</th>\n",
              "      <th>Survived</th>\n",
              "    </tr>\n",
              "  </thead>\n",
              "  <tbody>\n",
              "    <tr>\n",
              "      <th>0</th>\n",
              "      <td>892</td>\n",
              "      <td>0</td>\n",
              "    </tr>\n",
              "    <tr>\n",
              "      <th>1</th>\n",
              "      <td>893</td>\n",
              "      <td>1</td>\n",
              "    </tr>\n",
              "    <tr>\n",
              "      <th>2</th>\n",
              "      <td>894</td>\n",
              "      <td>0</td>\n",
              "    </tr>\n",
              "    <tr>\n",
              "      <th>3</th>\n",
              "      <td>895</td>\n",
              "      <td>0</td>\n",
              "    </tr>\n",
              "    <tr>\n",
              "      <th>4</th>\n",
              "      <td>896</td>\n",
              "      <td>1</td>\n",
              "    </tr>\n",
              "  </tbody>\n",
              "</table>\n",
              "</div>\n",
              "    <div class=\"colab-df-buttons\">\n",
              "\n",
              "  <div class=\"colab-df-container\">\n",
              "    <button class=\"colab-df-convert\" onclick=\"convertToInteractive('df-2905553e-2271-486a-86d5-c9b4f80c9c10')\"\n",
              "            title=\"Convert this dataframe to an interactive table.\"\n",
              "            style=\"display:none;\">\n",
              "\n",
              "  <svg xmlns=\"http://www.w3.org/2000/svg\" height=\"24px\" viewBox=\"0 -960 960 960\">\n",
              "    <path d=\"M120-120v-720h720v720H120Zm60-500h600v-160H180v160Zm220 220h160v-160H400v160Zm0 220h160v-160H400v160ZM180-400h160v-160H180v160Zm440 0h160v-160H620v160ZM180-180h160v-160H180v160Zm440 0h160v-160H620v160Z\"/>\n",
              "  </svg>\n",
              "    </button>\n",
              "\n",
              "  <style>\n",
              "    .colab-df-container {\n",
              "      display:flex;\n",
              "      gap: 12px;\n",
              "    }\n",
              "\n",
              "    .colab-df-convert {\n",
              "      background-color: #E8F0FE;\n",
              "      border: none;\n",
              "      border-radius: 50%;\n",
              "      cursor: pointer;\n",
              "      display: none;\n",
              "      fill: #1967D2;\n",
              "      height: 32px;\n",
              "      padding: 0 0 0 0;\n",
              "      width: 32px;\n",
              "    }\n",
              "\n",
              "    .colab-df-convert:hover {\n",
              "      background-color: #E2EBFA;\n",
              "      box-shadow: 0px 1px 2px rgba(60, 64, 67, 0.3), 0px 1px 3px 1px rgba(60, 64, 67, 0.15);\n",
              "      fill: #174EA6;\n",
              "    }\n",
              "\n",
              "    .colab-df-buttons div {\n",
              "      margin-bottom: 4px;\n",
              "    }\n",
              "\n",
              "    [theme=dark] .colab-df-convert {\n",
              "      background-color: #3B4455;\n",
              "      fill: #D2E3FC;\n",
              "    }\n",
              "\n",
              "    [theme=dark] .colab-df-convert:hover {\n",
              "      background-color: #434B5C;\n",
              "      box-shadow: 0px 1px 3px 1px rgba(0, 0, 0, 0.15);\n",
              "      filter: drop-shadow(0px 1px 2px rgba(0, 0, 0, 0.3));\n",
              "      fill: #FFFFFF;\n",
              "    }\n",
              "  </style>\n",
              "\n",
              "    <script>\n",
              "      const buttonEl =\n",
              "        document.querySelector('#df-2905553e-2271-486a-86d5-c9b4f80c9c10 button.colab-df-convert');\n",
              "      buttonEl.style.display =\n",
              "        google.colab.kernel.accessAllowed ? 'block' : 'none';\n",
              "\n",
              "      async function convertToInteractive(key) {\n",
              "        const element = document.querySelector('#df-2905553e-2271-486a-86d5-c9b4f80c9c10');\n",
              "        const dataTable =\n",
              "          await google.colab.kernel.invokeFunction('convertToInteractive',\n",
              "                                                    [key], {});\n",
              "        if (!dataTable) return;\n",
              "\n",
              "        const docLinkHtml = 'Like what you see? Visit the ' +\n",
              "          '<a target=\"_blank\" href=https://colab.research.google.com/notebooks/data_table.ipynb>data table notebook</a>'\n",
              "          + ' to learn more about interactive tables.';\n",
              "        element.innerHTML = '';\n",
              "        dataTable['output_type'] = 'display_data';\n",
              "        await google.colab.output.renderOutput(dataTable, element);\n",
              "        const docLink = document.createElement('div');\n",
              "        docLink.innerHTML = docLinkHtml;\n",
              "        element.appendChild(docLink);\n",
              "      }\n",
              "    </script>\n",
              "  </div>\n",
              "\n",
              "\n",
              "<div id=\"df-7a630239-43a4-40b8-b487-d2d912bae5ac\">\n",
              "  <button class=\"colab-df-quickchart\" onclick=\"quickchart('df-7a630239-43a4-40b8-b487-d2d912bae5ac')\"\n",
              "            title=\"Suggest charts.\"\n",
              "            style=\"display:none;\">\n",
              "\n",
              "<svg xmlns=\"http://www.w3.org/2000/svg\" height=\"24px\"viewBox=\"0 0 24 24\"\n",
              "     width=\"24px\">\n",
              "    <g>\n",
              "        <path d=\"M19 3H5c-1.1 0-2 .9-2 2v14c0 1.1.9 2 2 2h14c1.1 0 2-.9 2-2V5c0-1.1-.9-2-2-2zM9 17H7v-7h2v7zm4 0h-2V7h2v10zm4 0h-2v-4h2v4z\"/>\n",
              "    </g>\n",
              "</svg>\n",
              "  </button>\n",
              "\n",
              "<style>\n",
              "  .colab-df-quickchart {\n",
              "    background-color: #E8F0FE;\n",
              "    border: none;\n",
              "    border-radius: 50%;\n",
              "    cursor: pointer;\n",
              "    display: none;\n",
              "    fill: #1967D2;\n",
              "    height: 32px;\n",
              "    padding: 0 0 0 0;\n",
              "    width: 32px;\n",
              "  }\n",
              "\n",
              "  .colab-df-quickchart:hover {\n",
              "    background-color: #E2EBFA;\n",
              "    box-shadow: 0px 1px 2px rgba(60, 64, 67, 0.3), 0px 1px 3px 1px rgba(60, 64, 67, 0.15);\n",
              "    fill: #174EA6;\n",
              "  }\n",
              "\n",
              "  [theme=dark] .colab-df-quickchart {\n",
              "    background-color: #3B4455;\n",
              "    fill: #D2E3FC;\n",
              "  }\n",
              "\n",
              "  [theme=dark] .colab-df-quickchart:hover {\n",
              "    background-color: #434B5C;\n",
              "    box-shadow: 0px 1px 3px 1px rgba(0, 0, 0, 0.15);\n",
              "    filter: drop-shadow(0px 1px 2px rgba(0, 0, 0, 0.3));\n",
              "    fill: #FFFFFF;\n",
              "  }\n",
              "</style>\n",
              "\n",
              "  <script>\n",
              "    async function quickchart(key) {\n",
              "      const charts = await google.colab.kernel.invokeFunction(\n",
              "          'suggestCharts', [key], {});\n",
              "    }\n",
              "    (() => {\n",
              "      let quickchartButtonEl =\n",
              "        document.querySelector('#df-7a630239-43a4-40b8-b487-d2d912bae5ac button');\n",
              "      quickchartButtonEl.style.display =\n",
              "        google.colab.kernel.accessAllowed ? 'block' : 'none';\n",
              "    })();\n",
              "  </script>\n",
              "</div>\n",
              "    </div>\n",
              "  </div>\n"
            ]
          },
          "metadata": {},
          "execution_count": 82
        }
      ]
    },
    {
      "cell_type": "markdown",
      "source": [
        "### Train 데이터, Test 데이터 결합"
      ],
      "metadata": {
        "id": "Bf30YvQqC1CW"
      }
    },
    {
      "cell_type": "code",
      "source": [
        "# 타이타닉 전체 데이터셋 준비\n",
        "\n",
        "train['TrainSplit'] = 'Train'\n",
        "test['TrainSplit'] = 'Test'\n",
        "\n",
        "data = pd.concat([train, test], axis=0)\n",
        "print(data.shape)"
      ],
      "metadata": {
        "id": "Y7jZwo9JCv9k",
        "colab": {
          "base_uri": "https://localhost:8080/"
        },
        "outputId": "eafc866c-f95c-40ea-d81b-6b537311c818"
      },
      "execution_count": null,
      "outputs": [
        {
          "output_type": "stream",
          "name": "stdout",
          "text": [
            "(1309, 13)\n"
          ]
        }
      ]
    },
    {
      "cell_type": "markdown",
      "source": [
        "### 데이터 전처리"
      ],
      "metadata": {
        "id": "YefdeDTcEFOd"
      }
    },
    {
      "cell_type": "code",
      "source": [
        "# 숫자형 피처 추출\n",
        "\n",
        "data_num = data.loc[:, ['Pclass', 'Age', 'SibSp', 'Parch', 'Fare', 'Survived']]\n",
        "\n",
        "# 결측값 대체\n",
        "\n",
        "data_num['Age'] = data_num['Age'].fillna(data_num['Age'].mean())# 평균값으로 결측값 대체\n",
        "data_num['Fare'] = data_num['Fare'].fillna(data_num['Age'].mode()[0]) # 최빈값으로 결측값 대체\n",
        "\n",
        "# 학습용 데이터와 테스트 데이터 구분\n",
        "\n",
        "selected_features = ['Pclass', 'Age', 'SibSp', 'Parch', 'Fare']\n",
        "\n",
        "X_train = data_num.loc[data['TrainSplit'] == 'Train', selected_features]\n",
        "y_train = data_num.loc[data['TrainSplit'] == 'Train', 'Survived']\n",
        "\n",
        "X_test = data_num.loc[data['TrainSplit'] == 'Test', selected_features]\n",
        "\n",
        "print('Train 데이터셋 크기: ', X_train.shape, y_train.shape)\n",
        "print('Test 데이터셋 크기: ', X_test.shape)"
      ],
      "metadata": {
        "id": "rpnhmvLXEBIM",
        "colab": {
          "base_uri": "https://localhost:8080/"
        },
        "outputId": "f2f46002-c51f-4718-de47-d3e01f5e7d45"
      },
      "execution_count": null,
      "outputs": [
        {
          "output_type": "stream",
          "name": "stdout",
          "text": [
            "Train 데이터셋 크기:  (891, 5) (891,)\n",
            "Test 데이터셋 크기:  (418, 5)\n"
          ]
        }
      ]
    },
    {
      "cell_type": "code",
      "source": [
        "\n",
        "sns.heatmap(data.corr(), annot=True)\n",
        "\n",
        "plt.show()"
      ],
      "metadata": {
        "id": "H0Aepbr73Dn9",
        "colab": {
          "base_uri": "https://localhost:8080/"
        },
        "outputId": "fb8f06fc-c8e2-47f1-8b2b-b40e0a3665d2"
      },
      "execution_count": null,
      "outputs": [
        {
          "output_type": "stream",
          "name": "stderr",
          "text": [
            "<ipython-input-8-cf6b46024b35>:1: FutureWarning: The default value of numeric_only in DataFrame.corr is deprecated. In a future version, it will default to False. Select only valid columns or specify the value of numeric_only to silence this warning.\n",
            "  sns.heatmap(data.corr(), annot=True)\n"
          ]
        },
        {
          "output_type": "display_data",
          "data": {
            "text/plain": [
              "<Figure size 640x480 with 2 Axes>"
            ],
            "image/png": "[encoded data removed]"
          },
          "metadata": {}
        }
      ]
    },
    {
      "cell_type": "markdown",
      "source": [
        "### 피처 엔지니어링 + EDA\n",
        "\n",
        "* 피처를 살펴보면서 모델 학습에 맞도록 전처리\n",
        "* 모델 성능을 개선할 수 있는 여러 가지 방법 적용"
      ],
      "metadata": {
        "id": "2csUoP3m3NM2"
      }
    },
    {
      "cell_type": "markdown",
      "source": [
        "**1) 생존여부 파악**"
      ],
      "metadata": {
        "id": "vZqKk9Au4KFA"
      }
    },
    {
      "cell_type": "code",
      "source": [
        "train['Survived'].value_counts(dropna=False)"
      ],
      "metadata": {
        "id": "YaWKuY7m3JbC",
        "colab": {
          "base_uri": "https://localhost:8080/"
        },
        "outputId": "304c8b64-6957-4c2d-e2b0-7f8eeefbca4e"
      },
      "execution_count": null,
      "outputs": [
        {
          "output_type": "execute_result",
          "data": {
            "text/plain": [
              "0    549\n",
              "1    342\n",
              "Name: Survived, dtype: int64"
            ]
          },
          "metadata": {},
          "execution_count": 9
        }
      ]
    },
    {
      "cell_type": "markdown",
      "source": [
        "**2) 객실 등급**"
      ],
      "metadata": {
        "id": "oHz17SRj4Zh-"
      }
    },
    {
      "cell_type": "markdown",
      "source": [
        "2)-1. 객실 등급별 인원 분포 (data)"
      ],
      "metadata": {
        "id": "Su-ls5LX5Ex9"
      }
    },
    {
      "cell_type": "code",
      "source": [
        "# train - test 데이터 분포\n",
        "\n",
        "sns.countplot(x='Pclass', hue='TrainSplit', data=data)\n",
        "plt.show()"
      ],
      "metadata": {
        "id": "ADpMa-hTFftQ",
        "colab": {
          "base_uri": "https://localhost:8080/"
        },
        "outputId": "0b25c49d-dcf4-45a3-ae72-68996b4f3564"
      },
      "execution_count": null,
      "outputs": [
        {
          "output_type": "display_data",
          "data": {
            "text/plain": [
              "<Figure size 640x480 with 1 Axes>"
            ],
            "image/png": "[encoded data removed]"
          },
          "metadata": {}
        }
      ]
    },
    {
      "cell_type": "markdown",
      "source": [
        "2)-2. 객실 등급별 생존자, 사망자 분포 (Train 데이터)"
      ],
      "metadata": {
        "id": "JQ_1kQBA5KXK"
      }
    },
    {
      "cell_type": "code",
      "source": [
        "# Pclass 별 survived 여부\n",
        "\n",
        "sns.countplot(x='Pclass', hue='Survived', data=data[data['TrainSplit']=='Train'])\n",
        "plt.show()"
      ],
      "metadata": {
        "id": "K97A5bzX4Yqp",
        "colab": {
          "base_uri": "https://localhost:8080/"
        },
        "outputId": "d40562ab-5a16-4cba-9b92-262d2bed1221"
      },
      "execution_count": null,
      "outputs": [
        {
          "output_type": "display_data",
          "data": {
            "text/plain": [
              "<Figure size 640x480 with 1 Axes>"
            ],
            "image/png": "[encoded data removed]"
          },
          "metadata": {}
        }
      ]
    },
    {
      "cell_type": "code",
      "source": [
        "# Pclass 별 Fare 객실 요금의 중간값 비교\n",
        "\n",
        "sns.barplot(x='Pclass', y='Fare', hue='Survived',\n",
        "            data = data[data['TrainSplit']=='Train'], estimator=np.median)\n",
        "\n",
        "plt.show()"
      ],
      "metadata": {
        "id": "6WSb3HGt5YjK",
        "colab": {
          "base_uri": "https://localhost:8080/"
        },
        "outputId": "86c70f13-b0be-4d54-9ac0-8edbe1cea545"
      },
      "execution_count": null,
      "outputs": [
        {
          "output_type": "display_data",
          "data": {
            "text/plain": [
              "<Figure size 640x480 with 1 Axes>"
            ],
            "image/png": "[encoded data removed]"
          },
          "metadata": {}
        }
      ]
    },
    {
      "cell_type": "markdown",
      "source": [
        "**3) 성별**"
      ],
      "metadata": {
        "id": "9XJD6RIs8IV8"
      }
    },
    {
      "cell_type": "markdown",
      "source": [
        "3)-1. 성별에 따른 생존자 분포 파악"
      ],
      "metadata": {
        "id": "9QcYtHw29edh"
      }
    },
    {
      "cell_type": "code",
      "source": [
        "# histplot 함수\n",
        "\n",
        "sns.histplot(x='Sex', hue='Survived', multiple='dodge',  # dodge 를 설정하면 그래프가 겹치지 않게 해 줌\n",
        "            data = data[data['TrainSplit']=='Train'])\n",
        "\n",
        "plt.show()"
      ],
      "metadata": {
        "id": "OGN_CIaC8MCm",
        "colab": {
          "base_uri": "https://localhost:8080/"
        },
        "outputId": "acb578f2-6cef-46e4-e4d8-7dbbc344dad6"
      },
      "execution_count": null,
      "outputs": [
        {
          "output_type": "display_data",
          "data": {
            "text/plain": [
              "<Figure size 640x480 with 1 Axes>"
            ],
            "image/png": "[encoded data removed]"
          },
          "metadata": {}
        }
      ]
    },
    {
      "cell_type": "code",
      "source": [
        "# histplot 함수\n",
        "\n",
        "sns.histplot(x='Sex', hue='Survived', multiple='stack', # stack 을 설정시 그래프가 상하로 누적\n",
        "             data=data[data['TrainSplit']=='Train'])\n",
        "\n",
        "plt.show()"
      ],
      "metadata": {
        "id": "aAKSI8CV85Co",
        "colab": {
          "base_uri": "https://localhost:8080/"
        },
        "outputId": "3aa5743d-5e10-407b-c630-17b3b6cec146"
      },
      "execution_count": null,
      "outputs": [
        {
          "output_type": "display_data",
          "data": {
            "text/plain": [
              "<Figure size 640x480 with 1 Axes>"
            ],
            "image/png": "[encoded data removed]"
          },
          "metadata": {}
        }
      ]
    },
    {
      "cell_type": "code",
      "source": [
        "# histplot 함수\n",
        "\n",
        "sns.histplot(x='Sex', hue='Survived', multiple='fill', # fill 을 설정시 그래프가 상하로 누적\n",
        "             data=data[data['TrainSplit']=='Train'])\n",
        "\n",
        "plt.show()"
      ],
      "metadata": {
        "id": "u7MpVl3T91xt",
        "colab": {
          "base_uri": "https://localhost:8080/"
        },
        "outputId": "98cee4ad-7fbf-4057-9cc4-d605324dc109"
      },
      "execution_count": null,
      "outputs": [
        {
          "output_type": "display_data",
          "data": {
            "text/plain": [
              "<Figure size 640x480 with 1 Axes>"
            ],
            "image/png": "[encoded data removed]"
          },
          "metadata": {}
        }
      ]
    },
    {
      "cell_type": "markdown",
      "source": [
        "3)-2. 성별의 문자열 데이터를 숫자형 데이터로 전환\n",
        "female -> 0, male -> 1"
      ],
      "metadata": {
        "id": "RYwGj0Xp-r8A"
      }
    },
    {
      "cell_type": "code",
      "source": [
        "# 레이블 인코딩 (female: 0, male: 1)\n",
        "\n",
        "data.loc[data['Sex']=='female', 'Sex'] = 0\n",
        "data.loc[data['Sex'] == 'male', 'Sex'] = 1\n",
        "\n",
        "data['Sex'] = data['Sex'].astype('int')\n",
        "\n",
        "# 성별 분포 확인\n",
        "\n",
        "data['Sex'].value_counts()"
      ],
      "metadata": {
        "id": "2Ocw87s0-nA3",
        "colab": {
          "base_uri": "https://localhost:8080/"
        },
        "outputId": "25c30476-a55f-40c2-8f72-2961d526e1ba"
      },
      "execution_count": null,
      "outputs": [
        {
          "output_type": "execute_result",
          "data": {
            "text/plain": [
              "1    843\n",
              "0    466\n",
              "Name: Sex, dtype: int64"
            ]
          },
          "metadata": {},
          "execution_count": 16
        }
      ]
    },
    {
      "cell_type": "markdown",
      "source": [
        "**4) 이름**"
      ],
      "metadata": {
        "id": "_BuceaTuAH0e"
      }
    },
    {
      "cell_type": "markdown",
      "source": [
        "4)-1. 이름을 가지고 Title 추출 및 정리"
      ],
      "metadata": {
        "id": "NYYIsMIWDSB1"
      }
    },
    {
      "cell_type": "code",
      "source": [
        "# Name 의 고유값 확인\n",
        "\n",
        "data['Name'].unique()"
      ],
      "metadata": {
        "id": "jvVtKYpg-xPM",
        "colab": {
          "base_uri": "https://localhost:8080/"
        },
        "outputId": "2d8de067-9c5e-4b9b-fb31-12f9bf40ee15"
      },
      "execution_count": null,
      "outputs": [
        {
          "output_type": "execute_result",
          "data": {
            "text/plain": [
              "array(['Braund, Mr. Owen Harris',\n",
              "       'Cumings, Mrs. John Bradley (Florence Briggs Thayer)',\n",
              "       'Heikkinen, Miss. Laina', ..., 'Saether, Mr. Simon Sivertsen',\n",
              "       'Ware, Mr. Frederick', 'Peter, Master. Michael J'], dtype=object)"
            ]
          },
          "metadata": {},
          "execution_count": 17
        }
      ]
    },
    {
      "cell_type": "code",
      "source": [
        "# Name 의 문자열을 쉼표를 기준으로 분할, 뒷 부분을 title name 에 할당\n",
        "\n",
        "title_name = data['Name'].str.split(\",\", expand=True)[1]\n",
        "title_name"
      ],
      "metadata": {
        "id": "vnxPeP5c__xY",
        "colab": {
          "base_uri": "https://localhost:8080/"
        },
        "outputId": "c28a16d0-cb29-4091-e2f8-f72bb4fb164d"
      },
      "execution_count": null,
      "outputs": [
        {
          "output_type": "execute_result",
          "data": {
            "text/plain": [
              "0                                  Mr. Owen Harris\n",
              "1       Mrs. John Bradley (Florence Briggs Thayer)\n",
              "2                                      Miss. Laina\n",
              "3               Mrs. Jacques Heath (Lily May Peel)\n",
              "4                                Mr. William Henry\n",
              "                          ...                     \n",
              "413                                      Mr. Woolf\n",
              "414                                  Dona. Fermina\n",
              "415                            Mr. Simon Sivertsen\n",
              "416                                  Mr. Frederick\n",
              "417                              Master. Michael J\n",
              "Name: 1, Length: 1309, dtype: object"
            ]
          },
          "metadata": {},
          "execution_count": 18
        }
      ]
    },
    {
      "cell_type": "code",
      "source": [
        "# title_name 을 다시 . 을 기준으로 분할\n",
        "\n",
        "title_name.str.split(\".\", expand=True)"
      ],
      "metadata": {
        "id": "cILy1RjMAtXj",
        "colab": {
          "base_uri": "https://localhost:8080/"
        },
        "outputId": "efc16012-4b4d-434b-9673-62febf9f02dd"
      },
      "execution_count": null,
      "outputs": [
        {
          "output_type": "execute_result",
          "data": {
            "text/plain": [
              "           0                                       1     2\n",
              "0         Mr                             Owen Harris  None\n",
              "1        Mrs   John Bradley (Florence Briggs Thayer)  None\n",
              "2       Miss                                   Laina  None\n",
              "3        Mrs           Jacques Heath (Lily May Peel)  None\n",
              "4         Mr                           William Henry  None\n",
              "..       ...                                     ...   ...\n",
              "413       Mr                                   Woolf  None\n",
              "414     Dona                                 Fermina  None\n",
              "415       Mr                         Simon Sivertsen  None\n",
              "416       Mr                               Frederick  None\n",
              "417   Master                               Michael J  None\n",
              "\n",
              "[1309 rows x 3 columns]"
            ],
            "text/html": [
              "\n",
              "  <div id=\"df-33546278-e741-42e6-b374-6a317a04f844\" class=\"colab-df-container\">\n",
              "    <div>\n",
              "<style scoped>\n",
              "    .dataframe tbody tr th:only-of-type {\n",
              "        vertical-align: middle;\n",
              "    }\n",
              "\n",
              "    .dataframe tbody tr th {\n",
              "        vertical-align: top;\n",
              "    }\n",
              "\n",
              "    .dataframe thead th {\n",
              "        text-align: right;\n",
              "    }\n",
              "</style>\n",
              "<table border=\"1\" class=\"dataframe\">\n",
              "  <thead>\n",
              "    <tr style=\"text-align: right;\">\n",
              "      <th></th>\n",
              "      <th>0</th>\n",
              "      <th>1</th>\n",
              "      <th>2</th>\n",
              "    </tr>\n",
              "  </thead>\n",
              "  <tbody>\n",
              "    <tr>\n",
              "      <th>0</th>\n",
              "      <td>Mr</td>\n",
              "      <td>Owen Harris</td>\n",
              "      <td>None</td>\n",
              "    </tr>\n",
              "    <tr>\n",
              "      <th>1</th>\n",
              "      <td>Mrs</td>\n",
              "      <td>John Bradley (Florence Briggs Thayer)</td>\n",
              "      <td>None</td>\n",
              "    </tr>\n",
              "    <tr>\n",
              "      <th>2</th>\n",
              "      <td>Miss</td>\n",
              "      <td>Laina</td>\n",
              "      <td>None</td>\n",
              "    </tr>\n",
              "    <tr>\n",
              "      <th>3</th>\n",
              "      <td>Mrs</td>\n",
              "      <td>Jacques Heath (Lily May Peel)</td>\n",
              "      <td>None</td>\n",
              "    </tr>\n",
              "    <tr>\n",
              "      <th>4</th>\n",
              "      <td>Mr</td>\n",
              "      <td>William Henry</td>\n",
              "      <td>None</td>\n",
              "    </tr>\n",
              "    <tr>\n",
              "      <th>...</th>\n",
              "      <td>...</td>\n",
              "      <td>...</td>\n",
              "      <td>...</td>\n",
              "    </tr>\n",
              "    <tr>\n",
              "      <th>413</th>\n",
              "      <td>Mr</td>\n",
              "      <td>Woolf</td>\n",
              "      <td>None</td>\n",
              "    </tr>\n",
              "    <tr>\n",
              "      <th>414</th>\n",
              "      <td>Dona</td>\n",
              "      <td>Fermina</td>\n",
              "      <td>None</td>\n",
              "    </tr>\n",
              "    <tr>\n",
              "      <th>415</th>\n",
              "      <td>Mr</td>\n",
              "      <td>Simon Sivertsen</td>\n",
              "      <td>None</td>\n",
              "    </tr>\n",
              "    <tr>\n",
              "      <th>416</th>\n",
              "      <td>Mr</td>\n",
              "      <td>Frederick</td>\n",
              "      <td>None</td>\n",
              "    </tr>\n",
              "    <tr>\n",
              "      <th>417</th>\n",
              "      <td>Master</td>\n",
              "      <td>Michael J</td>\n",
              "      <td>None</td>\n",
              "    </tr>\n",
              "  </tbody>\n",
              "</table>\n",
              "<p>1309 rows × 3 columns</p>\n",
              "</div>\n",
              "    <div class=\"colab-df-buttons\">\n",
              "\n",
              "  <div class=\"colab-df-container\">\n",
              "    <button class=\"colab-df-convert\" onclick=\"convertToInteractive('df-33546278-e741-42e6-b374-6a317a04f844')\"\n",
              "            title=\"Convert this dataframe to an interactive table.\"\n",
              "            style=\"display:none;\">\n",
              "\n",
              "  <svg xmlns=\"http://www.w3.org/2000/svg\" height=\"24px\" viewBox=\"0 -960 960 960\">\n",
              "    <path d=\"M120-120v-720h720v720H120Zm60-500h600v-160H180v160Zm220 220h160v-160H400v160Zm0 220h160v-160H400v160ZM180-400h160v-160H180v160Zm440 0h160v-160H620v160ZM180-180h160v-160H180v160Zm440 0h160v-160H620v160Z\"/>\n",
              "  </svg>\n",
              "    </button>\n",
              "\n",
              "  <style>\n",
              "    .colab-df-container {\n",
              "      display:flex;\n",
              "      gap: 12px;\n",
              "    }\n",
              "\n",
              "    .colab-df-convert {\n",
              "      background-color: #E8F0FE;\n",
              "      border: none;\n",
              "      border-radius: 50%;\n",
              "      cursor: pointer;\n",
              "      display: none;\n",
              "      fill: #1967D2;\n",
              "      height: 32px;\n",
              "      padding: 0 0 0 0;\n",
              "      width: 32px;\n",
              "    }\n",
              "\n",
              "    .colab-df-convert:hover {\n",
              "      background-color: #E2EBFA;\n",
              "      box-shadow: 0px 1px 2px rgba(60, 64, 67, 0.3), 0px 1px 3px 1px rgba(60, 64, 67, 0.15);\n",
              "      fill: #174EA6;\n",
              "    }\n",
              "\n",
              "    .colab-df-buttons div {\n",
              "      margin-bottom: 4px;\n",
              "    }\n",
              "\n",
              "    [theme=dark] .colab-df-convert {\n",
              "      background-color: #3B4455;\n",
              "      fill: #D2E3FC;\n",
              "    }\n",
              "\n",
              "    [theme=dark] .colab-df-convert:hover {\n",
              "      background-color: #434B5C;\n",
              "      box-shadow: 0px 1px 3px 1px rgba(0, 0, 0, 0.15);\n",
              "      filter: drop-shadow(0px 1px 2px rgba(0, 0, 0, 0.3));\n",
              "      fill: #FFFFFF;\n",
              "    }\n",
              "  </style>\n",
              "\n",
              "    <script>\n",
              "      const buttonEl =\n",
              "        document.querySelector('#df-33546278-e741-42e6-b374-6a317a04f844 button.colab-df-convert');\n",
              "      buttonEl.style.display =\n",
              "        google.colab.kernel.accessAllowed ? 'block' : 'none';\n",
              "\n",
              "      async function convertToInteractive(key) {\n",
              "        const element = document.querySelector('#df-33546278-e741-42e6-b374-6a317a04f844');\n",
              "        const dataTable =\n",
              "          await google.colab.kernel.invokeFunction('convertToInteractive',\n",
              "                                                    [key], {});\n",
              "        if (!dataTable) return;\n",
              "\n",
              "        const docLinkHtml = 'Like what you see? Visit the ' +\n",
              "          '<a target=\"_blank\" href=https://colab.research.google.com/notebooks/data_table.ipynb>data table notebook</a>'\n",
              "          + ' to learn more about interactive tables.';\n",
              "        element.innerHTML = '';\n",
              "        dataTable['output_type'] = 'display_data';\n",
              "        await google.colab.output.renderOutput(dataTable, element);\n",
              "        const docLink = document.createElement('div');\n",
              "        docLink.innerHTML = docLinkHtml;\n",
              "        element.appendChild(docLink);\n",
              "      }\n",
              "    </script>\n",
              "  </div>\n",
              "\n",
              "\n",
              "<div id=\"df-076f6e3c-373c-4d65-92e5-42a8c771776e\">\n",
              "  <button class=\"colab-df-quickchart\" onclick=\"quickchart('df-076f6e3c-373c-4d65-92e5-42a8c771776e')\"\n",
              "            title=\"Suggest charts.\"\n",
              "            style=\"display:none;\">\n",
              "\n",
              "<svg xmlns=\"http://www.w3.org/2000/svg\" height=\"24px\"viewBox=\"0 0 24 24\"\n",
              "     width=\"24px\">\n",
              "    <g>\n",
              "        <path d=\"M19 3H5c-1.1 0-2 .9-2 2v14c0 1.1.9 2 2 2h14c1.1 0 2-.9 2-2V5c0-1.1-.9-2-2-2zM9 17H7v-7h2v7zm4 0h-2V7h2v10zm4 0h-2v-4h2v4z\"/>\n",
              "    </g>\n",
              "</svg>\n",
              "  </button>\n",
              "\n",
              "<style>\n",
              "  .colab-df-quickchart {\n",
              "    background-color: #E8F0FE;\n",
              "    border: none;\n",
              "    border-radius: 50%;\n",
              "    cursor: pointer;\n",
              "    display: none;\n",
              "    fill: #1967D2;\n",
              "    height: 32px;\n",
              "    padding: 0 0 0 0;\n",
              "    width: 32px;\n",
              "  }\n",
              "\n",
              "  .colab-df-quickchart:hover {\n",
              "    background-color: #E2EBFA;\n",
              "    box-shadow: 0px 1px 2px rgba(60, 64, 67, 0.3), 0px 1px 3px 1px rgba(60, 64, 67, 0.15);\n",
              "    fill: #174EA6;\n",
              "  }\n",
              "\n",
              "  [theme=dark] .colab-df-quickchart {\n",
              "    background-color: #3B4455;\n",
              "    fill: #D2E3FC;\n",
              "  }\n",
              "\n",
              "  [theme=dark] .colab-df-quickchart:hover {\n",
              "    background-color: #434B5C;\n",
              "    box-shadow: 0px 1px 3px 1px rgba(0, 0, 0, 0.15);\n",
              "    filter: drop-shadow(0px 1px 2px rgba(0, 0, 0, 0.3));\n",
              "    fill: #FFFFFF;\n",
              "  }\n",
              "</style>\n",
              "\n",
              "  <script>\n",
              "    async function quickchart(key) {\n",
              "      const charts = await google.colab.kernel.invokeFunction(\n",
              "          'suggestCharts', [key], {});\n",
              "    }\n",
              "    (() => {\n",
              "      let quickchartButtonEl =\n",
              "        document.querySelector('#df-076f6e3c-373c-4d65-92e5-42a8c771776e button');\n",
              "      quickchartButtonEl.style.display =\n",
              "        google.colab.kernel.accessAllowed ? 'block' : 'none';\n",
              "    })();\n",
              "  </script>\n",
              "</div>\n",
              "    </div>\n",
              "  </div>\n"
            ]
          },
          "metadata": {},
          "execution_count": 19
        }
      ]
    },
    {
      "cell_type": "code",
      "source": [
        "# 위에서 분할한 title name 중 앞부분 (Mr, miss) 만 추출\n",
        "\n",
        "title = title_name.str.split(\".\", expand=True)[0]\n",
        "title.value_counts()"
      ],
      "metadata": {
        "id": "VwPhRRhkBXRr",
        "colab": {
          "base_uri": "https://localhost:8080/"
        },
        "outputId": "4a27623f-3b93-43b0-9c1d-362f192dbce0"
      },
      "execution_count": null,
      "outputs": [
        {
          "output_type": "execute_result",
          "data": {
            "text/plain": [
              " Mr              757\n",
              " Miss            260\n",
              " Mrs             197\n",
              " Master           61\n",
              " Rev               8\n",
              " Dr                8\n",
              " Col               4\n",
              " Mlle              2\n",
              " Major             2\n",
              " Ms                2\n",
              " Lady              1\n",
              " Sir               1\n",
              " Mme               1\n",
              " Don               1\n",
              " Capt              1\n",
              " the Countess      1\n",
              " Jonkheer          1\n",
              " Dona              1\n",
              "Name: 0, dtype: int64"
            ]
          },
          "metadata": {},
          "execution_count": 20
        }
      ]
    },
    {
      "cell_type": "code",
      "source": [
        "# title name 의 고유수를 통일 시키기\n",
        "\n",
        "title = title.replace([' Ms','Miss'],' Miss')\n",
        "title = title.replace([' Mlle', ' the Countess', ' Lady', ' Don', ' Dona', ' Mme', ' Sir', ' Jonkheer'], ' Noble')\n",
        "title = title.replace([' Col', ' Major', ' Capt'], ' Officer')\n",
        "title = title.replace([' Dr', ' Rev'], ' Priest')\n",
        "\n",
        "data['Title'] = np.array(title)\n",
        "data['Title'].value_counts(dropna=False)"
      ],
      "metadata": {
        "id": "Eb4DnF46BfbQ",
        "colab": {
          "base_uri": "https://localhost:8080/"
        },
        "outputId": "35df0b5f-5b01-4c85-8bcd-bd2526da1001"
      },
      "execution_count": null,
      "outputs": [
        {
          "output_type": "execute_result",
          "data": {
            "text/plain": [
              " Mr         757\n",
              " Miss       262\n",
              " Mrs        197\n",
              " Master      61\n",
              " Priest      16\n",
              " Noble        9\n",
              " Officer      7\n",
              "Name: Title, dtype: int64"
            ]
          },
          "metadata": {},
          "execution_count": 21
        }
      ]
    },
    {
      "cell_type": "code",
      "source": [
        "#title = title.replace({'Mlle', 'the Countess', 'Lady', 'Don', 'Dona', 'Mme', 'Sir', 'Jonkheer'], 'Noble')\n",
        "#title = title.replace(['Col', 'Major', 'Capt'], 'Officer')\n",
        "#title = title.replace(['Dr', 'Rev'], 'Priest')\n",
        "\n",
        "#data['Title'] = np.array(title)\n",
        "#data['Title'].value_counts(dropna=False)"
      ],
      "metadata": {
        "id": "T6QXKfhAyPMJ"
      },
      "execution_count": null,
      "outputs": []
    },
    {
      "cell_type": "code",
      "source": [
        "np.unique(title, return_counts=True)"
      ],
      "metadata": {
        "colab": {
          "base_uri": "https://localhost:8080/"
        },
        "id": "GRzgXwu8z25f",
        "outputId": "c915c5b5-9d50-42c3-d8d4-40c211c93e18"
      },
      "execution_count": null,
      "outputs": [
        {
          "output_type": "execute_result",
          "data": {
            "text/plain": [
              "(array([' Master', ' Miss', ' Mr', ' Mrs', ' Noble', ' Officer', ' Priest'],\n",
              "       dtype=object),\n",
              " array([ 61, 262, 757, 197,   9,   7,  16]))"
            ]
          },
          "metadata": {},
          "execution_count": 23
        }
      ]
    },
    {
      "cell_type": "markdown",
      "source": [
        "4)-2. Title 분포 그래프"
      ],
      "metadata": {
        "id": "YPwr4kJg3Bnx"
      }
    },
    {
      "cell_type": "code",
      "source": [
        "sns.violinplot(x='Title', y='Age', hue='Survived', data=data, split=True)\n",
        "plt.show()"
      ],
      "metadata": {
        "colab": {
          "base_uri": "https://localhost:8080/"
        },
        "id": "v-xD2gmz3e5v",
        "outputId": "9b0b34d0-4791-414c-abfa-88f9636f8f42"
      },
      "execution_count": null,
      "outputs": [
        {
          "output_type": "display_data",
          "data": {
            "text/plain": [
              "<Figure size 640x480 with 1 Axes>"
            ],
            "image/png": "[encoded data removed]"
          },
          "metadata": {}
        }
      ]
    },
    {
      "cell_type": "code",
      "source": [
        "data.drop('Name', axis=1, inplace=True)\n",
        "data.columns"
      ],
      "metadata": {
        "colab": {
          "base_uri": "https://localhost:8080/"
        },
        "id": "txQznpJV4GIH",
        "outputId": "30d34a4c-8b8c-4a65-9168-221a48b228a8"
      },
      "execution_count": null,
      "outputs": [
        {
          "output_type": "execute_result",
          "data": {
            "text/plain": [
              "Index(['PassengerId', 'Survived', 'Pclass', 'Sex', 'Age', 'SibSp', 'Parch',\n",
              "       'Ticket', 'Fare', 'Cabin', 'Embarked', 'TrainSplit', 'Title'],\n",
              "      dtype='object')"
            ]
          },
          "metadata": {},
          "execution_count": 25
        }
      ]
    },
    {
      "cell_type": "markdown",
      "source": [
        " **5) 나이**"
      ],
      "metadata": {
        "id": "RnepdkprWTG3"
      }
    },
    {
      "cell_type": "markdown",
      "source": [
        "5)-1. 나이 (Age)열 결측값 처리"
      ],
      "metadata": {
        "id": "W6NALbnr7aER"
      }
    },
    {
      "cell_type": "markdown",
      "source": [
        "Age 의 결측값을 확인 후, 같은 타이틀을 갖는 승객끼리 그룹을 나누고, 그룹별 승객 나이의 중간값으로 결측값을 대체한다."
      ],
      "metadata": {
        "id": "sPKjhS3P5RWY"
      }
    },
    {
      "cell_type": "code",
      "source": [
        "for title in data['Title'].unique():\n",
        "\n",
        "  # 결측값 개수 확인\n",
        "  print(\"%s 결측값 개수:\" % title, data.loc[data['Title']==title, :]['Age'].isnull().sum())\n",
        "\n",
        "  # 결측값 중간값으로 대체\n",
        "  age_median = data.loc[data['Title']==title, 'Age'].median()\n",
        "  data.loc[data['Title']==title, 'Age'] = data.loc[data['Title']==title, 'Age'].fillna(age_median)\n",
        "\n",
        "  # 결측값 처리 여부 확인\n",
        "  print(\"\\n\")\n",
        "  print(\"Age 열의 결측값 개수: \", data['Age'].isnull().sum())"
      ],
      "metadata": {
        "colab": {
          "base_uri": "https://localhost:8080/"
        },
        "id": "_kf7VPLet8Mt",
        "outputId": "c7436dda-ab1d-4493-a52f-cbabaa7bea6d"
      },
      "execution_count": null,
      "outputs": [
        {
          "output_type": "stream",
          "name": "stdout",
          "text": [
            " Mr 결측값 개수: 176\n",
            "\n",
            "\n",
            "Age 열의 결측값 개수:  87\n",
            " Mrs 결측값 개수: 27\n",
            "\n",
            "\n",
            "Age 열의 결측값 개수:  60\n",
            " Miss 결측값 개수: 51\n",
            "\n",
            "\n",
            "Age 열의 결측값 개수:  9\n",
            " Master 결측값 개수: 8\n",
            "\n",
            "\n",
            "Age 열의 결측값 개수:  1\n",
            " Noble 결측값 개수: 0\n",
            "\n",
            "\n",
            "Age 열의 결측값 개수:  1\n",
            " Priest 결측값 개수: 1\n",
            "\n",
            "\n",
            "Age 열의 결측값 개수:  0\n",
            " Officer 결측값 개수: 0\n",
            "\n",
            "\n",
            "Age 열의 결측값 개수:  0\n"
          ]
        }
      ]
    },
    {
      "cell_type": "markdown",
      "source": [
        "5)-2. 나이 (Age) 히스토그램 그리기"
      ],
      "metadata": {
        "id": "zIkU8X0w7gPL"
      }
    },
    {
      "cell_type": "code",
      "source": [
        "# Age 분포\n",
        "\n",
        "sns.displot(x='Age', kind='hist', hue='Survived', data=data[data['TrainSplit']=='Train'])\n",
        "plt.show()"
      ],
      "metadata": {
        "colab": {
          "base_uri": "https://localhost:8080/"
        },
        "id": "9_9BBy797YVT",
        "outputId": "86d9746c-0205-4ceb-ffbb-51de5960aba2"
      },
      "execution_count": null,
      "outputs": [
        {
          "output_type": "display_data",
          "data": {
            "text/plain": [
              "<Figure size 572.111x500 with 1 Axes>"
            ],
            "image/png": "[encoded data removed]"
          },
          "metadata": {}
        }
      ]
    },
    {
      "cell_type": "markdown",
      "source": [
        "5-3) 나이 (Age) 열의 데이터를 여러 구간으로 나눈 후 그리기 (Binning)"
      ],
      "metadata": {
        "id": "BEsbNXWG8Qa3"
      }
    },
    {
      "cell_type": "code",
      "source": [
        "# Binning - 구간 나누기\n",
        "\n",
        "bins = [0, 4, 8, 12, 16, 32, 36, 48, 56, 64, 100]\n",
        "labels=['Infant', 'Child1', 'Child2', 'Youth1', 'Youth2', 'Adult1', 'Adult2', 'Middle Aged', 'Senior', 'Elderly']\n",
        "\n",
        "data['AgeBin'] = pd.cut(data['Age'], bins=bins, labels=labels)\n",
        "\n",
        "# Age_bin(나이 구간) 에 따른 생존율 비교\n",
        "\n",
        "sns.countplot(x='AgeBin', hue='Survived', data=data[data['TrainSplit']=='Train'])\n",
        "\n",
        "\n",
        "plt.xticks(rotation=45)\n",
        "plt.show()"
      ],
      "metadata": {
        "colab": {
          "base_uri": "https://localhost:8080/"
        },
        "id": "3brLzijT8bMW",
        "outputId": "2ddd7167-89cd-45b3-e640-dbb39f481edf"
      },
      "execution_count": null,
      "outputs": [
        {
          "output_type": "display_data",
          "data": {
            "text/plain": [
              "<Figure size 640x480 with 1 Axes>"
            ],
            "image/png": "[encoded data removed]"
          },
          "metadata": {}
        }
      ]
    },
    {
      "cell_type": "markdown",
      "source": [
        " **6) 형제자매 배우자**"
      ],
      "metadata": {
        "id": "VsPDptgCyQR4"
      }
    },
    {
      "cell_type": "code",
      "source": [
        "sns.boxplot(x='SibSp', y='Age', hue='Survived', data=data)\n",
        "plt.show()"
      ],
      "metadata": {
        "id": "LRN76hQXCB1t",
        "colab": {
          "base_uri": "https://localhost:8080/"
        },
        "outputId": "c1287e65-c712-4e01-c45c-d89672a2d353"
      },
      "execution_count": null,
      "outputs": [
        {
          "output_type": "display_data",
          "data": {
            "text/plain": [
              "<Figure size 640x480 with 1 Axes>"
            ],
            "image/png": "[encoded data removed]"
          },
          "metadata": {}
        }
      ]
    },
    {
      "cell_type": "markdown",
      "source": [
        "**7) 부모 자식**"
      ],
      "metadata": {
        "id": "76IJq-cBzjZF"
      }
    },
    {
      "cell_type": "code",
      "source": [
        "sns.boxplot(x='Parch', y='Age', hue='Survived', data=data)\n",
        "plt.show()"
      ],
      "metadata": {
        "id": "Pl7ZoNVAzg0h",
        "colab": {
          "base_uri": "https://localhost:8080/"
        },
        "outputId": "e78cfbe4-9d3f-440f-df05-3c89043e8363"
      },
      "execution_count": null,
      "outputs": [
        {
          "output_type": "display_data",
          "data": {
            "text/plain": [
              "<Figure size 640x480 with 1 Axes>"
            ],
            "image/png": "[encoded data removed]"
          },
          "metadata": {}
        }
      ]
    },
    {
      "cell_type": "markdown",
      "source": [
        "**7)-2. 가족 수와 객실 등급 기준으로 생존율 차이 확인**\n",
        "\n",
        "* 형제 자매와 부모를 더하여서 함께 탑승한 모든 가족의 수를 계산"
      ],
      "metadata": {
        "id": "LpxLXv5m0J_T"
      }
    },
    {
      "cell_type": "code",
      "source": [
        "# 가족 구성원 수\n",
        "data['FamilySize'] = data['SibSp'] + data['Parch'] + 1\n",
        "\n",
        "# 가족 구성원 수와 생존율 관계\n",
        "sns.barplot(x='FamilySize', y='Survived', hue='Pclass',data = data[data['TrainSplit']=='Train'], estimator=np.mean)\n",
        "\n",
        "plt.show()"
      ],
      "metadata": {
        "id": "mKpmc4rmzxwX",
        "colab": {
          "base_uri": "https://localhost:8080/"
        },
        "outputId": "81635948-08e9-4535-84bf-6db78d91d526"
      },
      "execution_count": null,
      "outputs": [
        {
          "output_type": "display_data",
          "data": {
            "text/plain": [
              "<Figure size 640x480 with 1 Axes>"
            ],
            "image/png": "[encoded data removed]"
          },
          "metadata": {}
        }
      ]
    },
    {
      "cell_type": "markdown",
      "source": [
        "**8) 요금(Fare)**\n"
      ],
      "metadata": {
        "id": "DmvF2cos2PZ2"
      }
    },
    {
      "cell_type": "markdown",
      "source": [
        "**8)-1 요금 결측치 채우기**\n",
        "\n",
        "* Fare 에는 1개의 결측 데이터가 있다.\n",
        "* 결측 데이터를 3등석 요금의 평균으로 채워 준다."
      ],
      "metadata": {
        "id": "GGhaATTa4vox"
      }
    },
    {
      "cell_type": "code",
      "source": [
        "# 결측 데이터 확인\n",
        "\n",
        "data.loc[data['Fare'].isnull(), :]"
      ],
      "metadata": {
        "id": "IparzVBI2EZQ",
        "colab": {
          "base_uri": "https://localhost:8080/"
        },
        "outputId": "9009bdb3-0dfb-4785-e822-0ddc726bc095"
      },
      "execution_count": null,
      "outputs": [
        {
          "output_type": "execute_result",
          "data": {
            "text/plain": [
              "     PassengerId  Survived  Pclass  Sex   Age  SibSp  Parch Ticket  Fare  \\\n",
              "152         1044       NaN       3    1  60.5      0      0   3701   NaN   \n",
              "\n",
              "    Cabin Embarked TrainSplit Title  AgeBin  FamilySize  \n",
              "152   NaN        S       Test    Mr  Senior           1  "
            ],
            "text/html": [
              "\n",
              "  <div id=\"df-d1523683-db29-4143-b67c-07bbb6bdfc4b\" class=\"colab-df-container\">\n",
              "    <div>\n",
              "<style scoped>\n",
              "    .dataframe tbody tr th:only-of-type {\n",
              "        vertical-align: middle;\n",
              "    }\n",
              "\n",
              "    .dataframe tbody tr th {\n",
              "        vertical-align: top;\n",
              "    }\n",
              "\n",
              "    .dataframe thead th {\n",
              "        text-align: right;\n",
              "    }\n",
              "</style>\n",
              "<table border=\"1\" class=\"dataframe\">\n",
              "  <thead>\n",
              "    <tr style=\"text-align: right;\">\n",
              "      <th></th>\n",
              "      <th>PassengerId</th>\n",
              "      <th>Survived</th>\n",
              "      <th>Pclass</th>\n",
              "      <th>Sex</th>\n",
              "      <th>Age</th>\n",
              "      <th>SibSp</th>\n",
              "      <th>Parch</th>\n",
              "      <th>Ticket</th>\n",
              "      <th>Fare</th>\n",
              "      <th>Cabin</th>\n",
              "      <th>Embarked</th>\n",
              "      <th>TrainSplit</th>\n",
              "      <th>Title</th>\n",
              "      <th>AgeBin</th>\n",
              "      <th>FamilySize</th>\n",
              "    </tr>\n",
              "  </thead>\n",
              "  <tbody>\n",
              "    <tr>\n",
              "      <th>152</th>\n",
              "      <td>1044</td>\n",
              "      <td>NaN</td>\n",
              "      <td>3</td>\n",
              "      <td>1</td>\n",
              "      <td>60.5</td>\n",
              "      <td>0</td>\n",
              "      <td>0</td>\n",
              "      <td>3701</td>\n",
              "      <td>NaN</td>\n",
              "      <td>NaN</td>\n",
              "      <td>S</td>\n",
              "      <td>Test</td>\n",
              "      <td>Mr</td>\n",
              "      <td>Senior</td>\n",
              "      <td>1</td>\n",
              "    </tr>\n",
              "  </tbody>\n",
              "</table>\n",
              "</div>\n",
              "    <div class=\"colab-df-buttons\">\n",
              "\n",
              "  <div class=\"colab-df-container\">\n",
              "    <button class=\"colab-df-convert\" onclick=\"convertToInteractive('df-d1523683-db29-4143-b67c-07bbb6bdfc4b')\"\n",
              "            title=\"Convert this dataframe to an interactive table.\"\n",
              "            style=\"display:none;\">\n",
              "\n",
              "  <svg xmlns=\"http://www.w3.org/2000/svg\" height=\"24px\" viewBox=\"0 -960 960 960\">\n",
              "    <path d=\"M120-120v-720h720v720H120Zm60-500h600v-160H180v160Zm220 220h160v-160H400v160Zm0 220h160v-160H400v160ZM180-400h160v-160H180v160Zm440 0h160v-160H620v160ZM180-180h160v-160H180v160Zm440 0h160v-160H620v160Z\"/>\n",
              "  </svg>\n",
              "    </button>\n",
              "\n",
              "  <style>\n",
              "    .colab-df-container {\n",
              "      display:flex;\n",
              "      gap: 12px;\n",
              "    }\n",
              "\n",
              "    .colab-df-convert {\n",
              "      background-color: #E8F0FE;\n",
              "      border: none;\n",
              "      border-radius: 50%;\n",
              "      cursor: pointer;\n",
              "      display: none;\n",
              "      fill: #1967D2;\n",
              "      height: 32px;\n",
              "      padding: 0 0 0 0;\n",
              "      width: 32px;\n",
              "    }\n",
              "\n",
              "    .colab-df-convert:hover {\n",
              "      background-color: #E2EBFA;\n",
              "      box-shadow: 0px 1px 2px rgba(60, 64, 67, 0.3), 0px 1px 3px 1px rgba(60, 64, 67, 0.15);\n",
              "      fill: #174EA6;\n",
              "    }\n",
              "\n",
              "    .colab-df-buttons div {\n",
              "      margin-bottom: 4px;\n",
              "    }\n",
              "\n",
              "    [theme=dark] .colab-df-convert {\n",
              "      background-color: #3B4455;\n",
              "      fill: #D2E3FC;\n",
              "    }\n",
              "\n",
              "    [theme=dark] .colab-df-convert:hover {\n",
              "      background-color: #434B5C;\n",
              "      box-shadow: 0px 1px 3px 1px rgba(0, 0, 0, 0.15);\n",
              "      filter: drop-shadow(0px 1px 2px rgba(0, 0, 0, 0.3));\n",
              "      fill: #FFFFFF;\n",
              "    }\n",
              "  </style>\n",
              "\n",
              "    <script>\n",
              "      const buttonEl =\n",
              "        document.querySelector('#df-d1523683-db29-4143-b67c-07bbb6bdfc4b button.colab-df-convert');\n",
              "      buttonEl.style.display =\n",
              "        google.colab.kernel.accessAllowed ? 'block' : 'none';\n",
              "\n",
              "      async function convertToInteractive(key) {\n",
              "        const element = document.querySelector('#df-d1523683-db29-4143-b67c-07bbb6bdfc4b');\n",
              "        const dataTable =\n",
              "          await google.colab.kernel.invokeFunction('convertToInteractive',\n",
              "                                                    [key], {});\n",
              "        if (!dataTable) return;\n",
              "\n",
              "        const docLinkHtml = 'Like what you see? Visit the ' +\n",
              "          '<a target=\"_blank\" href=https://colab.research.google.com/notebooks/data_table.ipynb>data table notebook</a>'\n",
              "          + ' to learn more about interactive tables.';\n",
              "        element.innerHTML = '';\n",
              "        dataTable['output_type'] = 'display_data';\n",
              "        await google.colab.output.renderOutput(dataTable, element);\n",
              "        const docLink = document.createElement('div');\n",
              "        docLink.innerHTML = docLinkHtml;\n",
              "        element.appendChild(docLink);\n",
              "      }\n",
              "    </script>\n",
              "  </div>\n",
              "\n",
              "\n",
              "<div id=\"df-3708d13d-eaf9-4474-bd68-f306733d425a\">\n",
              "  <button class=\"colab-df-quickchart\" onclick=\"quickchart('df-3708d13d-eaf9-4474-bd68-f306733d425a')\"\n",
              "            title=\"Suggest charts.\"\n",
              "            style=\"display:none;\">\n",
              "\n",
              "<svg xmlns=\"http://www.w3.org/2000/svg\" height=\"24px\"viewBox=\"0 0 24 24\"\n",
              "     width=\"24px\">\n",
              "    <g>\n",
              "        <path d=\"M19 3H5c-1.1 0-2 .9-2 2v14c0 1.1.9 2 2 2h14c1.1 0 2-.9 2-2V5c0-1.1-.9-2-2-2zM9 17H7v-7h2v7zm4 0h-2V7h2v10zm4 0h-2v-4h2v4z\"/>\n",
              "    </g>\n",
              "</svg>\n",
              "  </button>\n",
              "\n",
              "<style>\n",
              "  .colab-df-quickchart {\n",
              "    background-color: #E8F0FE;\n",
              "    border: none;\n",
              "    border-radius: 50%;\n",
              "    cursor: pointer;\n",
              "    display: none;\n",
              "    fill: #1967D2;\n",
              "    height: 32px;\n",
              "    padding: 0 0 0 0;\n",
              "    width: 32px;\n",
              "  }\n",
              "\n",
              "  .colab-df-quickchart:hover {\n",
              "    background-color: #E2EBFA;\n",
              "    box-shadow: 0px 1px 2px rgba(60, 64, 67, 0.3), 0px 1px 3px 1px rgba(60, 64, 67, 0.15);\n",
              "    fill: #174EA6;\n",
              "  }\n",
              "\n",
              "  [theme=dark] .colab-df-quickchart {\n",
              "    background-color: #3B4455;\n",
              "    fill: #D2E3FC;\n",
              "  }\n",
              "\n",
              "  [theme=dark] .colab-df-quickchart:hover {\n",
              "    background-color: #434B5C;\n",
              "    box-shadow: 0px 1px 3px 1px rgba(0, 0, 0, 0.15);\n",
              "    filter: drop-shadow(0px 1px 2px rgba(0, 0, 0, 0.3));\n",
              "    fill: #FFFFFF;\n",
              "  }\n",
              "</style>\n",
              "\n",
              "  <script>\n",
              "    async function quickchart(key) {\n",
              "      const charts = await google.colab.kernel.invokeFunction(\n",
              "          'suggestCharts', [key], {});\n",
              "    }\n",
              "    (() => {\n",
              "      let quickchartButtonEl =\n",
              "        document.querySelector('#df-3708d13d-eaf9-4474-bd68-f306733d425a button');\n",
              "      quickchartButtonEl.style.display =\n",
              "        google.colab.kernel.accessAllowed ? 'block' : 'none';\n",
              "    })();\n",
              "  </script>\n",
              "</div>\n",
              "    </div>\n",
              "  </div>\n"
            ]
          },
          "metadata": {},
          "execution_count": 32
        }
      ]
    },
    {
      "cell_type": "code",
      "source": [
        "# 3등석 요금의 평균값을 가지고 결측값 대체\n",
        "\n",
        "p3_fare_mean = data.loc[data['Pclass']==3, 'Fare'].mean()\n",
        "\n",
        "print(p3_fare_mean)\n",
        "\n",
        "data['Fare'] = data['Fare'].fillna(p3_fare_mean)\n",
        "\n",
        "data.loc[data['PassengerId']==1044, :]"
      ],
      "metadata": {
        "id": "RjqxyTbt2bhL",
        "colab": {
          "base_uri": "https://localhost:8080/"
        },
        "outputId": "08357001-05c5-4a6c-d0ce-808d74819c2c"
      },
      "execution_count": null,
      "outputs": [
        {
          "output_type": "stream",
          "name": "stdout",
          "text": [
            "13.302888700564973\n"
          ]
        },
        {
          "output_type": "execute_result",
          "data": {
            "text/plain": [
              "     PassengerId  Survived  Pclass  Sex   Age  SibSp  Parch Ticket       Fare  \\\n",
              "152         1044       NaN       3    1  60.5      0      0   3701  13.302889   \n",
              "\n",
              "    Cabin Embarked TrainSplit Title  AgeBin  FamilySize  \n",
              "152   NaN        S       Test    Mr  Senior           1  "
            ],
            "text/html": [
              "\n",
              "  <div id=\"df-23b02522-86b1-494e-9b5e-2b035f593cf0\" class=\"colab-df-container\">\n",
              "    <div>\n",
              "<style scoped>\n",
              "    .dataframe tbody tr th:only-of-type {\n",
              "        vertical-align: middle;\n",
              "    }\n",
              "\n",
              "    .dataframe tbody tr th {\n",
              "        vertical-align: top;\n",
              "    }\n",
              "\n",
              "    .dataframe thead th {\n",
              "        text-align: right;\n",
              "    }\n",
              "</style>\n",
              "<table border=\"1\" class=\"dataframe\">\n",
              "  <thead>\n",
              "    <tr style=\"text-align: right;\">\n",
              "      <th></th>\n",
              "      <th>PassengerId</th>\n",
              "      <th>Survived</th>\n",
              "      <th>Pclass</th>\n",
              "      <th>Sex</th>\n",
              "      <th>Age</th>\n",
              "      <th>SibSp</th>\n",
              "      <th>Parch</th>\n",
              "      <th>Ticket</th>\n",
              "      <th>Fare</th>\n",
              "      <th>Cabin</th>\n",
              "      <th>Embarked</th>\n",
              "      <th>TrainSplit</th>\n",
              "      <th>Title</th>\n",
              "      <th>AgeBin</th>\n",
              "      <th>FamilySize</th>\n",
              "    </tr>\n",
              "  </thead>\n",
              "  <tbody>\n",
              "    <tr>\n",
              "      <th>152</th>\n",
              "      <td>1044</td>\n",
              "      <td>NaN</td>\n",
              "      <td>3</td>\n",
              "      <td>1</td>\n",
              "      <td>60.5</td>\n",
              "      <td>0</td>\n",
              "      <td>0</td>\n",
              "      <td>3701</td>\n",
              "      <td>13.302889</td>\n",
              "      <td>NaN</td>\n",
              "      <td>S</td>\n",
              "      <td>Test</td>\n",
              "      <td>Mr</td>\n",
              "      <td>Senior</td>\n",
              "      <td>1</td>\n",
              "    </tr>\n",
              "  </tbody>\n",
              "</table>\n",
              "</div>\n",
              "    <div class=\"colab-df-buttons\">\n",
              "\n",
              "  <div class=\"colab-df-container\">\n",
              "    <button class=\"colab-df-convert\" onclick=\"convertToInteractive('df-23b02522-86b1-494e-9b5e-2b035f593cf0')\"\n",
              "            title=\"Convert this dataframe to an interactive table.\"\n",
              "            style=\"display:none;\">\n",
              "\n",
              "  <svg xmlns=\"http://www.w3.org/2000/svg\" height=\"24px\" viewBox=\"0 -960 960 960\">\n",
              "    <path d=\"M120-120v-720h720v720H120Zm60-500h600v-160H180v160Zm220 220h160v-160H400v160Zm0 220h160v-160H400v160ZM180-400h160v-160H180v160Zm440 0h160v-160H620v160ZM180-180h160v-160H180v160Zm440 0h160v-160H620v160Z\"/>\n",
              "  </svg>\n",
              "    </button>\n",
              "\n",
              "  <style>\n",
              "    .colab-df-container {\n",
              "      display:flex;\n",
              "      gap: 12px;\n",
              "    }\n",
              "\n",
              "    .colab-df-convert {\n",
              "      background-color: #E8F0FE;\n",
              "      border: none;\n",
              "      border-radius: 50%;\n",
              "      cursor: pointer;\n",
              "      display: none;\n",
              "      fill: #1967D2;\n",
              "      height: 32px;\n",
              "      padding: 0 0 0 0;\n",
              "      width: 32px;\n",
              "    }\n",
              "\n",
              "    .colab-df-convert:hover {\n",
              "      background-color: #E2EBFA;\n",
              "      box-shadow: 0px 1px 2px rgba(60, 64, 67, 0.3), 0px 1px 3px 1px rgba(60, 64, 67, 0.15);\n",
              "      fill: #174EA6;\n",
              "    }\n",
              "\n",
              "    .colab-df-buttons div {\n",
              "      margin-bottom: 4px;\n",
              "    }\n",
              "\n",
              "    [theme=dark] .colab-df-convert {\n",
              "      background-color: #3B4455;\n",
              "      fill: #D2E3FC;\n",
              "    }\n",
              "\n",
              "    [theme=dark] .colab-df-convert:hover {\n",
              "      background-color: #434B5C;\n",
              "      box-shadow: 0px 1px 3px 1px rgba(0, 0, 0, 0.15);\n",
              "      filter: drop-shadow(0px 1px 2px rgba(0, 0, 0, 0.3));\n",
              "      fill: #FFFFFF;\n",
              "    }\n",
              "  </style>\n",
              "\n",
              "    <script>\n",
              "      const buttonEl =\n",
              "        document.querySelector('#df-23b02522-86b1-494e-9b5e-2b035f593cf0 button.colab-df-convert');\n",
              "      buttonEl.style.display =\n",
              "        google.colab.kernel.accessAllowed ? 'block' : 'none';\n",
              "\n",
              "      async function convertToInteractive(key) {\n",
              "        const element = document.querySelector('#df-23b02522-86b1-494e-9b5e-2b035f593cf0');\n",
              "        const dataTable =\n",
              "          await google.colab.kernel.invokeFunction('convertToInteractive',\n",
              "                                                    [key], {});\n",
              "        if (!dataTable) return;\n",
              "\n",
              "        const docLinkHtml = 'Like what you see? Visit the ' +\n",
              "          '<a target=\"_blank\" href=https://colab.research.google.com/notebooks/data_table.ipynb>data table notebook</a>'\n",
              "          + ' to learn more about interactive tables.';\n",
              "        element.innerHTML = '';\n",
              "        dataTable['output_type'] = 'display_data';\n",
              "        await google.colab.output.renderOutput(dataTable, element);\n",
              "        const docLink = document.createElement('div');\n",
              "        docLink.innerHTML = docLinkHtml;\n",
              "        element.appendChild(docLink);\n",
              "      }\n",
              "    </script>\n",
              "  </div>\n",
              "\n",
              "\n",
              "<div id=\"df-d884f9a0-2789-4775-a213-4bb927e8907d\">\n",
              "  <button class=\"colab-df-quickchart\" onclick=\"quickchart('df-d884f9a0-2789-4775-a213-4bb927e8907d')\"\n",
              "            title=\"Suggest charts.\"\n",
              "            style=\"display:none;\">\n",
              "\n",
              "<svg xmlns=\"http://www.w3.org/2000/svg\" height=\"24px\"viewBox=\"0 0 24 24\"\n",
              "     width=\"24px\">\n",
              "    <g>\n",
              "        <path d=\"M19 3H5c-1.1 0-2 .9-2 2v14c0 1.1.9 2 2 2h14c1.1 0 2-.9 2-2V5c0-1.1-.9-2-2-2zM9 17H7v-7h2v7zm4 0h-2V7h2v10zm4 0h-2v-4h2v4z\"/>\n",
              "    </g>\n",
              "</svg>\n",
              "  </button>\n",
              "\n",
              "<style>\n",
              "  .colab-df-quickchart {\n",
              "    background-color: #E8F0FE;\n",
              "    border: none;\n",
              "    border-radius: 50%;\n",
              "    cursor: pointer;\n",
              "    display: none;\n",
              "    fill: #1967D2;\n",
              "    height: 32px;\n",
              "    padding: 0 0 0 0;\n",
              "    width: 32px;\n",
              "  }\n",
              "\n",
              "  .colab-df-quickchart:hover {\n",
              "    background-color: #E2EBFA;\n",
              "    box-shadow: 0px 1px 2px rgba(60, 64, 67, 0.3), 0px 1px 3px 1px rgba(60, 64, 67, 0.15);\n",
              "    fill: #174EA6;\n",
              "  }\n",
              "\n",
              "  [theme=dark] .colab-df-quickchart {\n",
              "    background-color: #3B4455;\n",
              "    fill: #D2E3FC;\n",
              "  }\n",
              "\n",
              "  [theme=dark] .colab-df-quickchart:hover {\n",
              "    background-color: #434B5C;\n",
              "    box-shadow: 0px 1px 3px 1px rgba(0, 0, 0, 0.15);\n",
              "    filter: drop-shadow(0px 1px 2px rgba(0, 0, 0, 0.3));\n",
              "    fill: #FFFFFF;\n",
              "  }\n",
              "</style>\n",
              "\n",
              "  <script>\n",
              "    async function quickchart(key) {\n",
              "      const charts = await google.colab.kernel.invokeFunction(\n",
              "          'suggestCharts', [key], {});\n",
              "    }\n",
              "    (() => {\n",
              "      let quickchartButtonEl =\n",
              "        document.querySelector('#df-d884f9a0-2789-4775-a213-4bb927e8907d button');\n",
              "      quickchartButtonEl.style.display =\n",
              "        google.colab.kernel.accessAllowed ? 'block' : 'none';\n",
              "    })();\n",
              "  </script>\n",
              "</div>\n",
              "    </div>\n",
              "  </div>\n"
            ]
          },
          "metadata": {},
          "execution_count": 33
        }
      ]
    },
    {
      "cell_type": "markdown",
      "source": [
        "**8)-2 요금(Fare) 에 대해 밀도 함수를 통해 분포 살피기**\n"
      ],
      "metadata": {
        "id": "E8uVf-1x41vJ"
      }
    },
    {
      "cell_type": "code",
      "source": [
        "plt.figure(figsize=(20, 10))\n",
        "\n",
        "sns.displot(x='Fare', kind='kde', hue='Survived', color=['orange', 'blue'], data=data[data['TrainSplit']=='Train'])\n",
        "\n",
        "plt.show()"
      ],
      "metadata": {
        "id": "-VJABkfO4XW8",
        "colab": {
          "base_uri": "https://localhost:8080/"
        },
        "outputId": "86b18a46-c01a-4693-a789-23b6c177143e"
      },
      "execution_count": null,
      "outputs": [
        {
          "output_type": "display_data",
          "data": {
            "text/plain": [
              "<Figure size 2000x1000 with 0 Axes>"
            ]
          },
          "metadata": {}
        },
        {
          "output_type": "display_data",
          "data": {
            "text/plain": [
              "<Figure size 572.111x500 with 1 Axes>"
            ],
            "image/png": "[encoded data removed]"
          },
          "metadata": {}
        }
      ]
    },
    {
      "cell_type": "markdown",
      "source": [
        "Fare 값에 대해 비대칭 분포를 정규화 해서 로그 변환을 해보자. Numpy 의 loglp 함수를 이용, Fare 열의 데이터에 로그를 취한다."
      ],
      "metadata": {
        "id": "j71boSiv6lCE"
      }
    },
    {
      "cell_type": "code",
      "source": [
        "# Fare 에 대해 로그 변환\n",
        "\n",
        "data['FareLog'] = np.log1p(data['Fare'])\n",
        "\n",
        "# 로그 변환한 Fare 값에 대해 밀도 함수 그리기\n",
        "\n",
        "sns.displot(x='FareLog', kind='kde', hue='Survived', data=data[data['TrainSplit']=='Train'])\n",
        "plt.show()"
      ],
      "metadata": {
        "id": "efaQG4KM6jSM",
        "colab": {
          "base_uri": "https://localhost:8080/"
        },
        "outputId": "3f6ecf59-7b85-4bd9-842e-0f24ea4d7e0e"
      },
      "execution_count": null,
      "outputs": [
        {
          "output_type": "display_data",
          "data": {
            "text/plain": [
              "<Figure size 572.111x500 with 1 Axes>"
            ],
            "image/png": "[encoded data removed]"
          },
          "metadata": {}
        }
      ]
    },
    {
      "cell_type": "markdown",
      "source": [
        "**8)-3 요금(Fare) 에 대해 strip 함수를 통해 객실 등급 별로 분포 살피기**"
      ],
      "metadata": {
        "id": "zVNQvc1B6JwB"
      }
    },
    {
      "cell_type": "code",
      "source": [
        "sns.stripplot(x='Pclass', y='FareLog', hue='Survived', data=data[data['TrainSplit']=='Train'])\n",
        "plt.show()"
      ],
      "metadata": {
        "id": "XFAEPF9M6McS",
        "colab": {
          "base_uri": "https://localhost:8080/"
        },
        "outputId": "61ab7fbd-bb06-457a-8f1f-6315a83ff25c"
      },
      "execution_count": null,
      "outputs": [
        {
          "output_type": "display_data",
          "data": {
            "text/plain": [
              "<Figure size 640x480 with 1 Axes>"
            ],
            "image/png": "[encoded data removed]"
          },
          "metadata": {}
        }
      ]
    },
    {
      "cell_type": "markdown",
      "source": [
        "**9) 탑승 항구(Embarked)**"
      ],
      "metadata": {
        "id": "dZUQxqnORdEj"
      }
    },
    {
      "cell_type": "markdown",
      "source": [
        "**9)-1 Embarked 에 대한 결측값을 확인해보자**"
      ],
      "metadata": {
        "id": "JLhyd8G1Ric8"
      }
    },
    {
      "cell_type": "code",
      "source": [
        "data.loc[data['Embarked'].isnull(), :]"
      ],
      "metadata": {
        "id": "POPpB55y6TWs",
        "colab": {
          "base_uri": "https://localhost:8080/"
        },
        "outputId": "f81a1ef0-8ff1-4a6d-cbce-93646a530ffc"
      },
      "execution_count": null,
      "outputs": [
        {
          "output_type": "execute_result",
          "data": {
            "text/plain": [
              "     PassengerId  Survived  Pclass  Sex   Age  SibSp  Parch  Ticket  Fare  \\\n",
              "61            62       1.0       1    0  38.0      0      0  113572  80.0   \n",
              "829          830       1.0       1    0  62.0      0      0  113572  80.0   \n",
              "\n",
              "    Cabin Embarked TrainSplit  Title  AgeBin  FamilySize   FareLog  \n",
              "61    B28      NaN      Train   Miss  Adult2           1  4.394449  \n",
              "829   B28      NaN      Train    Mrs  Senior           1  4.394449  "
            ],
            "text/html": [
              "\n",
              "  <div id=\"df-16c850dd-19af-4afd-bf74-07dbfa7d85fa\" class=\"colab-df-container\">\n",
              "    <div>\n",
              "<style scoped>\n",
              "    .dataframe tbody tr th:only-of-type {\n",
              "        vertical-align: middle;\n",
              "    }\n",
              "\n",
              "    .dataframe tbody tr th {\n",
              "        vertical-align: top;\n",
              "    }\n",
              "\n",
              "    .dataframe thead th {\n",
              "        text-align: right;\n",
              "    }\n",
              "</style>\n",
              "<table border=\"1\" class=\"dataframe\">\n",
              "  <thead>\n",
              "    <tr style=\"text-align: right;\">\n",
              "      <th></th>\n",
              "      <th>PassengerId</th>\n",
              "      <th>Survived</th>\n",
              "      <th>Pclass</th>\n",
              "      <th>Sex</th>\n",
              "      <th>Age</th>\n",
              "      <th>SibSp</th>\n",
              "      <th>Parch</th>\n",
              "      <th>Ticket</th>\n",
              "      <th>Fare</th>\n",
              "      <th>Cabin</th>\n",
              "      <th>Embarked</th>\n",
              "      <th>TrainSplit</th>\n",
              "      <th>Title</th>\n",
              "      <th>AgeBin</th>\n",
              "      <th>FamilySize</th>\n",
              "      <th>FareLog</th>\n",
              "    </tr>\n",
              "  </thead>\n",
              "  <tbody>\n",
              "    <tr>\n",
              "      <th>61</th>\n",
              "      <td>62</td>\n",
              "      <td>1.0</td>\n",
              "      <td>1</td>\n",
              "      <td>0</td>\n",
              "      <td>38.0</td>\n",
              "      <td>0</td>\n",
              "      <td>0</td>\n",
              "      <td>113572</td>\n",
              "      <td>80.0</td>\n",
              "      <td>B28</td>\n",
              "      <td>NaN</td>\n",
              "      <td>Train</td>\n",
              "      <td>Miss</td>\n",
              "      <td>Adult2</td>\n",
              "      <td>1</td>\n",
              "      <td>4.394449</td>\n",
              "    </tr>\n",
              "    <tr>\n",
              "      <th>829</th>\n",
              "      <td>830</td>\n",
              "      <td>1.0</td>\n",
              "      <td>1</td>\n",
              "      <td>0</td>\n",
              "      <td>62.0</td>\n",
              "      <td>0</td>\n",
              "      <td>0</td>\n",
              "      <td>113572</td>\n",
              "      <td>80.0</td>\n",
              "      <td>B28</td>\n",
              "      <td>NaN</td>\n",
              "      <td>Train</td>\n",
              "      <td>Mrs</td>\n",
              "      <td>Senior</td>\n",
              "      <td>1</td>\n",
              "      <td>4.394449</td>\n",
              "    </tr>\n",
              "  </tbody>\n",
              "</table>\n",
              "</div>\n",
              "    <div class=\"colab-df-buttons\">\n",
              "\n",
              "  <div class=\"colab-df-container\">\n",
              "    <button class=\"colab-df-convert\" onclick=\"convertToInteractive('df-16c850dd-19af-4afd-bf74-07dbfa7d85fa')\"\n",
              "            title=\"Convert this dataframe to an interactive table.\"\n",
              "            style=\"display:none;\">\n",
              "\n",
              "  <svg xmlns=\"http://www.w3.org/2000/svg\" height=\"24px\" viewBox=\"0 -960 960 960\">\n",
              "    <path d=\"M120-120v-720h720v720H120Zm60-500h600v-160H180v160Zm220 220h160v-160H400v160Zm0 220h160v-160H400v160ZM180-400h160v-160H180v160Zm440 0h160v-160H620v160ZM180-180h160v-160H180v160Zm440 0h160v-160H620v160Z\"/>\n",
              "  </svg>\n",
              "    </button>\n",
              "\n",
              "  <style>\n",
              "    .colab-df-container {\n",
              "      display:flex;\n",
              "      gap: 12px;\n",
              "    }\n",
              "\n",
              "    .colab-df-convert {\n",
              "      background-color: #E8F0FE;\n",
              "      border: none;\n",
              "      border-radius: 50%;\n",
              "      cursor: pointer;\n",
              "      display: none;\n",
              "      fill: #1967D2;\n",
              "      height: 32px;\n",
              "      padding: 0 0 0 0;\n",
              "      width: 32px;\n",
              "    }\n",
              "\n",
              "    .colab-df-convert:hover {\n",
              "      background-color: #E2EBFA;\n",
              "      box-shadow: 0px 1px 2px rgba(60, 64, 67, 0.3), 0px 1px 3px 1px rgba(60, 64, 67, 0.15);\n",
              "      fill: #174EA6;\n",
              "    }\n",
              "\n",
              "    .colab-df-buttons div {\n",
              "      margin-bottom: 4px;\n",
              "    }\n",
              "\n",
              "    [theme=dark] .colab-df-convert {\n",
              "      background-color: #3B4455;\n",
              "      fill: #D2E3FC;\n",
              "    }\n",
              "\n",
              "    [theme=dark] .colab-df-convert:hover {\n",
              "      background-color: #434B5C;\n",
              "      box-shadow: 0px 1px 3px 1px rgba(0, 0, 0, 0.15);\n",
              "      filter: drop-shadow(0px 1px 2px rgba(0, 0, 0, 0.3));\n",
              "      fill: #FFFFFF;\n",
              "    }\n",
              "  </style>\n",
              "\n",
              "    <script>\n",
              "      const buttonEl =\n",
              "        document.querySelector('#df-16c850dd-19af-4afd-bf74-07dbfa7d85fa button.colab-df-convert');\n",
              "      buttonEl.style.display =\n",
              "        google.colab.kernel.accessAllowed ? 'block' : 'none';\n",
              "\n",
              "      async function convertToInteractive(key) {\n",
              "        const element = document.querySelector('#df-16c850dd-19af-4afd-bf74-07dbfa7d85fa');\n",
              "        const dataTable =\n",
              "          await google.colab.kernel.invokeFunction('convertToInteractive',\n",
              "                                                    [key], {});\n",
              "        if (!dataTable) return;\n",
              "\n",
              "        const docLinkHtml = 'Like what you see? Visit the ' +\n",
              "          '<a target=\"_blank\" href=https://colab.research.google.com/notebooks/data_table.ipynb>data table notebook</a>'\n",
              "          + ' to learn more about interactive tables.';\n",
              "        element.innerHTML = '';\n",
              "        dataTable['output_type'] = 'display_data';\n",
              "        await google.colab.output.renderOutput(dataTable, element);\n",
              "        const docLink = document.createElement('div');\n",
              "        docLink.innerHTML = docLinkHtml;\n",
              "        element.appendChild(docLink);\n",
              "      }\n",
              "    </script>\n",
              "  </div>\n",
              "\n",
              "\n",
              "<div id=\"df-6f9d9024-d1e0-4d6d-bff3-47b373b47f2a\">\n",
              "  <button class=\"colab-df-quickchart\" onclick=\"quickchart('df-6f9d9024-d1e0-4d6d-bff3-47b373b47f2a')\"\n",
              "            title=\"Suggest charts.\"\n",
              "            style=\"display:none;\">\n",
              "\n",
              "<svg xmlns=\"http://www.w3.org/2000/svg\" height=\"24px\"viewBox=\"0 0 24 24\"\n",
              "     width=\"24px\">\n",
              "    <g>\n",
              "        <path d=\"M19 3H5c-1.1 0-2 .9-2 2v14c0 1.1.9 2 2 2h14c1.1 0 2-.9 2-2V5c0-1.1-.9-2-2-2zM9 17H7v-7h2v7zm4 0h-2V7h2v10zm4 0h-2v-4h2v4z\"/>\n",
              "    </g>\n",
              "</svg>\n",
              "  </button>\n",
              "\n",
              "<style>\n",
              "  .colab-df-quickchart {\n",
              "    background-color: #E8F0FE;\n",
              "    border: none;\n",
              "    border-radius: 50%;\n",
              "    cursor: pointer;\n",
              "    display: none;\n",
              "    fill: #1967D2;\n",
              "    height: 32px;\n",
              "    padding: 0 0 0 0;\n",
              "    width: 32px;\n",
              "  }\n",
              "\n",
              "  .colab-df-quickchart:hover {\n",
              "    background-color: #E2EBFA;\n",
              "    box-shadow: 0px 1px 2px rgba(60, 64, 67, 0.3), 0px 1px 3px 1px rgba(60, 64, 67, 0.15);\n",
              "    fill: #174EA6;\n",
              "  }\n",
              "\n",
              "  [theme=dark] .colab-df-quickchart {\n",
              "    background-color: #3B4455;\n",
              "    fill: #D2E3FC;\n",
              "  }\n",
              "\n",
              "  [theme=dark] .colab-df-quickchart:hover {\n",
              "    background-color: #434B5C;\n",
              "    box-shadow: 0px 1px 3px 1px rgba(0, 0, 0, 0.15);\n",
              "    filter: drop-shadow(0px 1px 2px rgba(0, 0, 0, 0.3));\n",
              "    fill: #FFFFFF;\n",
              "  }\n",
              "</style>\n",
              "\n",
              "  <script>\n",
              "    async function quickchart(key) {\n",
              "      const charts = await google.colab.kernel.invokeFunction(\n",
              "          'suggestCharts', [key], {});\n",
              "    }\n",
              "    (() => {\n",
              "      let quickchartButtonEl =\n",
              "        document.querySelector('#df-6f9d9024-d1e0-4d6d-bff3-47b373b47f2a button');\n",
              "      quickchartButtonEl.style.display =\n",
              "        google.colab.kernel.accessAllowed ? 'block' : 'none';\n",
              "    })();\n",
              "  </script>\n",
              "</div>\n",
              "    </div>\n",
              "  </div>\n"
            ]
          },
          "metadata": {},
          "execution_count": 37
        }
      ]
    },
    {
      "cell_type": "markdown",
      "source": [
        "**9)-2 탑승자가 많은 항구인 'S' 값으로 결측값을 채우자**"
      ],
      "metadata": {
        "id": "BmIDKlptSUIi"
      }
    },
    {
      "cell_type": "code",
      "source": [
        "# 탑승자가 가장 많은 항구는 mode() 로 알아본다.\n",
        "\n",
        "data['Embarked'] = data['Embarked'].fillna(data['Embarked'].mode()[0])\n",
        "data['Embarked'].value_counts(dropna=False)"
      ],
      "metadata": {
        "id": "WS1NWihQRyIP",
        "colab": {
          "base_uri": "https://localhost:8080/"
        },
        "outputId": "6e853513-1677-4551-9a77-befe0584f74a"
      },
      "execution_count": null,
      "outputs": [
        {
          "output_type": "execute_result",
          "data": {
            "text/plain": [
              "S    916\n",
              "C    270\n",
              "Q    123\n",
              "Name: Embarked, dtype: int64"
            ]
          },
          "metadata": {},
          "execution_count": 38
        }
      ]
    },
    {
      "cell_type": "markdown",
      "source": [
        "**9)-3 탑승 항구 별로 생존자 비교**"
      ],
      "metadata": {
        "id": "3-tT2_sBTNEp"
      }
    },
    {
      "cell_type": "code",
      "source": [
        "sns.barplot(x='Embarked', y='Survived', estimator=np.mean, data=data[data['TrainSplit']=='Train'])\n",
        "plt.show()"
      ],
      "metadata": {
        "id": "CepSJgmYS8YS",
        "colab": {
          "base_uri": "https://localhost:8080/"
        },
        "outputId": "6d5b49ae-fbe5-4a5c-fcaa-77ce98e0699d"
      },
      "execution_count": null,
      "outputs": [
        {
          "output_type": "display_data",
          "data": {
            "text/plain": [
              "<Figure size 640x480 with 1 Axes>"
            ],
            "image/png": "[encoded data removed]"
          },
          "metadata": {}
        }
      ]
    },
    {
      "cell_type": "markdown",
      "source": [],
      "metadata": {
        "id": "9p7QnE-OokUH"
      }
    },
    {
      "cell_type": "markdown",
      "source": [
        "**9)-3-2 탑승 항구 별로 생존자 비교**\n",
        "\n",
        "* Seaborn 의 catplot 함수의 kind 옵션을 'point' 로 설정하면 클래스별 데이터 중심과 분산을 비교할 수 있다."
      ],
      "metadata": {
        "id": "acq7y-OyT0nn"
      }
    },
    {
      "cell_type": "code",
      "source": [
        "sns.catplot(x='Embarked', y='Survived', kind='point',data=data[data['TrainSplit']=='Train'])\n",
        "plt.show()"
      ],
      "metadata": {
        "id": "pYvZfxORTx5L",
        "colab": {
          "base_uri": "https://localhost:8080/"
        },
        "outputId": "ba42e942-907b-4ab5-f716-ec781e3fd43e"
      },
      "execution_count": null,
      "outputs": [
        {
          "output_type": "display_data",
          "data": {
            "text/plain": [
              "<Figure size 500x500 with 1 Axes>"
            ],
            "image/png": "[encoded data removed]"
          },
          "metadata": {}
        }
      ]
    },
    {
      "cell_type": "code",
      "source": [
        "# 갑자기 궁금해서... 그렇다면 1st class 사람들이 embarked 된 곳이 c 가 많았던 게 아닐까?\n",
        "# S 에서도 많이 타긴 했지만 1등급 사람들의 상대적 탑승 '비율'이 C 가 높았다.\n",
        "\n",
        "sns.stripplot(x='Embarked',  y='Fare', hue='Pclass', data=data)\n",
        "plt.show()"
      ],
      "metadata": {
        "id": "9e7wR0v_UPP_",
        "colab": {
          "base_uri": "https://localhost:8080/"
        },
        "outputId": "1c762dc3-0a98-47f8-f6a3-4c239cdaaced"
      },
      "execution_count": null,
      "outputs": [
        {
          "output_type": "display_data",
          "data": {
            "text/plain": [
              "<Figure size 640x480 with 1 Axes>"
            ],
            "image/png": "[encoded data removed]"
          },
          "metadata": {}
        }
      ]
    },
    {
      "cell_type": "markdown",
      "source": [
        "**10) 객실 구역(Cabin)**"
      ],
      "metadata": {
        "id": "FVHh_tbpVw1L"
      }
    },
    {
      "cell_type": "markdown",
      "source": [
        "**10-1) 객실 구역 데이터 살피기**"
      ],
      "metadata": {
        "id": "3gVcLbXvZQPv"
      }
    },
    {
      "cell_type": "markdown",
      "source": [
        "Cabin 열은 객실 구역을 나타내는 알파벳과 숫자로 이루어진다."
      ],
      "metadata": {
        "id": "9snBFkTSYWRq"
      }
    },
    {
      "cell_type": "code",
      "source": [
        "data['Cabin'].unique()"
      ],
      "metadata": {
        "id": "8Na-ujO5VAM1",
        "colab": {
          "base_uri": "https://localhost:8080/"
        },
        "outputId": "fd926dd6-3b9f-4cc2-a1e1-a2890fcb429d"
      },
      "execution_count": null,
      "outputs": [
        {
          "output_type": "execute_result",
          "data": {
            "text/plain": [
              "array([nan, 'C85', 'C123', 'E46', 'G6', 'C103', 'D56', 'A6',\n",
              "       'C23 C25 C27', 'B78', 'D33', 'B30', 'C52', 'B28', 'C83', 'F33',\n",
              "       'F G73', 'E31', 'A5', 'D10 D12', 'D26', 'C110', 'B58 B60', 'E101',\n",
              "       'F E69', 'D47', 'B86', 'F2', 'C2', 'E33', 'B19', 'A7', 'C49', 'F4',\n",
              "       'A32', 'B4', 'B80', 'A31', 'D36', 'D15', 'C93', 'C78', 'D35',\n",
              "       'C87', 'B77', 'E67', 'B94', 'C125', 'C99', 'C118', 'D7', 'A19',\n",
              "       'B49', 'D', 'C22 C26', 'C106', 'C65', 'E36', 'C54',\n",
              "       'B57 B59 B63 B66', 'C7', 'E34', 'C32', 'B18', 'C124', 'C91', 'E40',\n",
              "       'T', 'C128', 'D37', 'B35', 'E50', 'C82', 'B96 B98', 'E10', 'E44',\n",
              "       'A34', 'C104', 'C111', 'C92', 'E38', 'D21', 'E12', 'E63', 'A14',\n",
              "       'B37', 'C30', 'D20', 'B79', 'E25', 'D46', 'B73', 'C95', 'B38',\n",
              "       'B39', 'B22', 'C86', 'C70', 'A16', 'C101', 'C68', 'A10', 'E68',\n",
              "       'B41', 'A20', 'D19', 'D50', 'D9', 'A23', 'B50', 'A26', 'D48',\n",
              "       'E58', 'C126', 'B71', 'B51 B53 B55', 'D49', 'B5', 'B20', 'F G63',\n",
              "       'C62 C64', 'E24', 'C90', 'C45', 'E8', 'B101', 'D45', 'C46', 'D30',\n",
              "       'E121', 'D11', 'E77', 'F38', 'B3', 'D6', 'B82 B84', 'D17', 'A36',\n",
              "       'B102', 'B69', 'E49', 'C47', 'D28', 'E17', 'A24', 'C50', 'B42',\n",
              "       'C148', 'B45', 'B36', 'A21', 'D34', 'A9', 'C31', 'B61', 'C53',\n",
              "       'D43', 'C130', 'C132', 'C55 C57', 'C116', 'F', 'A29', 'C6', 'C28',\n",
              "       'C51', 'C97', 'D22', 'B10', 'E45', 'E52', 'A11', 'B11', 'C80',\n",
              "       'C89', 'F E46', 'B26', 'F E57', 'A18', 'E60', 'E39 E41',\n",
              "       'B52 B54 B56', 'C39', 'B24', 'D40', 'D38', 'C105'], dtype=object)"
            ]
          },
          "metadata": {},
          "execution_count": 42
        }
      ]
    },
    {
      "cell_type": "markdown",
      "source": [
        "str 속성으로 문자열 첫 글자만 선택해보고, 각 알파벳이 얼마나 있는지 고유값을 살펴보자. Null 값이 많음을 알 수 있다."
      ],
      "metadata": {
        "id": "E6Foedg9Yq9D"
      }
    },
    {
      "cell_type": "code",
      "source": [
        "data['Cabin'].str.slice(0, 1).value_counts(dropna=False)"
      ],
      "metadata": {
        "id": "u0Wn4vw2V8G0",
        "colab": {
          "base_uri": "https://localhost:8080/"
        },
        "outputId": "283a1021-4615-4c40-b895-bb602d7107d8"
      },
      "execution_count": null,
      "outputs": [
        {
          "output_type": "execute_result",
          "data": {
            "text/plain": [
              "NaN    1014\n",
              "C        94\n",
              "B        65\n",
              "D        46\n",
              "E        41\n",
              "A        22\n",
              "F        21\n",
              "G         5\n",
              "T         1\n",
              "Name: Cabin, dtype: int64"
            ]
          },
          "metadata": {},
          "execution_count": 43
        }
      ]
    },
    {
      "cell_type": "markdown",
      "source": [
        "**10-2) 객실 구역 결측값 U 로 대체 후 객실 구역별 생존율 비교**"
      ],
      "metadata": {
        "id": "QZ6jFOKGbaj7"
      }
    },
    {
      "cell_type": "markdown",
      "source": [
        "결측값은 U로 대체한다."
      ],
      "metadata": {
        "id": "ksr1OcNGZOIT"
      }
    },
    {
      "cell_type": "code",
      "source": [
        "# 결측값 U 로 대체\n",
        "data['Cabin'] = data['Cabin'].str.slice(0, 1)\n",
        "data['Cabin'] = data['Cabin'].fillna('U')\n",
        "\n",
        "# Cabin 구역별 생존율 비교\n",
        "\n",
        "sns.catplot(x='Cabin', y='Survived', kind='bar', data=data[data['TrainSplit']=='Train'])\n",
        "plt.show()"
      ],
      "metadata": {
        "id": "MVUfMspjYlrx",
        "colab": {
          "base_uri": "https://localhost:8080/"
        },
        "outputId": "c6e3ffec-d43a-4abe-c42e-fe5e68ae80ec"
      },
      "execution_count": null,
      "outputs": [
        {
          "output_type": "display_data",
          "data": {
            "text/plain": [
              "<Figure size 500x500 with 1 Axes>"
            ],
            "image/png": "[encoded data removed]"
          },
          "metadata": {}
        }
      ]
    },
    {
      "cell_type": "markdown",
      "source": [
        "**11) 탑승권(Ticket)**"
      ],
      "metadata": {
        "id": "hC4ehBZYbo4J"
      }
    },
    {
      "cell_type": "code",
      "source": [
        "data['Ticket'].value_counts(dropna=False)"
      ],
      "metadata": {
        "id": "Sn5j96ryZb51",
        "colab": {
          "base_uri": "https://localhost:8080/"
        },
        "outputId": "1475d3d4-ab63-4509-f79d-cce74db7f152"
      },
      "execution_count": null,
      "outputs": [
        {
          "output_type": "execute_result",
          "data": {
            "text/plain": [
              "CA. 2343        11\n",
              "CA 2144          8\n",
              "1601             8\n",
              "PC 17608         7\n",
              "S.O.C. 14879     7\n",
              "                ..\n",
              "113792           1\n",
              "36209            1\n",
              "323592           1\n",
              "315089           1\n",
              "359309           1\n",
              "Name: Ticket, Length: 929, dtype: int64"
            ]
          },
          "metadata": {},
          "execution_count": 45
        }
      ]
    },
    {
      "cell_type": "code",
      "source": [
        "data['Ticket'] = data['Ticket'].str.replace(\".\",\"\").str.replace(\"/\",\"\")\n",
        "data['Ticket'] = data['Ticket'].str.strip().str.split(' ').str[0]\n",
        "data['Ticket'].value_counts(dropna=False)"
      ],
      "metadata": {
        "id": "jAgv-7H0drI3",
        "colab": {
          "base_uri": "https://localhost:8080/"
        },
        "outputId": "c2f9f1f3-6c55-4873-f59e-026830446785"
      },
      "execution_count": null,
      "outputs": [
        {
          "output_type": "stream",
          "name": "stderr",
          "text": [
            "<ipython-input-46-7e3deb94fafa>:1: FutureWarning: The default value of regex will change from True to False in a future version. In addition, single character regular expressions will *not* be treated as literal strings when regex=True.\n",
            "  data['Ticket'] = data['Ticket'].str.replace(\".\",\"\").str.replace(\"/\",\"\")\n"
          ]
        },
        {
          "output_type": "execute_result",
          "data": {
            "text/plain": [
              "PC         92\n",
              "CA         68\n",
              "A5         28\n",
              "SOTONOQ    24\n",
              "WC         15\n",
              "           ..\n",
              "239854      1\n",
              "4134        1\n",
              "11771       1\n",
              "65304       1\n",
              "359309      1\n",
              "Name: Ticket, Length: 741, dtype: int64"
            ]
          },
          "metadata": {},
          "execution_count": 46
        }
      ]
    },
    {
      "cell_type": "code",
      "source": [
        "\n",
        "#data['Ticket'] = data['Ticket'].str.replace(\".\",\"\").str.replace(\"/\",\"\") #.(마침표) 나 / 를 공백으로 치환\n",
        "#data['Ticket'] = data['Ticket'].str.strip().str.split(' ').str[0]\n",
        "#data['Ticket'].value_counts(dropna=False)"
      ],
      "metadata": {
        "id": "xYOWDUFTbzKj"
      },
      "execution_count": null,
      "outputs": []
    },
    {
      "cell_type": "code",
      "source": [
        "data.loc[data['Ticket'].str.isdigit(), 'Ticket'] = 'NUM'\n",
        "data['Ticket'].value_counts(dropna=False)"
      ],
      "metadata": {
        "id": "0dPStQz8cjXB",
        "colab": {
          "base_uri": "https://localhost:8080/"
        },
        "outputId": "0e72ffb9-b99a-481b-b94d-b3c9e3074644"
      },
      "execution_count": null,
      "outputs": [
        {
          "output_type": "execute_result",
          "data": {
            "text/plain": [
              "NUM        957\n",
              "PC          92\n",
              "CA          68\n",
              "A5          28\n",
              "SOTONOQ     24\n",
              "WC          15\n",
              "SCPARIS     14\n",
              "STONO       14\n",
              "A4          10\n",
              "FCC          9\n",
              "C            8\n",
              "SOC          8\n",
              "SOPP         7\n",
              "STONO2       7\n",
              "SCParis      5\n",
              "SCAH         5\n",
              "PP           4\n",
              "LINE         4\n",
              "WEP          4\n",
              "FC           3\n",
              "SOTONO2      3\n",
              "SCA4         2\n",
              "SWPP         2\n",
              "PPP          2\n",
              "SC           2\n",
              "SCA3         1\n",
              "A            1\n",
              "LP           1\n",
              "AQ4          1\n",
              "STONOQ       1\n",
              "Fa           1\n",
              "CASOTON      1\n",
              "AS           1\n",
              "SCOW         1\n",
              "SOP          1\n",
              "SP           1\n",
              "AQ3          1\n",
              "Name: Ticket, dtype: int64"
            ]
          },
          "metadata": {},
          "execution_count": 48
        }
      ]
    },
    {
      "cell_type": "code",
      "source": [
        "sns.catplot(x='Ticket', y='Survived', kind='bar', data=data[data['TrainSplit']=='Train'])\n",
        "plt.xticks(rotation=90)\n",
        "plt.show()"
      ],
      "metadata": {
        "id": "N0daPdPmehe6",
        "colab": {
          "base_uri": "https://localhost:8080/"
        },
        "outputId": "79a2552b-3895-45ea-8138-00ea1ff779cd"
      },
      "execution_count": null,
      "outputs": [
        {
          "output_type": "display_data",
          "data": {
            "text/plain": [
              "<Figure size 500x500 with 1 Axes>"
            ],
            "image/png": "[encoded data removed]"
          },
          "metadata": {}
        }
      ]
    },
    {
      "cell_type": "markdown",
      "source": [
        "### 데이터 전처리\n",
        "\n",
        "* 레이블 인코딩\n",
        "* 원핫 인코딩\n",
        "* 피처 스케일링"
      ],
      "metadata": {
        "id": "_Wi7GYo2Vdmz"
      }
    },
    {
      "cell_type": "markdown",
      "source": [
        "**1) 레이블 인코딩**\n",
        "\n",
        "* **Title 열**과 **AbeBin 열**의 **범주형 데이터를 숫자 레이블로** 바꾼다.\n",
        "* Sklearn 의 LabelEncoder 객체를 만들고, fit_transform 함수를 사용하여 각 열의 데이터에 적용한다."
      ],
      "metadata": {
        "id": "YLSc_YBXGaXw"
      }
    },
    {
      "cell_type": "code",
      "source": [
        "# Label Encoding\n",
        "\n",
        "from sklearn.preprocessing import LabelEncoder\n",
        "\n",
        "for col in ['Title', 'AgeBin']:\n",
        "  encoder = LabelEncoder()\n",
        "  data[col] = encoder.fit_transform(data[col])\n"
      ],
      "metadata": {
        "id": "G7LLwiHKG9fO"
      },
      "execution_count": null,
      "outputs": []
    },
    {
      "cell_type": "code",
      "source": [
        "data.loc[:, ['Title', 'AgeBin']].head()"
      ],
      "metadata": {
        "colab": {
          "base_uri": "https://localhost:8080/"
        },
        "id": "cNlCNP9gHhRS",
        "outputId": "51482ffb-6300-45d0-922b-73f4b4249527"
      },
      "execution_count": null,
      "outputs": [
        {
          "output_type": "execute_result",
          "data": {
            "text/plain": [
              "   Title  AgeBin\n",
              "0      2       9\n",
              "1      3       1\n",
              "2      1       9\n",
              "3      3       0\n",
              "4      2       0"
            ],
            "text/html": [
              "\n",
              "  <div id=\"df-9ef20222-3796-429a-8dab-bb044ab07ade\" class=\"colab-df-container\">\n",
              "    <div>\n",
              "<style scoped>\n",
              "    .dataframe tbody tr th:only-of-type {\n",
              "        vertical-align: middle;\n",
              "    }\n",
              "\n",
              "    .dataframe tbody tr th {\n",
              "        vertical-align: top;\n",
              "    }\n",
              "\n",
              "    .dataframe thead th {\n",
              "        text-align: right;\n",
              "    }\n",
              "</style>\n",
              "<table border=\"1\" class=\"dataframe\">\n",
              "  <thead>\n",
              "    <tr style=\"text-align: right;\">\n",
              "      <th></th>\n",
              "      <th>Title</th>\n",
              "      <th>AgeBin</th>\n",
              "    </tr>\n",
              "  </thead>\n",
              "  <tbody>\n",
              "    <tr>\n",
              "      <th>0</th>\n",
              "      <td>2</td>\n",
              "      <td>9</td>\n",
              "    </tr>\n",
              "    <tr>\n",
              "      <th>1</th>\n",
              "      <td>3</td>\n",
              "      <td>1</td>\n",
              "    </tr>\n",
              "    <tr>\n",
              "      <th>2</th>\n",
              "      <td>1</td>\n",
              "      <td>9</td>\n",
              "    </tr>\n",
              "    <tr>\n",
              "      <th>3</th>\n",
              "      <td>3</td>\n",
              "      <td>0</td>\n",
              "    </tr>\n",
              "    <tr>\n",
              "      <th>4</th>\n",
              "      <td>2</td>\n",
              "      <td>0</td>\n",
              "    </tr>\n",
              "  </tbody>\n",
              "</table>\n",
              "</div>\n",
              "    <div class=\"colab-df-buttons\">\n",
              "\n",
              "  <div class=\"colab-df-container\">\n",
              "    <button class=\"colab-df-convert\" onclick=\"convertToInteractive('df-9ef20222-3796-429a-8dab-bb044ab07ade')\"\n",
              "            title=\"Convert this dataframe to an interactive table.\"\n",
              "            style=\"display:none;\">\n",
              "\n",
              "  <svg xmlns=\"http://www.w3.org/2000/svg\" height=\"24px\" viewBox=\"0 -960 960 960\">\n",
              "    <path d=\"M120-120v-720h720v720H120Zm60-500h600v-160H180v160Zm220 220h160v-160H400v160Zm0 220h160v-160H400v160ZM180-400h160v-160H180v160Zm440 0h160v-160H620v160ZM180-180h160v-160H180v160Zm440 0h160v-160H620v160Z\"/>\n",
              "  </svg>\n",
              "    </button>\n",
              "\n",
              "  <style>\n",
              "    .colab-df-container {\n",
              "      display:flex;\n",
              "      gap: 12px;\n",
              "    }\n",
              "\n",
              "    .colab-df-convert {\n",
              "      background-color: #E8F0FE;\n",
              "      border: none;\n",
              "      border-radius: 50%;\n",
              "      cursor: pointer;\n",
              "      display: none;\n",
              "      fill: #1967D2;\n",
              "      height: 32px;\n",
              "      padding: 0 0 0 0;\n",
              "      width: 32px;\n",
              "    }\n",
              "\n",
              "    .colab-df-convert:hover {\n",
              "      background-color: #E2EBFA;\n",
              "      box-shadow: 0px 1px 2px rgba(60, 64, 67, 0.3), 0px 1px 3px 1px rgba(60, 64, 67, 0.15);\n",
              "      fill: #174EA6;\n",
              "    }\n",
              "\n",
              "    .colab-df-buttons div {\n",
              "      margin-bottom: 4px;\n",
              "    }\n",
              "\n",
              "    [theme=dark] .colab-df-convert {\n",
              "      background-color: #3B4455;\n",
              "      fill: #D2E3FC;\n",
              "    }\n",
              "\n",
              "    [theme=dark] .colab-df-convert:hover {\n",
              "      background-color: #434B5C;\n",
              "      box-shadow: 0px 1px 3px 1px rgba(0, 0, 0, 0.15);\n",
              "      filter: drop-shadow(0px 1px 2px rgba(0, 0, 0, 0.3));\n",
              "      fill: #FFFFFF;\n",
              "    }\n",
              "  </style>\n",
              "\n",
              "    <script>\n",
              "      const buttonEl =\n",
              "        document.querySelector('#df-9ef20222-3796-429a-8dab-bb044ab07ade button.colab-df-convert');\n",
              "      buttonEl.style.display =\n",
              "        google.colab.kernel.accessAllowed ? 'block' : 'none';\n",
              "\n",
              "      async function convertToInteractive(key) {\n",
              "        const element = document.querySelector('#df-9ef20222-3796-429a-8dab-bb044ab07ade');\n",
              "        const dataTable =\n",
              "          await google.colab.kernel.invokeFunction('convertToInteractive',\n",
              "                                                    [key], {});\n",
              "        if (!dataTable) return;\n",
              "\n",
              "        const docLinkHtml = 'Like what you see? Visit the ' +\n",
              "          '<a target=\"_blank\" href=https://colab.research.google.com/notebooks/data_table.ipynb>data table notebook</a>'\n",
              "          + ' to learn more about interactive tables.';\n",
              "        element.innerHTML = '';\n",
              "        dataTable['output_type'] = 'display_data';\n",
              "        await google.colab.output.renderOutput(dataTable, element);\n",
              "        const docLink = document.createElement('div');\n",
              "        docLink.innerHTML = docLinkHtml;\n",
              "        element.appendChild(docLink);\n",
              "      }\n",
              "    </script>\n",
              "  </div>\n",
              "\n",
              "\n",
              "<div id=\"df-ddc82fd6-6151-45cd-b695-965801b9b134\">\n",
              "  <button class=\"colab-df-quickchart\" onclick=\"quickchart('df-ddc82fd6-6151-45cd-b695-965801b9b134')\"\n",
              "            title=\"Suggest charts.\"\n",
              "            style=\"display:none;\">\n",
              "\n",
              "<svg xmlns=\"http://www.w3.org/2000/svg\" height=\"24px\"viewBox=\"0 0 24 24\"\n",
              "     width=\"24px\">\n",
              "    <g>\n",
              "        <path d=\"M19 3H5c-1.1 0-2 .9-2 2v14c0 1.1.9 2 2 2h14c1.1 0 2-.9 2-2V5c0-1.1-.9-2-2-2zM9 17H7v-7h2v7zm4 0h-2V7h2v10zm4 0h-2v-4h2v4z\"/>\n",
              "    </g>\n",
              "</svg>\n",
              "  </button>\n",
              "\n",
              "<style>\n",
              "  .colab-df-quickchart {\n",
              "    background-color: #E8F0FE;\n",
              "    border: none;\n",
              "    border-radius: 50%;\n",
              "    cursor: pointer;\n",
              "    display: none;\n",
              "    fill: #1967D2;\n",
              "    height: 32px;\n",
              "    padding: 0 0 0 0;\n",
              "    width: 32px;\n",
              "  }\n",
              "\n",
              "  .colab-df-quickchart:hover {\n",
              "    background-color: #E2EBFA;\n",
              "    box-shadow: 0px 1px 2px rgba(60, 64, 67, 0.3), 0px 1px 3px 1px rgba(60, 64, 67, 0.15);\n",
              "    fill: #174EA6;\n",
              "  }\n",
              "\n",
              "  [theme=dark] .colab-df-quickchart {\n",
              "    background-color: #3B4455;\n",
              "    fill: #D2E3FC;\n",
              "  }\n",
              "\n",
              "  [theme=dark] .colab-df-quickchart:hover {\n",
              "    background-color: #434B5C;\n",
              "    box-shadow: 0px 1px 3px 1px rgba(0, 0, 0, 0.15);\n",
              "    filter: drop-shadow(0px 1px 2px rgba(0, 0, 0, 0.3));\n",
              "    fill: #FFFFFF;\n",
              "  }\n",
              "</style>\n",
              "\n",
              "  <script>\n",
              "    async function quickchart(key) {\n",
              "      const charts = await google.colab.kernel.invokeFunction(\n",
              "          'suggestCharts', [key], {});\n",
              "    }\n",
              "    (() => {\n",
              "      let quickchartButtonEl =\n",
              "        document.querySelector('#df-ddc82fd6-6151-45cd-b695-965801b9b134 button');\n",
              "      quickchartButtonEl.style.display =\n",
              "        google.colab.kernel.accessAllowed ? 'block' : 'none';\n",
              "    })();\n",
              "  </script>\n",
              "</div>\n",
              "    </div>\n",
              "  </div>\n"
            ]
          },
          "metadata": {},
          "execution_count": 51
        }
      ]
    },
    {
      "cell_type": "markdown",
      "source": [
        "**2) 원핫 인코딩**\n",
        "\n",
        "* 문자열 데이터를 숫자형 데이터로 변환하는 또다른 방법\n",
        "* pandas get_dummies 함수 사용"
      ],
      "metadata": {
        "id": "k3tp5hhOJ_V2"
      }
    },
    {
      "cell_type": "code",
      "source": [
        "data.head()"
      ],
      "metadata": {
        "colab": {
          "base_uri": "https://localhost:8080/"
        },
        "id": "VS4K5KGXg5iv",
        "outputId": "18c95267-12db-4a77-ba9f-5d98bcacabbf"
      },
      "execution_count": null,
      "outputs": [
        {
          "output_type": "execute_result",
          "data": {
            "text/plain": [
              "   PassengerId  Survived  Pclass  Sex   Age  SibSp  Parch  Ticket     Fare  \\\n",
              "0            1       0.0       3    1  22.0      1      0      A5   7.2500   \n",
              "1            2       1.0       1    0  38.0      1      0      PC  71.2833   \n",
              "2            3       1.0       3    0  26.0      0      0  STONO2   7.9250   \n",
              "3            4       1.0       1    0  35.0      1      0     NUM  53.1000   \n",
              "4            5       0.0       3    1  35.0      0      0     NUM   8.0500   \n",
              "\n",
              "  Cabin Embarked TrainSplit  Title  AgeBin  FamilySize   FareLog  \n",
              "0     U        S      Train      2       9           2  2.110213  \n",
              "1     C        C      Train      3       1           2  4.280593  \n",
              "2     U        S      Train      1       9           1  2.188856  \n",
              "3     C        S      Train      3       0           2  3.990834  \n",
              "4     U        S      Train      2       0           1  2.202765  "
            ],
            "text/html": [
              "\n",
              "  <div id=\"df-a298ba78-c9f7-4b14-af38-b111b726d1ba\" class=\"colab-df-container\">\n",
              "    <div>\n",
              "<style scoped>\n",
              "    .dataframe tbody tr th:only-of-type {\n",
              "        vertical-align: middle;\n",
              "    }\n",
              "\n",
              "    .dataframe tbody tr th {\n",
              "        vertical-align: top;\n",
              "    }\n",
              "\n",
              "    .dataframe thead th {\n",
              "        text-align: right;\n",
              "    }\n",
              "</style>\n",
              "<table border=\"1\" class=\"dataframe\">\n",
              "  <thead>\n",
              "    <tr style=\"text-align: right;\">\n",
              "      <th></th>\n",
              "      <th>PassengerId</th>\n",
              "      <th>Survived</th>\n",
              "      <th>Pclass</th>\n",
              "      <th>Sex</th>\n",
              "      <th>Age</th>\n",
              "      <th>SibSp</th>\n",
              "      <th>Parch</th>\n",
              "      <th>Ticket</th>\n",
              "      <th>Fare</th>\n",
              "      <th>Cabin</th>\n",
              "      <th>Embarked</th>\n",
              "      <th>TrainSplit</th>\n",
              "      <th>Title</th>\n",
              "      <th>AgeBin</th>\n",
              "      <th>FamilySize</th>\n",
              "      <th>FareLog</th>\n",
              "    </tr>\n",
              "  </thead>\n",
              "  <tbody>\n",
              "    <tr>\n",
              "      <th>0</th>\n",
              "      <td>1</td>\n",
              "      <td>0.0</td>\n",
              "      <td>3</td>\n",
              "      <td>1</td>\n",
              "      <td>22.0</td>\n",
              "      <td>1</td>\n",
              "      <td>0</td>\n",
              "      <td>A5</td>\n",
              "      <td>7.2500</td>\n",
              "      <td>U</td>\n",
              "      <td>S</td>\n",
              "      <td>Train</td>\n",
              "      <td>2</td>\n",
              "      <td>9</td>\n",
              "      <td>2</td>\n",
              "      <td>2.110213</td>\n",
              "    </tr>\n",
              "    <tr>\n",
              "      <th>1</th>\n",
              "      <td>2</td>\n",
              "      <td>1.0</td>\n",
              "      <td>1</td>\n",
              "      <td>0</td>\n",
              "      <td>38.0</td>\n",
              "      <td>1</td>\n",
              "      <td>0</td>\n",
              "      <td>PC</td>\n",
              "      <td>71.2833</td>\n",
              "      <td>C</td>\n",
              "      <td>C</td>\n",
              "      <td>Train</td>\n",
              "      <td>3</td>\n",
              "      <td>1</td>\n",
              "      <td>2</td>\n",
              "      <td>4.280593</td>\n",
              "    </tr>\n",
              "    <tr>\n",
              "      <th>2</th>\n",
              "      <td>3</td>\n",
              "      <td>1.0</td>\n",
              "      <td>3</td>\n",
              "      <td>0</td>\n",
              "      <td>26.0</td>\n",
              "      <td>0</td>\n",
              "      <td>0</td>\n",
              "      <td>STONO2</td>\n",
              "      <td>7.9250</td>\n",
              "      <td>U</td>\n",
              "      <td>S</td>\n",
              "      <td>Train</td>\n",
              "      <td>1</td>\n",
              "      <td>9</td>\n",
              "      <td>1</td>\n",
              "      <td>2.188856</td>\n",
              "    </tr>\n",
              "    <tr>\n",
              "      <th>3</th>\n",
              "      <td>4</td>\n",
              "      <td>1.0</td>\n",
              "      <td>1</td>\n",
              "      <td>0</td>\n",
              "      <td>35.0</td>\n",
              "      <td>1</td>\n",
              "      <td>0</td>\n",
              "      <td>NUM</td>\n",
              "      <td>53.1000</td>\n",
              "      <td>C</td>\n",
              "      <td>S</td>\n",
              "      <td>Train</td>\n",
              "      <td>3</td>\n",
              "      <td>0</td>\n",
              "      <td>2</td>\n",
              "      <td>3.990834</td>\n",
              "    </tr>\n",
              "    <tr>\n",
              "      <th>4</th>\n",
              "      <td>5</td>\n",
              "      <td>0.0</td>\n",
              "      <td>3</td>\n",
              "      <td>1</td>\n",
              "      <td>35.0</td>\n",
              "      <td>0</td>\n",
              "      <td>0</td>\n",
              "      <td>NUM</td>\n",
              "      <td>8.0500</td>\n",
              "      <td>U</td>\n",
              "      <td>S</td>\n",
              "      <td>Train</td>\n",
              "      <td>2</td>\n",
              "      <td>0</td>\n",
              "      <td>1</td>\n",
              "      <td>2.202765</td>\n",
              "    </tr>\n",
              "  </tbody>\n",
              "</table>\n",
              "</div>\n",
              "    <div class=\"colab-df-buttons\">\n",
              "\n",
              "  <div class=\"colab-df-container\">\n",
              "    <button class=\"colab-df-convert\" onclick=\"convertToInteractive('df-a298ba78-c9f7-4b14-af38-b111b726d1ba')\"\n",
              "            title=\"Convert this dataframe to an interactive table.\"\n",
              "            style=\"display:none;\">\n",
              "\n",
              "  <svg xmlns=\"http://www.w3.org/2000/svg\" height=\"24px\" viewBox=\"0 -960 960 960\">\n",
              "    <path d=\"M120-120v-720h720v720H120Zm60-500h600v-160H180v160Zm220 220h160v-160H400v160Zm0 220h160v-160H400v160ZM180-400h160v-160H180v160Zm440 0h160v-160H620v160ZM180-180h160v-160H180v160Zm440 0h160v-160H620v160Z\"/>\n",
              "  </svg>\n",
              "    </button>\n",
              "\n",
              "  <style>\n",
              "    .colab-df-container {\n",
              "      display:flex;\n",
              "      gap: 12px;\n",
              "    }\n",
              "\n",
              "    .colab-df-convert {\n",
              "      background-color: #E8F0FE;\n",
              "      border: none;\n",
              "      border-radius: 50%;\n",
              "      cursor: pointer;\n",
              "      display: none;\n",
              "      fill: #1967D2;\n",
              "      height: 32px;\n",
              "      padding: 0 0 0 0;\n",
              "      width: 32px;\n",
              "    }\n",
              "\n",
              "    .colab-df-convert:hover {\n",
              "      background-color: #E2EBFA;\n",
              "      box-shadow: 0px 1px 2px rgba(60, 64, 67, 0.3), 0px 1px 3px 1px rgba(60, 64, 67, 0.15);\n",
              "      fill: #174EA6;\n",
              "    }\n",
              "\n",
              "    .colab-df-buttons div {\n",
              "      margin-bottom: 4px;\n",
              "    }\n",
              "\n",
              "    [theme=dark] .colab-df-convert {\n",
              "      background-color: #3B4455;\n",
              "      fill: #D2E3FC;\n",
              "    }\n",
              "\n",
              "    [theme=dark] .colab-df-convert:hover {\n",
              "      background-color: #434B5C;\n",
              "      box-shadow: 0px 1px 3px 1px rgba(0, 0, 0, 0.15);\n",
              "      filter: drop-shadow(0px 1px 2px rgba(0, 0, 0, 0.3));\n",
              "      fill: #FFFFFF;\n",
              "    }\n",
              "  </style>\n",
              "\n",
              "    <script>\n",
              "      const buttonEl =\n",
              "        document.querySelector('#df-a298ba78-c9f7-4b14-af38-b111b726d1ba button.colab-df-convert');\n",
              "      buttonEl.style.display =\n",
              "        google.colab.kernel.accessAllowed ? 'block' : 'none';\n",
              "\n",
              "      async function convertToInteractive(key) {\n",
              "        const element = document.querySelector('#df-a298ba78-c9f7-4b14-af38-b111b726d1ba');\n",
              "        const dataTable =\n",
              "          await google.colab.kernel.invokeFunction('convertToInteractive',\n",
              "                                                    [key], {});\n",
              "        if (!dataTable) return;\n",
              "\n",
              "        const docLinkHtml = 'Like what you see? Visit the ' +\n",
              "          '<a target=\"_blank\" href=https://colab.research.google.com/notebooks/data_table.ipynb>data table notebook</a>'\n",
              "          + ' to learn more about interactive tables.';\n",
              "        element.innerHTML = '';\n",
              "        dataTable['output_type'] = 'display_data';\n",
              "        await google.colab.output.renderOutput(dataTable, element);\n",
              "        const docLink = document.createElement('div');\n",
              "        docLink.innerHTML = docLinkHtml;\n",
              "        element.appendChild(docLink);\n",
              "      }\n",
              "    </script>\n",
              "  </div>\n",
              "\n",
              "\n",
              "<div id=\"df-3de43814-5c14-4274-acbb-0a74b742509a\">\n",
              "  <button class=\"colab-df-quickchart\" onclick=\"quickchart('df-3de43814-5c14-4274-acbb-0a74b742509a')\"\n",
              "            title=\"Suggest charts.\"\n",
              "            style=\"display:none;\">\n",
              "\n",
              "<svg xmlns=\"http://www.w3.org/2000/svg\" height=\"24px\"viewBox=\"0 0 24 24\"\n",
              "     width=\"24px\">\n",
              "    <g>\n",
              "        <path d=\"M19 3H5c-1.1 0-2 .9-2 2v14c0 1.1.9 2 2 2h14c1.1 0 2-.9 2-2V5c0-1.1-.9-2-2-2zM9 17H7v-7h2v7zm4 0h-2V7h2v10zm4 0h-2v-4h2v4z\"/>\n",
              "    </g>\n",
              "</svg>\n",
              "  </button>\n",
              "\n",
              "<style>\n",
              "  .colab-df-quickchart {\n",
              "    background-color: #E8F0FE;\n",
              "    border: none;\n",
              "    border-radius: 50%;\n",
              "    cursor: pointer;\n",
              "    display: none;\n",
              "    fill: #1967D2;\n",
              "    height: 32px;\n",
              "    padding: 0 0 0 0;\n",
              "    width: 32px;\n",
              "  }\n",
              "\n",
              "  .colab-df-quickchart:hover {\n",
              "    background-color: #E2EBFA;\n",
              "    box-shadow: 0px 1px 2px rgba(60, 64, 67, 0.3), 0px 1px 3px 1px rgba(60, 64, 67, 0.15);\n",
              "    fill: #174EA6;\n",
              "  }\n",
              "\n",
              "  [theme=dark] .colab-df-quickchart {\n",
              "    background-color: #3B4455;\n",
              "    fill: #D2E3FC;\n",
              "  }\n",
              "\n",
              "  [theme=dark] .colab-df-quickchart:hover {\n",
              "    background-color: #434B5C;\n",
              "    box-shadow: 0px 1px 3px 1px rgba(0, 0, 0, 0.15);\n",
              "    filter: drop-shadow(0px 1px 2px rgba(0, 0, 0, 0.3));\n",
              "    fill: #FFFFFF;\n",
              "  }\n",
              "</style>\n",
              "\n",
              "  <script>\n",
              "    async function quickchart(key) {\n",
              "      const charts = await google.colab.kernel.invokeFunction(\n",
              "          'suggestCharts', [key], {});\n",
              "    }\n",
              "    (() => {\n",
              "      let quickchartButtonEl =\n",
              "        document.querySelector('#df-3de43814-5c14-4274-acbb-0a74b742509a button');\n",
              "      quickchartButtonEl.style.display =\n",
              "        google.colab.kernel.accessAllowed ? 'block' : 'none';\n",
              "    })();\n",
              "  </script>\n",
              "</div>\n",
              "    </div>\n",
              "  </div>\n"
            ]
          },
          "metadata": {},
          "execution_count": 52
        }
      ]
    },
    {
      "cell_type": "code",
      "source": [
        "# columns 속성에 원핫 인코딩할 열 이름을 입력한다.\n",
        "# prefix 옵션은 생성될 열 이름의 앞부분을 지정한다.\n",
        "# drop_first 옵션을 True 로 지정하면 첫번째 열 삭제한다.\n",
        "\n",
        "onehot_prefix = []\n",
        "\n",
        "for col in ['Embarked', 'Cabin', 'Ticket']:\n",
        "  data[col] = data[col].astype('category') # 위 열들의 데이터를 일단 category 타입으로 변환\n",
        "  data = pd.get_dummies(data, columns=[col], prefix = col[:3], drop_first=True)\n",
        "  onehot_prefix.append(col[:3])"
      ],
      "metadata": {
        "id": "OnvEeA1sKI4b"
      },
      "execution_count": null,
      "outputs": []
    },
    {
      "cell_type": "code",
      "source": [
        "print(onehot_prefix)"
      ],
      "metadata": {
        "colab": {
          "base_uri": "https://localhost:8080/"
        },
        "id": "r1LgTe1EiZDy",
        "outputId": "f286f5c9-91da-40a6-a06a-b9ea748b6e9b"
      },
      "execution_count": null,
      "outputs": [
        {
          "output_type": "stream",
          "name": "stdout",
          "text": [
            "['Emb', 'Cab', 'Tic']\n"
          ]
        }
      ]
    },
    {
      "cell_type": "code",
      "source": [
        "test = data.loc[:,[col for col in data.columns if col[:3] in onehot_prefix]]\n",
        "print(test.columns)\n",
        "print(len(test.columns))"
      ],
      "metadata": {
        "colab": {
          "base_uri": "https://localhost:8080/"
        },
        "id": "hFhSgqWxirGD",
        "outputId": "87584ba9-0f8b-443a-de90-1066dc27413c"
      },
      "execution_count": null,
      "outputs": [
        {
          "output_type": "stream",
          "name": "stdout",
          "text": [
            "Index(['Emb_Q', 'Emb_S', 'Cab_B', 'Cab_C', 'Cab_D', 'Cab_E', 'Cab_F', 'Cab_G',\n",
            "       'Cab_T', 'Cab_U', 'Tic_A4', 'Tic_A5', 'Tic_AQ3', 'Tic_AQ4', 'Tic_AS',\n",
            "       'Tic_C', 'Tic_CA', 'Tic_CASOTON', 'Tic_FC', 'Tic_FCC', 'Tic_Fa',\n",
            "       'Tic_LINE', 'Tic_LP', 'Tic_NUM', 'Tic_PC', 'Tic_PP', 'Tic_PPP',\n",
            "       'Tic_SC', 'Tic_SCA3', 'Tic_SCA4', 'Tic_SCAH', 'Tic_SCOW', 'Tic_SCPARIS',\n",
            "       'Tic_SCParis', 'Tic_SOC', 'Tic_SOP', 'Tic_SOPP', 'Tic_SOTONO2',\n",
            "       'Tic_SOTONOQ', 'Tic_SP', 'Tic_STONO', 'Tic_STONO2', 'Tic_STONOQ',\n",
            "       'Tic_SWPP', 'Tic_WC', 'Tic_WEP'],\n",
            "      dtype='object')\n",
            "46\n"
          ]
        }
      ]
    },
    {
      "cell_type": "markdown",
      "source": [
        "**3) 피처 스케일링**\n",
        "\n",
        "* 사이킷런 MinMaxScaler 를 사용하여 모델 학습에 사용할 피처의 스케일을 0~1 범위로 정규화 처리 한다.\n",
        "* 학습에 사용할 피처가 아닌 TrainSplit 열을 제외한다."
      ],
      "metadata": {
        "id": "W6BvoSVqkr7K"
      }
    },
    {
      "cell_type": "code",
      "source": [
        "from sklearn.preprocessing import MinMaxScaler\n",
        "scaler = MinMaxScaler()\n",
        "\n",
        "# 스케일링 처리할 피처 선택 - TrainSplit 등 일부 열 제외 (PassengerId, Survived, TrainSplit 열 제외)\n",
        "\n",
        "scaled_cols = [col for col in data.loc[:, 'Pclass':].columns if col !='TrainSplit']   # Pclass 이후 부터 열을 선택하되, 해당 열은 TrainSplit 가 아니여야 한다\n",
        "\n",
        "data_scaled = data.loc[:, scaled_cols]\n",
        "data_scaled = scaler.fit_transform(data_scaled) #MinMaxScaler 를 이용하여 위에서 select 한 칼럼들을 피처 스케일링\n",
        "\n",
        "# 스케일링 변환된 값을 데이터 프레임에 반영\n",
        "\n",
        "data.loc[:, scaled_cols] = data_scaled[:, :]\n",
        "data.head()"
      ],
      "metadata": {
        "colab": {
          "base_uri": "https://localhost:8080/"
        },
        "id": "VkXgMjeXjHFf",
        "outputId": "48b75b25-0487-4d6d-ce41-0d178b94e4a1"
      },
      "execution_count": null,
      "outputs": [
        {
          "output_type": "stream",
          "name": "stderr",
          "text": [
            "<ipython-input-56-82f31ea4554b>:13: DeprecationWarning: In a future version, `df.iloc[:, i] = newvals` will attempt to set the values inplace instead of always setting a new array. To retain the old behavior, use either `df[df.columns[i]] = newvals` or, if columns are non-unique, `df.isetitem(i, newvals)`\n",
            "  data.loc[:, scaled_cols] = data_scaled[:, :]\n"
          ]
        },
        {
          "output_type": "execute_result",
          "data": {
            "text/plain": [
              "   PassengerId  Survived  Pclass  Sex       Age  SibSp  Parch      Fare  \\\n",
              "0            1       0.0     1.0  1.0  0.273456  0.125    0.0  0.014151   \n",
              "1            2       1.0     0.0  0.0  0.473882  0.125    0.0  0.139136   \n",
              "2            3       1.0     1.0  0.0  0.323563  0.000    0.0  0.015469   \n",
              "3            4       1.0     0.0  0.0  0.436302  0.125    0.0  0.103644   \n",
              "4            5       0.0     1.0  1.0  0.436302  0.000    0.0  0.015713   \n",
              "\n",
              "  TrainSplit     Title  ...  Tic_SOPP  Tic_SOTONO2  Tic_SOTONOQ  Tic_SP  \\\n",
              "0      Train  0.333333  ...       0.0          0.0          0.0     0.0   \n",
              "1      Train  0.500000  ...       0.0          0.0          0.0     0.0   \n",
              "2      Train  0.166667  ...       0.0          0.0          0.0     0.0   \n",
              "3      Train  0.500000  ...       0.0          0.0          0.0     0.0   \n",
              "4      Train  0.333333  ...       0.0          0.0          0.0     0.0   \n",
              "\n",
              "   Tic_STONO  Tic_STONO2  Tic_STONOQ  Tic_SWPP  Tic_WC  Tic_WEP  \n",
              "0        0.0         0.0         0.0       0.0     0.0      0.0  \n",
              "1        0.0         0.0         0.0       0.0     0.0      0.0  \n",
              "2        0.0         1.0         0.0       0.0     0.0      0.0  \n",
              "3        0.0         0.0         0.0       0.0     0.0      0.0  \n",
              "4        0.0         0.0         0.0       0.0     0.0      0.0  \n",
              "\n",
              "[5 rows x 59 columns]"
            ],
            "text/html": [
              "\n",
              "  <div id=\"df-8cb960cc-5fd9-4ff2-b677-a98cd93bfa70\" class=\"colab-df-container\">\n",
              "    <div>\n",
              "<style scoped>\n",
              "    .dataframe tbody tr th:only-of-type {\n",
              "        vertical-align: middle;\n",
              "    }\n",
              "\n",
              "    .dataframe tbody tr th {\n",
              "        vertical-align: top;\n",
              "    }\n",
              "\n",
              "    .dataframe thead th {\n",
              "        text-align: right;\n",
              "    }\n",
              "</style>\n",
              "<table border=\"1\" class=\"dataframe\">\n",
              "  <thead>\n",
              "    <tr style=\"text-align: right;\">\n",
              "      <th></th>\n",
              "      <th>PassengerId</th>\n",
              "      <th>Survived</th>\n",
              "      <th>Pclass</th>\n",
              "      <th>Sex</th>\n",
              "      <th>Age</th>\n",
              "      <th>SibSp</th>\n",
              "      <th>Parch</th>\n",
              "      <th>Fare</th>\n",
              "      <th>TrainSplit</th>\n",
              "      <th>Title</th>\n",
              "      <th>...</th>\n",
              "      <th>Tic_SOPP</th>\n",
              "      <th>Tic_SOTONO2</th>\n",
              "      <th>Tic_SOTONOQ</th>\n",
              "      <th>Tic_SP</th>\n",
              "      <th>Tic_STONO</th>\n",
              "      <th>Tic_STONO2</th>\n",
              "      <th>Tic_STONOQ</th>\n",
              "      <th>Tic_SWPP</th>\n",
              "      <th>Tic_WC</th>\n",
              "      <th>Tic_WEP</th>\n",
              "    </tr>\n",
              "  </thead>\n",
              "  <tbody>\n",
              "    <tr>\n",
              "      <th>0</th>\n",
              "      <td>1</td>\n",
              "      <td>0.0</td>\n",
              "      <td>1.0</td>\n",
              "      <td>1.0</td>\n",
              "      <td>0.273456</td>\n",
              "      <td>0.125</td>\n",
              "      <td>0.0</td>\n",
              "      <td>0.014151</td>\n",
              "      <td>Train</td>\n",
              "      <td>0.333333</td>\n",
              "      <td>...</td>\n",
              "      <td>0.0</td>\n",
              "      <td>0.0</td>\n",
              "      <td>0.0</td>\n",
              "      <td>0.0</td>\n",
              "      <td>0.0</td>\n",
              "      <td>0.0</td>\n",
              "      <td>0.0</td>\n",
              "      <td>0.0</td>\n",
              "      <td>0.0</td>\n",
              "      <td>0.0</td>\n",
              "    </tr>\n",
              "    <tr>\n",
              "      <th>1</th>\n",
              "      <td>2</td>\n",
              "      <td>1.0</td>\n",
              "      <td>0.0</td>\n",
              "      <td>0.0</td>\n",
              "      <td>0.473882</td>\n",
              "      <td>0.125</td>\n",
              "      <td>0.0</td>\n",
              "      <td>0.139136</td>\n",
              "      <td>Train</td>\n",
              "      <td>0.500000</td>\n",
              "      <td>...</td>\n",
              "      <td>0.0</td>\n",
              "      <td>0.0</td>\n",
              "      <td>0.0</td>\n",
              "      <td>0.0</td>\n",
              "      <td>0.0</td>\n",
              "      <td>0.0</td>\n",
              "      <td>0.0</td>\n",
              "      <td>0.0</td>\n",
              "      <td>0.0</td>\n",
              "      <td>0.0</td>\n",
              "    </tr>\n",
              "    <tr>\n",
              "      <th>2</th>\n",
              "      <td>3</td>\n",
              "      <td>1.0</td>\n",
              "      <td>1.0</td>\n",
              "      <td>0.0</td>\n",
              "      <td>0.323563</td>\n",
              "      <td>0.000</td>\n",
              "      <td>0.0</td>\n",
              "      <td>0.015469</td>\n",
              "      <td>Train</td>\n",
              "      <td>0.166667</td>\n",
              "      <td>...</td>\n",
              "      <td>0.0</td>\n",
              "      <td>0.0</td>\n",
              "      <td>0.0</td>\n",
              "      <td>0.0</td>\n",
              "      <td>0.0</td>\n",
              "      <td>1.0</td>\n",
              "      <td>0.0</td>\n",
              "      <td>0.0</td>\n",
              "      <td>0.0</td>\n",
              "      <td>0.0</td>\n",
              "    </tr>\n",
              "    <tr>\n",
              "      <th>3</th>\n",
              "      <td>4</td>\n",
              "      <td>1.0</td>\n",
              "      <td>0.0</td>\n",
              "      <td>0.0</td>\n",
              "      <td>0.436302</td>\n",
              "      <td>0.125</td>\n",
              "      <td>0.0</td>\n",
              "      <td>0.103644</td>\n",
              "      <td>Train</td>\n",
              "      <td>0.500000</td>\n",
              "      <td>...</td>\n",
              "      <td>0.0</td>\n",
              "      <td>0.0</td>\n",
              "      <td>0.0</td>\n",
              "      <td>0.0</td>\n",
              "      <td>0.0</td>\n",
              "      <td>0.0</td>\n",
              "      <td>0.0</td>\n",
              "      <td>0.0</td>\n",
              "      <td>0.0</td>\n",
              "      <td>0.0</td>\n",
              "    </tr>\n",
              "    <tr>\n",
              "      <th>4</th>\n",
              "      <td>5</td>\n",
              "      <td>0.0</td>\n",
              "      <td>1.0</td>\n",
              "      <td>1.0</td>\n",
              "      <td>0.436302</td>\n",
              "      <td>0.000</td>\n",
              "      <td>0.0</td>\n",
              "      <td>0.015713</td>\n",
              "      <td>Train</td>\n",
              "      <td>0.333333</td>\n",
              "      <td>...</td>\n",
              "      <td>0.0</td>\n",
              "      <td>0.0</td>\n",
              "      <td>0.0</td>\n",
              "      <td>0.0</td>\n",
              "      <td>0.0</td>\n",
              "      <td>0.0</td>\n",
              "      <td>0.0</td>\n",
              "      <td>0.0</td>\n",
              "      <td>0.0</td>\n",
              "      <td>0.0</td>\n",
              "    </tr>\n",
              "  </tbody>\n",
              "</table>\n",
              "<p>5 rows × 59 columns</p>\n",
              "</div>\n",
              "    <div class=\"colab-df-buttons\">\n",
              "\n",
              "  <div class=\"colab-df-container\">\n",
              "    <button class=\"colab-df-convert\" onclick=\"convertToInteractive('df-8cb960cc-5fd9-4ff2-b677-a98cd93bfa70')\"\n",
              "            title=\"Convert this dataframe to an interactive table.\"\n",
              "            style=\"display:none;\">\n",
              "\n",
              "  <svg xmlns=\"http://www.w3.org/2000/svg\" height=\"24px\" viewBox=\"0 -960 960 960\">\n",
              "    <path d=\"M120-120v-720h720v720H120Zm60-500h600v-160H180v160Zm220 220h160v-160H400v160Zm0 220h160v-160H400v160ZM180-400h160v-160H180v160Zm440 0h160v-160H620v160ZM180-180h160v-160H180v160Zm440 0h160v-160H620v160Z\"/>\n",
              "  </svg>\n",
              "    </button>\n",
              "\n",
              "  <style>\n",
              "    .colab-df-container {\n",
              "      display:flex;\n",
              "      gap: 12px;\n",
              "    }\n",
              "\n",
              "    .colab-df-convert {\n",
              "      background-color: #E8F0FE;\n",
              "      border: none;\n",
              "      border-radius: 50%;\n",
              "      cursor: pointer;\n",
              "      display: none;\n",
              "      fill: #1967D2;\n",
              "      height: 32px;\n",
              "      padding: 0 0 0 0;\n",
              "      width: 32px;\n",
              "    }\n",
              "\n",
              "    .colab-df-convert:hover {\n",
              "      background-color: #E2EBFA;\n",
              "      box-shadow: 0px 1px 2px rgba(60, 64, 67, 0.3), 0px 1px 3px 1px rgba(60, 64, 67, 0.15);\n",
              "      fill: #174EA6;\n",
              "    }\n",
              "\n",
              "    .colab-df-buttons div {\n",
              "      margin-bottom: 4px;\n",
              "    }\n",
              "\n",
              "    [theme=dark] .colab-df-convert {\n",
              "      background-color: #3B4455;\n",
              "      fill: #D2E3FC;\n",
              "    }\n",
              "\n",
              "    [theme=dark] .colab-df-convert:hover {\n",
              "      background-color: #434B5C;\n",
              "      box-shadow: 0px 1px 3px 1px rgba(0, 0, 0, 0.15);\n",
              "      filter: drop-shadow(0px 1px 2px rgba(0, 0, 0, 0.3));\n",
              "      fill: #FFFFFF;\n",
              "    }\n",
              "  </style>\n",
              "\n",
              "    <script>\n",
              "      const buttonEl =\n",
              "        document.querySelector('#df-8cb960cc-5fd9-4ff2-b677-a98cd93bfa70 button.colab-df-convert');\n",
              "      buttonEl.style.display =\n",
              "        google.colab.kernel.accessAllowed ? 'block' : 'none';\n",
              "\n",
              "      async function convertToInteractive(key) {\n",
              "        const element = document.querySelector('#df-8cb960cc-5fd9-4ff2-b677-a98cd93bfa70');\n",
              "        const dataTable =\n",
              "          await google.colab.kernel.invokeFunction('convertToInteractive',\n",
              "                                                    [key], {});\n",
              "        if (!dataTable) return;\n",
              "\n",
              "        const docLinkHtml = 'Like what you see? Visit the ' +\n",
              "          '<a target=\"_blank\" href=https://colab.research.google.com/notebooks/data_table.ipynb>data table notebook</a>'\n",
              "          + ' to learn more about interactive tables.';\n",
              "        element.innerHTML = '';\n",
              "        dataTable['output_type'] = 'display_data';\n",
              "        await google.colab.output.renderOutput(dataTable, element);\n",
              "        const docLink = document.createElement('div');\n",
              "        docLink.innerHTML = docLinkHtml;\n",
              "        element.appendChild(docLink);\n",
              "      }\n",
              "    </script>\n",
              "  </div>\n",
              "\n",
              "\n",
              "<div id=\"df-1ade290f-9bff-4711-af49-bb3d5bb27729\">\n",
              "  <button class=\"colab-df-quickchart\" onclick=\"quickchart('df-1ade290f-9bff-4711-af49-bb3d5bb27729')\"\n",
              "            title=\"Suggest charts.\"\n",
              "            style=\"display:none;\">\n",
              "\n",
              "<svg xmlns=\"http://www.w3.org/2000/svg\" height=\"24px\"viewBox=\"0 0 24 24\"\n",
              "     width=\"24px\">\n",
              "    <g>\n",
              "        <path d=\"M19 3H5c-1.1 0-2 .9-2 2v14c0 1.1.9 2 2 2h14c1.1 0 2-.9 2-2V5c0-1.1-.9-2-2-2zM9 17H7v-7h2v7zm4 0h-2V7h2v10zm4 0h-2v-4h2v4z\"/>\n",
              "    </g>\n",
              "</svg>\n",
              "  </button>\n",
              "\n",
              "<style>\n",
              "  .colab-df-quickchart {\n",
              "    background-color: #E8F0FE;\n",
              "    border: none;\n",
              "    border-radius: 50%;\n",
              "    cursor: pointer;\n",
              "    display: none;\n",
              "    fill: #1967D2;\n",
              "    height: 32px;\n",
              "    padding: 0 0 0 0;\n",
              "    width: 32px;\n",
              "  }\n",
              "\n",
              "  .colab-df-quickchart:hover {\n",
              "    background-color: #E2EBFA;\n",
              "    box-shadow: 0px 1px 2px rgba(60, 64, 67, 0.3), 0px 1px 3px 1px rgba(60, 64, 67, 0.15);\n",
              "    fill: #174EA6;\n",
              "  }\n",
              "\n",
              "  [theme=dark] .colab-df-quickchart {\n",
              "    background-color: #3B4455;\n",
              "    fill: #D2E3FC;\n",
              "  }\n",
              "\n",
              "  [theme=dark] .colab-df-quickchart:hover {\n",
              "    background-color: #434B5C;\n",
              "    box-shadow: 0px 1px 3px 1px rgba(0, 0, 0, 0.15);\n",
              "    filter: drop-shadow(0px 1px 2px rgba(0, 0, 0, 0.3));\n",
              "    fill: #FFFFFF;\n",
              "  }\n",
              "</style>\n",
              "\n",
              "  <script>\n",
              "    async function quickchart(key) {\n",
              "      const charts = await google.colab.kernel.invokeFunction(\n",
              "          'suggestCharts', [key], {});\n",
              "    }\n",
              "    (() => {\n",
              "      let quickchartButtonEl =\n",
              "        document.querySelector('#df-1ade290f-9bff-4711-af49-bb3d5bb27729 button');\n",
              "      quickchartButtonEl.style.display =\n",
              "        google.colab.kernel.accessAllowed ? 'block' : 'none';\n",
              "    })();\n",
              "  </script>\n",
              "</div>\n",
              "    </div>\n",
              "  </div>\n"
            ]
          },
          "metadata": {},
          "execution_count": 56
        }
      ]
    },
    {
      "cell_type": "markdown",
      "source": [
        "### 모델 학습\n",
        "\n",
        "* 피처 선택\n",
        "* Train, Test 데이터 분할\n",
        "* 모델 학습"
      ],
      "metadata": {
        "id": "VVEj_6LxoMXs"
      }
    },
    {
      "cell_type": "markdown",
      "source": [
        "1) 피처 선택\n",
        "\n",
        "모델 학습에 사용할 피처를 선택한다. 총 54개 이다."
      ],
      "metadata": {
        "id": "cmSL5wrO1SAL"
      }
    },
    {
      "cell_type": "code",
      "source": [
        "data.columns"
      ],
      "metadata": {
        "id": "RN1Gunj4nWsd",
        "colab": {
          "base_uri": "https://localhost:8080/"
        },
        "outputId": "2d5a018c-d69e-43d4-e044-10f1a872b6ed"
      },
      "execution_count": null,
      "outputs": [
        {
          "output_type": "execute_result",
          "data": {
            "text/plain": [
              "Index(['PassengerId', 'Survived', 'Pclass', 'Sex', 'Age', 'SibSp', 'Parch',\n",
              "       'Fare', 'TrainSplit', 'Title', 'AgeBin', 'FamilySize', 'FareLog',\n",
              "       'Emb_Q', 'Emb_S', 'Cab_B', 'Cab_C', 'Cab_D', 'Cab_E', 'Cab_F', 'Cab_G',\n",
              "       'Cab_T', 'Cab_U', 'Tic_A4', 'Tic_A5', 'Tic_AQ3', 'Tic_AQ4', 'Tic_AS',\n",
              "       'Tic_C', 'Tic_CA', 'Tic_CASOTON', 'Tic_FC', 'Tic_FCC', 'Tic_Fa',\n",
              "       'Tic_LINE', 'Tic_LP', 'Tic_NUM', 'Tic_PC', 'Tic_PP', 'Tic_PPP',\n",
              "       'Tic_SC', 'Tic_SCA3', 'Tic_SCA4', 'Tic_SCAH', 'Tic_SCOW', 'Tic_SCPARIS',\n",
              "       'Tic_SCParis', 'Tic_SOC', 'Tic_SOP', 'Tic_SOPP', 'Tic_SOTONO2',\n",
              "       'Tic_SOTONOQ', 'Tic_SP', 'Tic_STONO', 'Tic_STONO2', 'Tic_STONOQ',\n",
              "       'Tic_SWPP', 'Tic_WC', 'Tic_WEP'],\n",
              "      dtype='object')"
            ]
          },
          "metadata": {},
          "execution_count": 57
        }
      ]
    },
    {
      "cell_type": "code",
      "source": [
        "selected_features = ['Pclass', 'Sex', 'SibSp', 'Parch',\n",
        "                    'Title', 'AgeBin', 'FamilySize', 'FareLog',\n",
        "                    'Emb_Q', 'Emb_S', 'Cab_B', 'Cab_C', 'Cab_D', 'Cab_E', 'Cab_F', 'Cab_G',\n",
        "                    'Cab_T', 'Cab_U', 'Tic_A4', 'Tic_A5', 'Tic_AQ3', 'Tic_AQ4', 'Tic_AS',\n",
        "                    'Tic_C', 'Tic_CA', 'Tic_CASOTON', 'Tic_FC', 'Tic_FCC', 'Tic_Fa',\n",
        "                    'Tic_LINE', 'Tic_LP', 'Tic_NUM', 'Tic_PC', 'Tic_PP', 'Tic_PPP',\n",
        "                    'Tic_SC', 'Tic_SCA3', 'Tic_SCA4', 'Tic_SCAH', 'Tic_SCOW', 'Tic_SCPARIS',\n",
        "                    'Tic_SCParis', 'Tic_SOC', 'Tic_SOP', 'Tic_SOPP', 'Tic_SOTONO2',\n",
        "                    'Tic_SOTONOQ', 'Tic_SP', 'Tic_STONO', 'Tic_STONO2', 'Tic_STONOQ',\n",
        "                    'Tic_SWPP', 'Tic_WC', 'Tic_WEP']\n",
        "\n",
        "len(selected_features)"
      ],
      "metadata": {
        "colab": {
          "base_uri": "https://localhost:8080/"
        },
        "id": "FazwMTRp0dPh",
        "outputId": "408b08e9-4f85-41dc-c2bf-41396bec9b42"
      },
      "execution_count": null,
      "outputs": [
        {
          "output_type": "execute_result",
          "data": {
            "text/plain": [
              "54"
            ]
          },
          "metadata": {},
          "execution_count": 58
        }
      ]
    },
    {
      "cell_type": "markdown",
      "source": [
        "2) Train, Test 데이터 분할  \n",
        "\n",
        "TrainSplit 열의 데이터를 기준으로 필터링하여, **1) 모델 학습에 사용할 데이터**와 **2) 정답을 예측해서 제출해야 하는 테스트 데이터**를 구분한다."
      ],
      "metadata": {
        "id": "HzNsfW042YwP"
      }
    },
    {
      "cell_type": "code",
      "source": [
        "# 학습용 데이터와 예측 대상인 테스트 데이터 구분\n",
        "\n",
        "y_train = data.loc[data['TrainSplit']=='Train', 'Survived']\n",
        "X_train = data.loc[data['TrainSplit']=='Train', selected_features]\n",
        "X_test = data.loc[data['TrainSplit']=='Test', selected_features]\n",
        "\n",
        "print('Train 데이터셋 크기: ', X_train.shape, y_train.shape)\n",
        "print('Test 데이터셋 크기: ', X_test.shape)"
      ],
      "metadata": {
        "colab": {
          "base_uri": "https://localhost:8080/"
        },
        "id": "H18Hr2Q_1FNc",
        "outputId": "f3afb7b7-79eb-4c2b-dff1-4e36ae3b9ca8"
      },
      "execution_count": null,
      "outputs": [
        {
          "output_type": "stream",
          "name": "stdout",
          "text": [
            "Train 데이터셋 크기:  (891, 54) (891,)\n",
            "Test 데이터셋 크기:  (418, 54)\n"
          ]
        }
      ]
    },
    {
      "cell_type": "markdown",
      "source": [
        "3) Train 데이터 (위의 891개) 를 80%의 Train 데이터와 20%의 검증 데이터로 분할"
      ],
      "metadata": {
        "id": "VY4qJ-VS3jVK"
      }
    },
    {
      "cell_type": "code",
      "source": [
        "# 훈련 검증 데이터 분할\n",
        "\n",
        "from sklearn.model_selection import train_test_split\n",
        "\n",
        "X_tr, X_val, y_tr, y_val = train_test_split(X_train, y_train, test_size=0.2,   # 위의 891 개의 train 데이터를 80% 는 모델 학습에 20% 는 검증에 쓰이도록 분할하는 것임\n",
        "                                            shuffle=True, random_state=20)\n",
        "\n",
        "print(\"훈련 데이터셋 크기: \", X_tr.shape, y_tr.shape)\n",
        "print(\"검증 데이터셋 크기: \", X_val.shape, y_val.shape)"
      ],
      "metadata": {
        "colab": {
          "base_uri": "https://localhost:8080/"
        },
        "id": "uWQlTioX1mFM",
        "outputId": "121ed5b2-a816-44b4-d96d-77e686ba82e7"
      },
      "execution_count": null,
      "outputs": [
        {
          "output_type": "stream",
          "name": "stdout",
          "text": [
            "훈련 데이터셋 크기:  (712, 54) (712,)\n",
            "검증 데이터셋 크기:  (179, 54) (179,)\n"
          ]
        }
      ]
    },
    {
      "cell_type": "markdown",
      "source": [
        "4) 모델 학습\n",
        "\n",
        "4)-1. 로지스틱 회귀 (Logistic Regression) 분류 모델\n",
        "\n",
        "훈련 데이터보다 검증 데이터의 점수가 높은 편으로 모델 학습이 더 필요한 과소 적합 상태로 판단된다."
      ],
      "metadata": {
        "id": "0NhZ_MWb4crA"
      }
    },
    {
      "cell_type": "code",
      "source": [
        "# 로지스틱 회귀 모델\n",
        "\n",
        "from sklearn.linear_model import LogisticRegression\n",
        "from sklearn.metrics import accuracy_score\n",
        "from sklearn.metrics import roc_auc_score\n",
        "\n",
        "\n",
        "lr_model = LogisticRegression()\n",
        "lr_model.fit(X_tr, y_tr)\n",
        "\n",
        "y_tr_pred = lr_model.predict(X_tr)\n",
        "\n",
        "print(\"훈련 Accuracy:%.4f\" % accuracy_score(y_tr, y_tr_pred))\n",
        "print(\"훈련 AUC:%.4f\" % roc_auc_score(y_tr, y_tr_pred))\n",
        "\n",
        "y_val_pred = lr_model.predict(X_val)\n",
        "\n",
        "print(\"검증 Accuracy:%.4f\" % accuracy_score(y_val, y_val_pred))\n",
        "print(\"검증 AUC:%.4f\" % roc_auc_score(y_val, y_val_pred))"
      ],
      "metadata": {
        "colab": {
          "base_uri": "https://localhost:8080/"
        },
        "id": "zl62MIVd4IUM",
        "outputId": "2d06b903-4650-47ff-a66d-bf0d5182cfb0"
      },
      "execution_count": null,
      "outputs": [
        {
          "output_type": "stream",
          "name": "stdout",
          "text": [
            "훈련 Accuracy:0.7963\n",
            "훈련 AUC:0.7822\n",
            "검증 Accuracy:0.8380\n",
            "검증 AUC:0.8076\n"
          ]
        }
      ]
    },
    {
      "cell_type": "markdown",
      "source": [
        "테스트 데이터에 대한 예측값을 제출 양식 파일 Survived 열에 입력하고, 저장 경로를 지정하여 csv 파일로 저장한다."
      ],
      "metadata": {
        "id": "a-sOo0zTBvcP"
      }
    },
    {
      "cell_type": "code",
      "source": [
        "# 테스트 데이터 예측 및 제출 파일 저장\n",
        "\n",
        "y_test_pred = lr_model.predict(X_test)\n",
        "\n",
        "submission['Survived'] = y_test_pred.astype(int)\n",
        "submission_filepath = drive_path + 'baseline_lr_submission_001.csv'\n",
        "\n",
        "submission.to_csv(submission_filepath, index=False)"
      ],
      "metadata": {
        "id": "c1hIRmPy52Gq"
      },
      "execution_count": null,
      "outputs": []
    },
    {
      "cell_type": "code",
      "source": [
        "submission.head()"
      ],
      "metadata": {
        "colab": {
          "base_uri": "https://localhost:8080/"
        },
        "id": "2stq9kAIBJCV",
        "outputId": "463d7bdb-ee96-4a5d-81a0-960cb8453b6c"
      },
      "execution_count": null,
      "outputs": [
        {
          "output_type": "execute_result",
          "data": {
            "text/plain": [
              "   PassengerId  Survived\n",
              "0          892         0\n",
              "1          893         0\n",
              "2          894         0\n",
              "3          895         0\n",
              "4          896         0"
            ],
            "text/html": [
              "\n",
              "  <div id=\"df-a5603366-aa81-42fc-8bcd-535e06b42d8d\" class=\"colab-df-container\">\n",
              "    <div>\n",
              "<style scoped>\n",
              "    .dataframe tbody tr th:only-of-type {\n",
              "        vertical-align: middle;\n",
              "    }\n",
              "\n",
              "    .dataframe tbody tr th {\n",
              "        vertical-align: top;\n",
              "    }\n",
              "\n",
              "    .dataframe thead th {\n",
              "        text-align: right;\n",
              "    }\n",
              "</style>\n",
              "<table border=\"1\" class=\"dataframe\">\n",
              "  <thead>\n",
              "    <tr style=\"text-align: right;\">\n",
              "      <th></th>\n",
              "      <th>PassengerId</th>\n",
              "      <th>Survived</th>\n",
              "    </tr>\n",
              "  </thead>\n",
              "  <tbody>\n",
              "    <tr>\n",
              "      <th>0</th>\n",
              "      <td>892</td>\n",
              "      <td>0</td>\n",
              "    </tr>\n",
              "    <tr>\n",
              "      <th>1</th>\n",
              "      <td>893</td>\n",
              "      <td>0</td>\n",
              "    </tr>\n",
              "    <tr>\n",
              "      <th>2</th>\n",
              "      <td>894</td>\n",
              "      <td>0</td>\n",
              "    </tr>\n",
              "    <tr>\n",
              "      <th>3</th>\n",
              "      <td>895</td>\n",
              "      <td>0</td>\n",
              "    </tr>\n",
              "    <tr>\n",
              "      <th>4</th>\n",
              "      <td>896</td>\n",
              "      <td>0</td>\n",
              "    </tr>\n",
              "  </tbody>\n",
              "</table>\n",
              "</div>\n",
              "    <div class=\"colab-df-buttons\">\n",
              "\n",
              "  <div class=\"colab-df-container\">\n",
              "    <button class=\"colab-df-convert\" onclick=\"convertToInteractive('df-a5603366-aa81-42fc-8bcd-535e06b42d8d')\"\n",
              "            title=\"Convert this dataframe to an interactive table.\"\n",
              "            style=\"display:none;\">\n",
              "\n",
              "  <svg xmlns=\"http://www.w3.org/2000/svg\" height=\"24px\" viewBox=\"0 -960 960 960\">\n",
              "    <path d=\"M120-120v-720h720v720H120Zm60-500h600v-160H180v160Zm220 220h160v-160H400v160Zm0 220h160v-160H400v160ZM180-400h160v-160H180v160Zm440 0h160v-160H620v160ZM180-180h160v-160H180v160Zm440 0h160v-160H620v160Z\"/>\n",
              "  </svg>\n",
              "    </button>\n",
              "\n",
              "  <style>\n",
              "    .colab-df-container {\n",
              "      display:flex;\n",
              "      gap: 12px;\n",
              "    }\n",
              "\n",
              "    .colab-df-convert {\n",
              "      background-color: #E8F0FE;\n",
              "      border: none;\n",
              "      border-radius: 50%;\n",
              "      cursor: pointer;\n",
              "      display: none;\n",
              "      fill: #1967D2;\n",
              "      height: 32px;\n",
              "      padding: 0 0 0 0;\n",
              "      width: 32px;\n",
              "    }\n",
              "\n",
              "    .colab-df-convert:hover {\n",
              "      background-color: #E2EBFA;\n",
              "      box-shadow: 0px 1px 2px rgba(60, 64, 67, 0.3), 0px 1px 3px 1px rgba(60, 64, 67, 0.15);\n",
              "      fill: #174EA6;\n",
              "    }\n",
              "\n",
              "    .colab-df-buttons div {\n",
              "      margin-bottom: 4px;\n",
              "    }\n",
              "\n",
              "    [theme=dark] .colab-df-convert {\n",
              "      background-color: #3B4455;\n",
              "      fill: #D2E3FC;\n",
              "    }\n",
              "\n",
              "    [theme=dark] .colab-df-convert:hover {\n",
              "      background-color: #434B5C;\n",
              "      box-shadow: 0px 1px 3px 1px rgba(0, 0, 0, 0.15);\n",
              "      filter: drop-shadow(0px 1px 2px rgba(0, 0, 0, 0.3));\n",
              "      fill: #FFFFFF;\n",
              "    }\n",
              "  </style>\n",
              "\n",
              "    <script>\n",
              "      const buttonEl =\n",
              "        document.querySelector('#df-a5603366-aa81-42fc-8bcd-535e06b42d8d button.colab-df-convert');\n",
              "      buttonEl.style.display =\n",
              "        google.colab.kernel.accessAllowed ? 'block' : 'none';\n",
              "\n",
              "      async function convertToInteractive(key) {\n",
              "        const element = document.querySelector('#df-a5603366-aa81-42fc-8bcd-535e06b42d8d');\n",
              "        const dataTable =\n",
              "          await google.colab.kernel.invokeFunction('convertToInteractive',\n",
              "                                                    [key], {});\n",
              "        if (!dataTable) return;\n",
              "\n",
              "        const docLinkHtml = 'Like what you see? Visit the ' +\n",
              "          '<a target=\"_blank\" href=https://colab.research.google.com/notebooks/data_table.ipynb>data table notebook</a>'\n",
              "          + ' to learn more about interactive tables.';\n",
              "        element.innerHTML = '';\n",
              "        dataTable['output_type'] = 'display_data';\n",
              "        await google.colab.output.renderOutput(dataTable, element);\n",
              "        const docLink = document.createElement('div');\n",
              "        docLink.innerHTML = docLinkHtml;\n",
              "        element.appendChild(docLink);\n",
              "      }\n",
              "    </script>\n",
              "  </div>\n",
              "\n",
              "\n",
              "<div id=\"df-fc5e2c88-851a-4200-843c-00b3c96af0bd\">\n",
              "  <button class=\"colab-df-quickchart\" onclick=\"quickchart('df-fc5e2c88-851a-4200-843c-00b3c96af0bd')\"\n",
              "            title=\"Suggest charts.\"\n",
              "            style=\"display:none;\">\n",
              "\n",
              "<svg xmlns=\"http://www.w3.org/2000/svg\" height=\"24px\"viewBox=\"0 0 24 24\"\n",
              "     width=\"24px\">\n",
              "    <g>\n",
              "        <path d=\"M19 3H5c-1.1 0-2 .9-2 2v14c0 1.1.9 2 2 2h14c1.1 0 2-.9 2-2V5c0-1.1-.9-2-2-2zM9 17H7v-7h2v7zm4 0h-2V7h2v10zm4 0h-2v-4h2v4z\"/>\n",
              "    </g>\n",
              "</svg>\n",
              "  </button>\n",
              "\n",
              "<style>\n",
              "  .colab-df-quickchart {\n",
              "    background-color: #E8F0FE;\n",
              "    border: none;\n",
              "    border-radius: 50%;\n",
              "    cursor: pointer;\n",
              "    display: none;\n",
              "    fill: #1967D2;\n",
              "    height: 32px;\n",
              "    padding: 0 0 0 0;\n",
              "    width: 32px;\n",
              "  }\n",
              "\n",
              "  .colab-df-quickchart:hover {\n",
              "    background-color: #E2EBFA;\n",
              "    box-shadow: 0px 1px 2px rgba(60, 64, 67, 0.3), 0px 1px 3px 1px rgba(60, 64, 67, 0.15);\n",
              "    fill: #174EA6;\n",
              "  }\n",
              "\n",
              "  [theme=dark] .colab-df-quickchart {\n",
              "    background-color: #3B4455;\n",
              "    fill: #D2E3FC;\n",
              "  }\n",
              "\n",
              "  [theme=dark] .colab-df-quickchart:hover {\n",
              "    background-color: #434B5C;\n",
              "    box-shadow: 0px 1px 3px 1px rgba(0, 0, 0, 0.15);\n",
              "    filter: drop-shadow(0px 1px 2px rgba(0, 0, 0, 0.3));\n",
              "    fill: #FFFFFF;\n",
              "  }\n",
              "</style>\n",
              "\n",
              "  <script>\n",
              "    async function quickchart(key) {\n",
              "      const charts = await google.colab.kernel.invokeFunction(\n",
              "          'suggestCharts', [key], {});\n",
              "    }\n",
              "    (() => {\n",
              "      let quickchartButtonEl =\n",
              "        document.querySelector('#df-fc5e2c88-851a-4200-843c-00b3c96af0bd button');\n",
              "      quickchartButtonEl.style.display =\n",
              "        google.colab.kernel.accessAllowed ? 'block' : 'none';\n",
              "    })();\n",
              "  </script>\n",
              "</div>\n",
              "    </div>\n",
              "  </div>\n"
            ]
          },
          "metadata": {},
          "execution_count": 63
        }
      ]
    },
    {
      "cell_type": "markdown",
      "source": [
        "4)-2. 랜덤 포레스트 (Random Forest) 모델\n",
        "\n",
        "이번에는 랜덤 포레스트 모델로 분류해본다."
      ],
      "metadata": {
        "id": "VHuQvsw6B5__"
      }
    },
    {
      "cell_type": "code",
      "source": [
        "# 랜덤 포레스트 모델을 불러와 학습\n",
        "\n",
        "from sklearn.ensemble import RandomForestClassifier\n",
        "\n",
        "rf_model = RandomForestClassifier(random_state=2020)  # 사이킷런에서 랜덤포레스트 모델을 불러옴\n",
        "\n",
        "rf_model.fit(X_train, y_train) # 모델 학습\n",
        "\n",
        "y_test_pred = rf_model.predict(X_test) # 학습된 모델로 테스트 데이터 예측\n",
        "\n",
        "# cross_val_score 함수\n",
        "\n",
        "from sklearn.model_selection import cross_val_score\n",
        "\n",
        "auc_scores = cross_val_score(lr_model, X_train, y_train, cv=5, scoring='roc_auc')\n",
        "\n",
        "print(\"개별 Fold의 AUC 점수:\", np.round(auc_scores, 4))    # 5-Fold 교차 검증으로 AUC 스코어 확인\n",
        "print(\"평균 AUC 점수:\", np.round(np.mean(auc_scores), 4))\n",
        "\n"
      ],
      "metadata": {
        "id": "ene9VXtYCh_E",
        "colab": {
          "base_uri": "https://localhost:8080/"
        },
        "outputId": "8f0b9f34-ea1f-49d2-b3b5-5bf65dc97001"
      },
      "execution_count": null,
      "outputs": [
        {
          "output_type": "stream",
          "name": "stdout",
          "text": [
            "개별 Fold의 AUC 점수: [0.8348 0.816  0.8773 0.8527 0.8716]\n",
            "평균 AUC 점수: 0.8505\n"
          ]
        }
      ]
    },
    {
      "cell_type": "markdown",
      "source": [
        "제출 파일 만들기"
      ],
      "metadata": {
        "id": "WmJ1bJdJ_E_Z"
      }
    },
    {
      "cell_type": "code",
      "source": [
        "submission['Survived'] = y_test_pred.astype(int)\n",
        "\n",
        "submission_filepath = drive_path + 'baseline_rf_submission_001.csv'\n",
        "\n",
        "submission.to_csv(submission_filepath, index=False)"
      ],
      "metadata": {
        "id": "OkpcSocm8MCH"
      },
      "execution_count": null,
      "outputs": []
    },
    {
      "cell_type": "markdown",
      "source": [
        "5) 피처 중요도\n",
        "\n",
        "5)-1. 위 랜덤 포레스트 모델 기준 각 피처의 중요도에 대한 랭킹을 뽑고 이를 시각화 한다."
      ],
      "metadata": {
        "id": "krzq31j5KGRp"
      }
    },
    {
      "cell_type": "code",
      "source": [
        "# 트리기반 알고리즘들은 트리를 나누는 기준이 되는 피처들의 중요도를 측정할 수 있다고 함..\n",
        "\n",
        "importances = rf_model.feature_importances_\n",
        "importances"
      ],
      "metadata": {
        "colab": {
          "base_uri": "https://localhost:8080/"
        },
        "id": "OHQb8BjxECTR",
        "outputId": "291c22e8-9448-4af7-a9aa-c9c348c5d483"
      },
      "execution_count": null,
      "outputs": [
        {
          "output_type": "execute_result",
          "data": {
            "text/plain": [
              "array([5.89008460e-02, 1.87116000e-01, 4.01575355e-02, 2.91276322e-02,\n",
              "       1.27680348e-01, 8.27088228e-02, 5.45056975e-02, 2.31383321e-01,\n",
              "       1.13328740e-02, 2.22710999e-02, 8.35469075e-03, 8.44758499e-03,\n",
              "       9.43804227e-03, 1.00075174e-02, 2.68177657e-03, 1.99516606e-03,\n",
              "       6.91792225e-04, 3.99842177e-02, 5.05461812e-04, 3.62513043e-03,\n",
              "       0.00000000e+00, 0.00000000e+00, 1.23783642e-04, 2.62379083e-03,\n",
              "       5.22515147e-03, 9.99545067e-05, 9.69151369e-04, 7.82848543e-04,\n",
              "       3.30396349e-05, 1.60866605e-03, 0.00000000e+00, 1.53891302e-02,\n",
              "       8.28811233e-03, 7.17296517e-04, 3.30022801e-04, 1.36222831e-04,\n",
              "       0.00000000e+00, 6.37215911e-05, 6.87159981e-04, 3.97693625e-05,\n",
              "       1.77823384e-03, 9.62446600e-04, 1.53745288e-03, 2.27595864e-04,\n",
              "       1.56067158e-03, 1.32689922e-04, 2.62833122e-03, 6.63380848e-05,\n",
              "       6.96126264e-03, 2.25931510e-03, 0.00000000e+00, 7.13249021e-03,\n",
              "       5.40823052e-03, 1.31156308e-03])"
            ]
          },
          "metadata": {},
          "execution_count": 66
        }
      ]
    },
    {
      "cell_type": "code",
      "source": [
        "np.argsort(importances)\n",
        "\n",
        "# 각 피처의 중요도 별로 나열 되어 나옴, 하기 숫자는 importances 의 index 이고, 중요도 순서로 나열되어 있음..\n",
        "# 예를 들어 위 importances 결과값의 21번째 (21번 인덱스) 가 중요도가 가장 하위, importances 결과값의 7번째 (7번 인덱스) 가 중요도가 가장 상위"
      ],
      "metadata": {
        "colab": {
          "base_uri": "https://localhost:8080/"
        },
        "id": "GiOGWTlLFPPW",
        "outputId": "e73498a0-bc2d-4a60-86a6-d13b8c6d4aff"
      },
      "execution_count": null,
      "outputs": [
        {
          "output_type": "execute_result",
          "data": {
            "text/plain": [
              "array([21, 50, 36, 20, 30, 28, 39, 37, 47, 25, 22, 45, 35, 43, 34, 18, 38,\n",
              "       16, 33, 27, 41, 26, 53, 42, 44, 29, 40, 15, 49, 23, 46, 14, 19, 24,\n",
              "       52, 48, 51, 32, 10, 11, 12, 13,  8, 31,  9,  3, 17,  2,  6,  0,  5,\n",
              "        4,  1,  7])"
            ]
          },
          "metadata": {},
          "execution_count": 67
        }
      ]
    },
    {
      "cell_type": "code",
      "source": [
        "len(np.argsort(importances))"
      ],
      "metadata": {
        "colab": {
          "base_uri": "https://localhost:8080/"
        },
        "id": "F9LtYy2CTId9",
        "outputId": "13c9f0ca-75b8-43f8-f100-39ddf8f7f653"
      },
      "execution_count": null,
      "outputs": [
        {
          "output_type": "execute_result",
          "data": {
            "text/plain": [
              "54"
            ]
          },
          "metadata": {},
          "execution_count": 68
        }
      ]
    },
    {
      "cell_type": "code",
      "source": [
        "importances[np.argsort(importances)]\n",
        "\n",
        "# 다시 원래 importances 값으로 돌아오되, 순서대로 나열한 거 같음.."
      ],
      "metadata": {
        "id": "bYjn22zYFnyw",
        "colab": {
          "base_uri": "https://localhost:8080/"
        },
        "outputId": "7c4e24e5-6a8c-4bba-9097-286d5ac1a804"
      },
      "execution_count": null,
      "outputs": [
        {
          "output_type": "execute_result",
          "data": {
            "text/plain": [
              "array([0.00000000e+00, 0.00000000e+00, 0.00000000e+00, 0.00000000e+00,\n",
              "       0.00000000e+00, 3.30396349e-05, 3.97693625e-05, 6.37215911e-05,\n",
              "       6.63380848e-05, 9.99545067e-05, 1.23783642e-04, 1.32689922e-04,\n",
              "       1.36222831e-04, 2.27595864e-04, 3.30022801e-04, 5.05461812e-04,\n",
              "       6.87159981e-04, 6.91792225e-04, 7.17296517e-04, 7.82848543e-04,\n",
              "       9.62446600e-04, 9.69151369e-04, 1.31156308e-03, 1.53745288e-03,\n",
              "       1.56067158e-03, 1.60866605e-03, 1.77823384e-03, 1.99516606e-03,\n",
              "       2.25931510e-03, 2.62379083e-03, 2.62833122e-03, 2.68177657e-03,\n",
              "       3.62513043e-03, 5.22515147e-03, 5.40823052e-03, 6.96126264e-03,\n",
              "       7.13249021e-03, 8.28811233e-03, 8.35469075e-03, 8.44758499e-03,\n",
              "       9.43804227e-03, 1.00075174e-02, 1.13328740e-02, 1.53891302e-02,\n",
              "       2.22710999e-02, 2.91276322e-02, 3.99842177e-02, 4.01575355e-02,\n",
              "       5.45056975e-02, 5.89008460e-02, 8.27088228e-02, 1.27680348e-01,\n",
              "       1.87116000e-01, 2.31383321e-01])"
            ]
          },
          "metadata": {},
          "execution_count": 69
        }
      ]
    },
    {
      "cell_type": "code",
      "source": [
        "selected_features[7]"
      ],
      "metadata": {
        "colab": {
          "base_uri": "https://localhost:8080/"
        },
        "id": "aqyAWriOn7jt",
        "outputId": "b75c5b7a-b3f0-4d66-cfd0-5850457daa1d"
      },
      "execution_count": null,
      "outputs": [
        {
          "output_type": "execute_result",
          "data": {
            "text/plain": [
              "'FareLog'"
            ],
            "application/vnd.google.colaboratory.intrinsic+json": {
              "type": "string"
            }
          },
          "metadata": {},
          "execution_count": 70
        }
      ]
    },
    {
      "cell_type": "code",
      "source": [
        "def plot_importances(model, features):\n",
        "  importances = model.feature_importances_\n",
        "  indices = np.argsort(importances)\n",
        "  feature_names = [features[i] for i in indices]\n",
        "  feature_imp = importances[indices]\n",
        "\n",
        "  plt.figure(figsize=(10, 12))\n",
        "  plt.title('Feature Importance')\n",
        "  plt.barh(range(len(indices)), feature_imp, align='center')\n",
        "  plt.yticks(range(len(indices)), feature_names)\n",
        "  plt.xlabel('Relative Importance')\n",
        "\n",
        "  print('피처:', list(reversed(feature_names)))\n",
        "  print('중요도:', list(reversed(feature_imp)))\n",
        "\n",
        "  return list(reversed(feature_names)), list(reversed(feature_imp))"
      ],
      "metadata": {
        "id": "lNzTgtcyHysd"
      },
      "execution_count": null,
      "outputs": []
    },
    {
      "cell_type": "code",
      "source": [
        "# 위 함수 plot_importances 의 결과값으로 나온 feature_naems 리버스 리스트와, feature_imp 리버스 리스트를 각각 imp_features 와 imp scores 개체에 할당\n",
        "\n",
        "imp_features, imp_scores = plot_importances(rf_model, selected_features)"
      ],
      "metadata": {
        "colab": {
          "base_uri": "https://localhost:8080/"
        },
        "id": "Oktu31aMK_Qb",
        "outputId": "1fd0d474-2dcb-45cb-8c31-89866714a22f"
      },
      "execution_count": null,
      "outputs": [
        {
          "output_type": "stream",
          "name": "stdout",
          "text": [
            "피처: ['FareLog', 'Sex', 'Title', 'AgeBin', 'Pclass', 'FamilySize', 'SibSp', 'Cab_U', 'Parch', 'Emb_S', 'Tic_NUM', 'Emb_Q', 'Cab_E', 'Cab_D', 'Cab_C', 'Cab_B', 'Tic_PC', 'Tic_SWPP', 'Tic_STONO', 'Tic_WC', 'Tic_CA', 'Tic_A5', 'Cab_F', 'Tic_SOTONOQ', 'Tic_C', 'Tic_STONO2', 'Cab_G', 'Tic_SCPARIS', 'Tic_LINE', 'Tic_SOPP', 'Tic_SOC', 'Tic_WEP', 'Tic_FC', 'Tic_SCParis', 'Tic_FCC', 'Tic_PP', 'Cab_T', 'Tic_SCAH', 'Tic_A4', 'Tic_PPP', 'Tic_SOP', 'Tic_SC', 'Tic_SOTONO2', 'Tic_AS', 'Tic_CASOTON', 'Tic_SP', 'Tic_SCA4', 'Tic_SCOW', 'Tic_Fa', 'Tic_LP', 'Tic_AQ3', 'Tic_SCA3', 'Tic_STONOQ', 'Tic_AQ4']\n",
            "중요도: [0.23138332085663144, 0.18711600012961585, 0.12768034759386934, 0.08270882282916771, 0.05890084604476724, 0.054505697480394036, 0.04015753548139736, 0.03998421772540461, 0.029127632191902432, 0.022271099937762672, 0.01538913020862933, 0.011332874022413777, 0.010007517397565464, 0.00943804227094573, 0.008447584988054181, 0.00835469075007628, 0.008288112331411893, 0.007132490208685476, 0.006961262636277451, 0.005408230521852099, 0.005225151473773039, 0.003625130425787447, 0.0026817765698497528, 0.0026283312207207137, 0.002623790827150807, 0.0022593151016857536, 0.0019951660647620365, 0.001778233837312893, 0.0016086660481410692, 0.0015606715841603694, 0.001537452876171826, 0.0013115630759887595, 0.0009691513689877099, 0.000962446599657287, 0.0007828485433099403, 0.0007172965166138567, 0.0006917922249149812, 0.0006871599807265949, 0.0005054618124258253, 0.0003300228013556756, 0.00022759586416687768, 0.00013622283139838284, 0.00013268992187549282, 0.00012378364234656123, 9.995450668832282e-05, 6.633808476512187e-05, 6.372159109092785e-05, 3.976936246966745e-05, 3.303963487786992e-05, 0.0, 0.0, 0.0, 0.0, 0.0]\n"
          ]
        },
        {
          "output_type": "display_data",
          "data": {
            "text/plain": [
              "<Figure size 1000x1200 with 1 Axes>"
            ],
            "image/png": "[encoded data removed]"
          },
          "metadata": {}
        }
      ]
    },
    {
      "cell_type": "markdown",
      "source": [
        "5)-2. 위 에서 랭킹화한 중요한 피처 중 일부를 가지고 다시 모델 학습\n",
        "\n",
        "* 위 랭킹 중 상위 10개 피처만 다시 선택"
      ],
      "metadata": {
        "id": "FUwx2mJPU15_"
      }
    },
    {
      "cell_type": "code",
      "source": [
        "selected_features = imp_features[:10]\n",
        "\n",
        "y_train = data.loc[data['TrainSplit']=='Train', 'Survived']\n",
        "X_train = data.loc[data['TrainSplit']=='Train', selected_features]\n",
        "\n",
        "X_test = data.loc[data['TrainSplit']=='Test', selected_features]\n",
        "\n",
        "print('Train 데이터셋 크기:', X_train.shape, y_train.shape)\n",
        "print('Test 데이터셋 크기:', X_test.shape)\n"
      ],
      "metadata": {
        "colab": {
          "base_uri": "https://localhost:8080/"
        },
        "id": "B61FFlkoLWqk",
        "outputId": "a7b328c9-46cd-47da-8ceb-c7254d8cf040"
      },
      "execution_count": null,
      "outputs": [
        {
          "output_type": "stream",
          "name": "stdout",
          "text": [
            "Train 데이터셋 크기: (891, 10) (891,)\n",
            "Test 데이터셋 크기: (418, 10)\n"
          ]
        }
      ]
    },
    {
      "cell_type": "markdown",
      "source": [
        "* 선택한 10개의 피처만을 가지고 **랜덤 포레스트 모델을 같은 조건에서 재학습**"
      ],
      "metadata": {
        "id": "9wSWZ6ma6Wc7"
      }
    },
    {
      "cell_type": "code",
      "source": [
        "# 랜덤 포레스트로 선택한 10개의 피처만을 가지고 재학습\n",
        "\n",
        "from sklearn.ensemble import RandomForestClassifier\n",
        "from sklearn.model_selection import cross_val_score\n",
        "\n",
        "rf_model = RandomForestClassifier(random_state=2020)\n",
        "\n",
        "# 교차 검증\n",
        "auc_scores = cross_val_score(rf_model, X_train, y_train, cv=5, scoring='roc_auc')\n",
        "\n",
        "print('개별 Fold의 AUC 점수:', np.round(auc_scores, 4))\n",
        "print('평균 AUC 점수:', np.round(np.mean(auc_scores), 4))\n",
        "\n",
        "# 모델 훈련 및 예측\n",
        "rf_model.fit(X_train, y_train)\n",
        "y_test_pred = rf_model.predict(X_test)\n",
        "\n",
        "# 제출\n",
        "submission['Survived'] = y_test_pred.astype(int)\n",
        "submission_filepath = drive_path + 'baseline_rf_submission_002.csv'\n",
        "submission.to_csv(submission_filepath, index=False)\n"
      ],
      "metadata": {
        "colab": {
          "base_uri": "https://localhost:8080/"
        },
        "id": "kuj0E8H3VLkX",
        "outputId": "e8903958-95cd-46f9-bc74-80c0701943c6"
      },
      "execution_count": null,
      "outputs": [
        {
          "output_type": "stream",
          "name": "stdout",
          "text": [
            "개별 Fold의 AUC 점수: [0.8679 0.8084 0.9028 0.8426 0.8849]\n",
            "평균 AUC 점수: 0.8613\n"
          ]
        }
      ]
    },
    {
      "cell_type": "markdown",
      "source": [
        "* 선택한 10개의 피처만을 가지고 **XGBoost 모델을 같은 조건에서 재학습**"
      ],
      "metadata": {
        "id": "FRBWR6_sHFp4"
      }
    },
    {
      "cell_type": "code",
      "source": [
        "# XGBoost 로 선택한 10개의 피처만을 가지고 재학습\n",
        "\n",
        "from xgboost import XGBClassifier\n",
        "\n",
        "xgb_model = XGBClassifier(max_depth = 3, random_state=2020)\n",
        "\n",
        "# 교차 검증\n",
        "auc_scores = cross_val_score(xgb_model, X_train, y_train, cv=3, scoring='roc_auc')\n",
        "\n",
        "print('개별 Fold의 AUC 점수:', np.round(auc_scores, 4))\n",
        "print('평균 AUC 점수:', np.round(np.mean(auc_scores), 4))\n",
        "\n",
        "# 모델 훈련 및 예측\n",
        "xgb_model.fit(X_train, y_train)\n",
        "y_test_pred = xgb_model.predict(X_test)\n",
        "\n",
        "# 제출\n",
        "submission['Survived'] = y_test_pred.astype(int)\n",
        "submission_filepath = drive_path + 'baseline_xgb_submission_001.csv'\n",
        "submission.to_csv(submission_filepath, index=False)\n"
      ],
      "metadata": {
        "colab": {
          "base_uri": "https://localhost:8080/"
        },
        "id": "dwvN4DrW7YtL",
        "outputId": "9f5e70f0-7116-4264-93ce-f5d0e5e39e6b"
      },
      "execution_count": null,
      "outputs": [
        {
          "output_type": "stream",
          "name": "stdout",
          "text": [
            "개별 Fold의 AUC 점수: [0.8281 0.8879 0.894 ]\n",
            "평균 AUC 점수: 0.87\n"
          ]
        }
      ]
    },
    {
      "cell_type": "markdown",
      "source": [
        "5)-3. 분류 확률값\n",
        "* 분류 레이블 (사망 0, 생존 1) 이 아닌 생존으로 분류할 확률값 (0~1) 예측 하기\n",
        "* predict_proba 사용"
      ],
      "metadata": {
        "id": "zlqhG_UFG51Y"
      }
    },
    {
      "cell_type": "code",
      "source": [
        "# 확률값 예측\n",
        "\n",
        "y_xgb_proba = xgb_model.predict_proba(X_test)[:, 1] # 위의 xgboost 모델로 분류 확률값 예측하여 y_xgb_proba 개체에 할당\n",
        "y_rf_proba = rf_model.predict_proba(X_test)[:, 1]   # 위의 random forest 모델로 분류 확률값 예측하여 y_rf_proba 개체에 할당\n",
        "\n",
        "# 앙상블 기법\n",
        "\n",
        "y_proba = (y_xgb_proba + y_rf_proba) / 2\n",
        "\n",
        "\n",
        "# 제출\n",
        "submission['Survived'] = y_proba\n",
        "\n",
        "submission_filepath = drive_path + 'baseline_proba_submission_001.csv'\n",
        "submission.to_csv(submission_filepath, index=False)\n"
      ],
      "metadata": {
        "id": "y7efNexbG4uB"
      },
      "execution_count": null,
      "outputs": []
    }
  ]
}